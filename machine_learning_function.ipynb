{
 "cells": [
  {
   "cell_type": "code",
   "execution_count": 126,
   "id": "dc44d1fe",
   "metadata": {},
   "outputs": [],
   "source": [
    "library(caret) #sample\n",
    "library(nnet) #인공신경망 , 다항 로지스틱 회귀분석\n",
    "library(e1071) # svm\n",
    "library(randomForest) # randomForest\n",
    "library(party) # 의사결정나무 ctree\n",
    "\n",
    "\n"
   ]
  },
  {
   "cell_type": "code",
   "execution_count": 166,
   "id": "b15b0ddb",
   "metadata": {},
   "outputs": [],
   "source": [
    "#입력 데이터, 정규화할 컬럼인덱스 벡터\n",
    "fun_x <- function(f_df,cindex,targetcol){\n",
    "    \n",
    "# 표준화\n",
    "\n",
    "f_df2 <- f_df\n",
    "f_df2[,cindex] <- as.data.frame(scale(f_df[,cindex]))\n",
    "\n",
    "# 샘플나누기\n",
    "\n",
    "tindex = 0\n",
    "for(i in 1:ncol(f_df2)){\n",
    "    if(colnames(f_df2)[i] == targetcol){\n",
    "        tindex = i\n",
    "    }\n",
    "}\n",
    "    \n",
    "sampling <- function(){\n",
    "samp <<- createDataPartition(f_df2[,tindex] , p = 0.7,list = F)\n",
    "data.tr <<- f_df2[samp,]\n",
    "data.test <<- f_df2[-samp,]\n",
    "\n",
    "x <<- data.test[,-tindex]\n",
    "y <<- data.test[,tindex]\n",
    "    \n",
    "}    \n",
    "\n",
    "sampling() \n",
    "head(samp)\n",
    "\n",
    "#인공신경망 테스트\n",
    "ANN <- function(data.tr , data.test , x , y ){\n",
    "    \n",
    "    model.nnet <- nnet(cluster ~ . , data=data.tr, size = 3)\n",
    "    pred <- predict(model.nnet , x , type = \"class\")\n",
    "    cat(\"예측력\" ,mean(pred == y), \"입니다.\")\n",
    "    print(pred)\n",
    "    \n",
    "    table(pred,y)\n",
    "    return(mean(pred == y))\n",
    "}\n",
    "\n",
    "# ANN(data.tr , data.test , x , y )\n",
    "\n",
    "#의사결정 나무 \n",
    "CTREE <-function(data.tr , data.test , x , y ){\n",
    "    model.ctree <- ctree(cluster ~ . , data=data.tr)\n",
    "    pred <- predict(model.ctree , x )\n",
    "    cat(\"예측력\" ,mean(pred == y), \"입니다.\")\n",
    "    table(pred,y)\n",
    "    return(mean(pred == y))\n",
    "}\n",
    "\n",
    "#  CTREE(data.tr , data.test , x , y )\n",
    "\n",
    "#RandomForesst\n",
    "RandomForest<-function(data.tr , data.test , x , y ){\n",
    "    model.rf <- randomForest(cluster ~ . , data=data.tr, ntree = 100)\n",
    "    pred <- predict(model.rf , x )\n",
    "    cat(\"예측력\" ,mean(pred == y), \"입니다.\")\n",
    "    table(pred,y)\n",
    "    return(mean(pred == y))\n",
    "} \n",
    "\n",
    "#SVM\n",
    "SVM <-function(data.tr , data.test , x , y ){\n",
    "    model.svm <- svm(cluster ~ . , data=data.tr)\n",
    "    pred <- predict(model.svm , x )\n",
    "    cat(\"예측력\" ,mean(pred == y), \"입니다.\")\n",
    "    table(pred,y)\n",
    "    return(mean(pred == y))\n",
    "} \n",
    "\n",
    "#Logistic regression\n",
    "Logisticreg <-function(data.tr , data.test , x , y ){\n",
    "    model.log <- multinom(cluster ~ . , data=data.tr)\n",
    "    pred <- predict(model.log , x )\n",
    "    cat(\"예측력\" ,mean(pred == y), \"입니다.\")\n",
    "    table(pred,y)\n",
    "    return(mean(pred == y))\n",
    "} \n",
    "\n",
    "# a <- rep(0,5)\n",
    "a <- rep(0,4)\n",
    "iteration <- 5\n",
    "for(i in 1:iteration){\n",
    "    \n",
    "    a = a + c(\n",
    "            ANN(data.tr , data.test , x , y ),\n",
    "            CTREE(data.tr , data.test , x , y ),\n",
    "#             RandomForest(data.tr , data.test , x , y ),\n",
    "            SVM(data.tr , data.test , x , y ),\n",
    "            Logisticreg(data.tr , data.test , x , y )\n",
    "    )\n",
    "    \n",
    "}\n",
    "a<- a/iteration\n",
    "\n",
    "result<-data.frame(예측력 = a)\n",
    "# rownames(result) = c(\"인공신경망\",\"의사결정나무\",\"RandomForest\",\"SVM\",\"로지스틱회귀분석\")\n",
    "rownames(result) = c(\"인공신경망\",\"의사결정나무\",\"SVM\",\"로지스틱회귀분석\")\n",
    "result\n",
    "}\n"
   ]
  },
  {
   "cell_type": "code",
   "execution_count": 195,
   "id": "a3cebb59",
   "metadata": {},
   "outputs": [],
   "source": [
    "df<-read.csv(\"./movies/new_movie_ver8.csv\")"
   ]
  },
  {
   "cell_type": "code",
   "execution_count": 196,
   "id": "da420d91",
   "metadata": {},
   "outputs": [
    {
     "data": {
      "text/html": [
       "<table>\n",
       "<thead><tr><th scope=col>영화명</th><th scope=col>누적매출액</th><th scope=col>누적관객수</th><th scope=col>스크린수</th><th scope=col>상영횟수</th><th scope=col>개봉일</th><th scope=col>배급사</th><th scope=col>등급</th><th scope=col>장르</th><th scope=col>감독</th><th scope=col>배우</th><th scope=col>제작사</th><th scope=col>cluster</th><th scope=col>감독_배우</th></tr></thead>\n",
       "<tbody>\n",
       "\t<tr><td>1987                                              </td><td>58169776145                                       </td><td>7232387                                           </td><td>1299                                              </td><td>138226                                            </td><td>2017-12-27                                        </td><td>CJ ENM                                            </td><td>15세이상관람가                                    </td><td>드라마                                            </td><td>장준환                                            </td><td>김윤석                                            </td><td>(주)우정필름                                      </td><td>3                                                 </td><td>유해진                                            </td></tr>\n",
       "\t<tr><td>1987                                              </td><td>58169776145                                       </td><td>7232387                                           </td><td>1299                                              </td><td>138226                                            </td><td>2017-12-27                                        </td><td>CJ ENM                                            </td><td>15세이상관람가                                    </td><td>드라마                                            </td><td>장준환                                            </td><td>하정우                                            </td><td>(주)우정필름                                      </td><td>3                                                 </td><td>유해진                                            </td></tr>\n",
       "\t<tr><td>7급 공무원                                        </td><td>26380710000                                       </td><td>4039891                                           </td><td> 475                                              </td><td> 90779                                            </td><td>2009-04-22                                        </td><td>롯데쇼핑㈜롯데엔터테인먼트                        </td><td>12세이상관람가                                    </td><td>코미디,액션,드라마,범죄                           </td><td>신태라                                            </td><td>김하늘                                            </td><td>(주)하리마오픽쳐스,(주)영화사수작,(주)디씨지플러스</td><td>1                                                 </td><td>                                                  </td></tr>\n",
       "\t<tr><td>7급 공무원                                        </td><td>26380710000                                       </td><td>4039891                                           </td><td> 475                                              </td><td> 90779                                            </td><td>2009-04-22                                        </td><td>롯데쇼핑㈜롯데엔터테인먼트                        </td><td>12세이상관람가                                    </td><td>코미디,액션,드라마,범죄                           </td><td>신태라                                            </td><td>강지환                                            </td><td>(주)하리마오픽쳐스,(주)영화사수작,(주)디씨지플러스</td><td>1                                                 </td><td>                                                  </td></tr>\n",
       "\t<tr><td>82년생 김지영                                     </td><td>30298542310                                       </td><td>3678156                                           </td><td>1486                                              </td><td>145441                                            </td><td>2019-10-23                                        </td><td>롯데컬처웍스(주)롯데엔터테인먼트                  </td><td>12세이상관람가                                    </td><td>드라마                                            </td><td>김도영                                            </td><td>정유미                                            </td><td>(주)봄바람영화사                                  </td><td>1                                                 </td><td>                                                  </td></tr>\n",
       "\t<tr><td>82년생 김지영                                     </td><td>30298542310                                       </td><td>3678156                                           </td><td>1486                                              </td><td>145441                                            </td><td>2019-10-23                                        </td><td>롯데컬처웍스(주)롯데엔터테인먼트                  </td><td>12세이상관람가                                    </td><td>드라마                                            </td><td>김도영                                            </td><td>공유                                              </td><td>(주)봄바람영화사                                  </td><td>1                                                 </td><td>                                                  </td></tr>\n",
       "</tbody>\n",
       "</table>\n"
      ],
      "text/latex": [
       "\\begin{tabular}{r|llllllllllllll}\n",
       " 영화명 & 누적매출액 & 누적관객수 & 스크린수 & 상영횟수 & 개봉일 & 배급사 & 등급 & 장르 & 감독 & 배우 & 제작사 & cluster & 감독\\_배우\\\\\n",
       "\\hline\n",
       "\t 1987                                               & 58169776145                                        & 7232387                                            & 1299                                               & 138226                                             & 2017-12-27                                         & CJ ENM                                             & 15세이상관람가                                     & 드라마                                             & 장준환                                             & 김윤석                                             & (주)우정필름                                       & 3                                                  & 유해진                                            \\\\\n",
       "\t 1987                                               & 58169776145                                        & 7232387                                            & 1299                                               & 138226                                             & 2017-12-27                                         & CJ ENM                                             & 15세이상관람가                                     & 드라마                                             & 장준환                                             & 하정우                                             & (주)우정필름                                       & 3                                                  & 유해진                                            \\\\\n",
       "\t 7급 공무원                                         & 26380710000                                        & 4039891                                            &  475                                               &  90779                                             & 2009-04-22                                         & 롯데쇼핑㈜롯데엔터테인먼트                         & 12세이상관람가                                     & 코미디,액션,드라마,범죄                            & 신태라                                             & 김하늘                                             & (주)하리마오픽쳐스,(주)영화사수작,(주)디씨지플러스 & 1                                                  &                                                   \\\\\n",
       "\t 7급 공무원                                         & 26380710000                                        & 4039891                                            &  475                                               &  90779                                             & 2009-04-22                                         & 롯데쇼핑㈜롯데엔터테인먼트                         & 12세이상관람가                                     & 코미디,액션,드라마,범죄                            & 신태라                                             & 강지환                                             & (주)하리마오픽쳐스,(주)영화사수작,(주)디씨지플러스 & 1                                                  &                                                   \\\\\n",
       "\t 82년생 김지영                                      & 30298542310                                        & 3678156                                            & 1486                                               & 145441                                             & 2019-10-23                                         & 롯데컬처웍스(주)롯데엔터테인먼트                   & 12세이상관람가                                     & 드라마                                             & 김도영                                             & 정유미                                             & (주)봄바람영화사                                   & 1                                                  &                                                   \\\\\n",
       "\t 82년생 김지영                                      & 30298542310                                        & 3678156                                            & 1486                                               & 145441                                             & 2019-10-23                                         & 롯데컬처웍스(주)롯데엔터테인먼트                   & 12세이상관람가                                     & 드라마                                             & 김도영                                             & 공유                                               & (주)봄바람영화사                                   & 1                                                  &                                                   \\\\\n",
       "\\end{tabular}\n"
      ],
      "text/markdown": [
       "\n",
       "| 영화명 | 누적매출액 | 누적관객수 | 스크린수 | 상영횟수 | 개봉일 | 배급사 | 등급 | 장르 | 감독 | 배우 | 제작사 | cluster | 감독_배우 |\n",
       "|---|---|---|---|---|---|---|---|---|---|---|---|---|---|\n",
       "| 1987                                               | 58169776145                                        | 7232387                                            | 1299                                               | 138226                                             | 2017-12-27                                         | CJ ENM                                             | 15세이상관람가                                     | 드라마                                             | 장준환                                             | 김윤석                                             | (주)우정필름                                       | 3                                                  | 유해진                                             |\n",
       "| 1987                                               | 58169776145                                        | 7232387                                            | 1299                                               | 138226                                             | 2017-12-27                                         | CJ ENM                                             | 15세이상관람가                                     | 드라마                                             | 장준환                                             | 하정우                                             | (주)우정필름                                       | 3                                                  | 유해진                                             |\n",
       "| 7급 공무원                                         | 26380710000                                        | 4039891                                            |  475                                               |  90779                                             | 2009-04-22                                         | 롯데쇼핑㈜롯데엔터테인먼트                         | 12세이상관람가                                     | 코미디,액션,드라마,범죄                            | 신태라                                             | 김하늘                                             | (주)하리마오픽쳐스,(주)영화사수작,(주)디씨지플러스 | 1                                                  |                                                    |\n",
       "| 7급 공무원                                         | 26380710000                                        | 4039891                                            |  475                                               |  90779                                             | 2009-04-22                                         | 롯데쇼핑㈜롯데엔터테인먼트                         | 12세이상관람가                                     | 코미디,액션,드라마,범죄                            | 신태라                                             | 강지환                                             | (주)하리마오픽쳐스,(주)영화사수작,(주)디씨지플러스 | 1                                                  |                                                    |\n",
       "| 82년생 김지영                                      | 30298542310                                        | 3678156                                            | 1486                                               | 145441                                             | 2019-10-23                                         | 롯데컬처웍스(주)롯데엔터테인먼트                   | 12세이상관람가                                     | 드라마                                             | 김도영                                             | 정유미                                             | (주)봄바람영화사                                   | 1                                                  |                                                    |\n",
       "| 82년생 김지영                                      | 30298542310                                        | 3678156                                            | 1486                                               | 145441                                             | 2019-10-23                                         | 롯데컬처웍스(주)롯데엔터테인먼트                   | 12세이상관람가                                     | 드라마                                             | 김도영                                             | 공유                                               | (주)봄바람영화사                                   | 1                                                  |                                                    |\n",
       "\n"
      ],
      "text/plain": [
       "  영화명        누적매출액  누적관객수 스크린수 상영횟수 개봉일    \n",
       "1 1987          58169776145 7232387    1299     138226   2017-12-27\n",
       "2 1987          58169776145 7232387    1299     138226   2017-12-27\n",
       "3 7급 공무원    26380710000 4039891     475      90779   2009-04-22\n",
       "4 7급 공무원    26380710000 4039891     475      90779   2009-04-22\n",
       "5 82년생 김지영 30298542310 3678156    1486     145441   2019-10-23\n",
       "6 82년생 김지영 30298542310 3678156    1486     145441   2019-10-23\n",
       "  배급사                           등급           장르                   \n",
       "1 CJ ENM                           15세이상관람가 드라마                 \n",
       "2 CJ ENM                           15세이상관람가 드라마                 \n",
       "3 롯데쇼핑㈜롯데엔터테인먼트       12세이상관람가 코미디,액션,드라마,범죄\n",
       "4 롯데쇼핑㈜롯데엔터테인먼트       12세이상관람가 코미디,액션,드라마,범죄\n",
       "5 롯데컬처웍스(주)롯데엔터테인먼트 12세이상관람가 드라마                 \n",
       "6 롯데컬처웍스(주)롯데엔터테인먼트 12세이상관람가 드라마                 \n",
       "  감독   배우   제작사                                             cluster\n",
       "1 장준환 김윤석 (주)우정필름                                       3      \n",
       "2 장준환 하정우 (주)우정필름                                       3      \n",
       "3 신태라 김하늘 (주)하리마오픽쳐스,(주)영화사수작,(주)디씨지플러스 1      \n",
       "4 신태라 강지환 (주)하리마오픽쳐스,(주)영화사수작,(주)디씨지플러스 1      \n",
       "5 김도영 정유미 (주)봄바람영화사                                   1      \n",
       "6 김도영 공유   (주)봄바람영화사                                   1      \n",
       "  감독_배우\n",
       "1 유해진   \n",
       "2 유해진   \n",
       "3          \n",
       "4          \n",
       "5          \n",
       "6          "
      ]
     },
     "metadata": {},
     "output_type": "display_data"
    }
   ],
   "source": [
    "head(df)"
   ]
  },
  {
   "cell_type": "code",
   "execution_count": 197,
   "id": "ad0f3a72",
   "metadata": {},
   "outputs": [],
   "source": [
    "df2 <- df"
   ]
  },
  {
   "cell_type": "code",
   "execution_count": 198,
   "id": "f826b5ac",
   "metadata": {},
   "outputs": [
    {
     "data": {
      "text/html": [
       "<table>\n",
       "<thead><tr><th scope=col>영화명</th><th scope=col>누적매출액</th><th scope=col>누적관객수</th><th scope=col>스크린수</th><th scope=col>상영횟수</th><th scope=col>개봉일</th><th scope=col>배급사</th><th scope=col>등급</th><th scope=col>장르</th><th scope=col>감독</th><th scope=col>배우</th><th scope=col>제작사</th><th scope=col>cluster</th><th scope=col>감독_배우</th></tr></thead>\n",
       "<tbody>\n",
       "\t<tr><td>1987                                              </td><td>58169776145                                       </td><td>7232387                                           </td><td>1299                                              </td><td>138226                                            </td><td>2017-12-27                                        </td><td>CJ ENM                                            </td><td>15세이상관람가                                    </td><td>드라마                                            </td><td>장준환                                            </td><td>김윤석                                            </td><td>(주)우정필름                                      </td><td>3                                                 </td><td>유해진                                            </td></tr>\n",
       "\t<tr><td>1987                                              </td><td>58169776145                                       </td><td>7232387                                           </td><td>1299                                              </td><td>138226                                            </td><td>2017-12-27                                        </td><td>CJ ENM                                            </td><td>15세이상관람가                                    </td><td>드라마                                            </td><td>장준환                                            </td><td>하정우                                            </td><td>(주)우정필름                                      </td><td>3                                                 </td><td>유해진                                            </td></tr>\n",
       "\t<tr><td>7급 공무원                                        </td><td>26380710000                                       </td><td>4039891                                           </td><td> 475                                              </td><td> 90779                                            </td><td>2009-04-22                                        </td><td>롯데쇼핑㈜롯데엔터테인먼트                        </td><td>12세이상관람가                                    </td><td>코미디,액션,드라마,범죄                           </td><td>신태라                                            </td><td>김하늘                                            </td><td>(주)하리마오픽쳐스,(주)영화사수작,(주)디씨지플러스</td><td>1                                                 </td><td>                                                  </td></tr>\n",
       "\t<tr><td>7급 공무원                                        </td><td>26380710000                                       </td><td>4039891                                           </td><td> 475                                              </td><td> 90779                                            </td><td>2009-04-22                                        </td><td>롯데쇼핑㈜롯데엔터테인먼트                        </td><td>12세이상관람가                                    </td><td>코미디,액션,드라마,범죄                           </td><td>신태라                                            </td><td>강지환                                            </td><td>(주)하리마오픽쳐스,(주)영화사수작,(주)디씨지플러스</td><td>1                                                 </td><td>                                                  </td></tr>\n",
       "\t<tr><td>82년생 김지영                                     </td><td>30298542310                                       </td><td>3678156                                           </td><td>1486                                              </td><td>145441                                            </td><td>2019-10-23                                        </td><td>롯데컬처웍스(주)롯데엔터테인먼트                  </td><td>12세이상관람가                                    </td><td>드라마                                            </td><td>김도영                                            </td><td>정유미                                            </td><td>(주)봄바람영화사                                  </td><td>1                                                 </td><td>                                                  </td></tr>\n",
       "\t<tr><td>82년생 김지영                                     </td><td>30298542310                                       </td><td>3678156                                           </td><td>1486                                              </td><td>145441                                            </td><td>2019-10-23                                        </td><td>롯데컬처웍스(주)롯데엔터테인먼트                  </td><td>12세이상관람가                                    </td><td>드라마                                            </td><td>김도영                                            </td><td>공유                                              </td><td>(주)봄바람영화사                                  </td><td>1                                                 </td><td>                                                  </td></tr>\n",
       "</tbody>\n",
       "</table>\n"
      ],
      "text/latex": [
       "\\begin{tabular}{r|llllllllllllll}\n",
       " 영화명 & 누적매출액 & 누적관객수 & 스크린수 & 상영횟수 & 개봉일 & 배급사 & 등급 & 장르 & 감독 & 배우 & 제작사 & cluster & 감독\\_배우\\\\\n",
       "\\hline\n",
       "\t 1987                                               & 58169776145                                        & 7232387                                            & 1299                                               & 138226                                             & 2017-12-27                                         & CJ ENM                                             & 15세이상관람가                                     & 드라마                                             & 장준환                                             & 김윤석                                             & (주)우정필름                                       & 3                                                  & 유해진                                            \\\\\n",
       "\t 1987                                               & 58169776145                                        & 7232387                                            & 1299                                               & 138226                                             & 2017-12-27                                         & CJ ENM                                             & 15세이상관람가                                     & 드라마                                             & 장준환                                             & 하정우                                             & (주)우정필름                                       & 3                                                  & 유해진                                            \\\\\n",
       "\t 7급 공무원                                         & 26380710000                                        & 4039891                                            &  475                                               &  90779                                             & 2009-04-22                                         & 롯데쇼핑㈜롯데엔터테인먼트                         & 12세이상관람가                                     & 코미디,액션,드라마,범죄                            & 신태라                                             & 김하늘                                             & (주)하리마오픽쳐스,(주)영화사수작,(주)디씨지플러스 & 1                                                  &                                                   \\\\\n",
       "\t 7급 공무원                                         & 26380710000                                        & 4039891                                            &  475                                               &  90779                                             & 2009-04-22                                         & 롯데쇼핑㈜롯데엔터테인먼트                         & 12세이상관람가                                     & 코미디,액션,드라마,범죄                            & 신태라                                             & 강지환                                             & (주)하리마오픽쳐스,(주)영화사수작,(주)디씨지플러스 & 1                                                  &                                                   \\\\\n",
       "\t 82년생 김지영                                      & 30298542310                                        & 3678156                                            & 1486                                               & 145441                                             & 2019-10-23                                         & 롯데컬처웍스(주)롯데엔터테인먼트                   & 12세이상관람가                                     & 드라마                                             & 김도영                                             & 정유미                                             & (주)봄바람영화사                                   & 1                                                  &                                                   \\\\\n",
       "\t 82년생 김지영                                      & 30298542310                                        & 3678156                                            & 1486                                               & 145441                                             & 2019-10-23                                         & 롯데컬처웍스(주)롯데엔터테인먼트                   & 12세이상관람가                                     & 드라마                                             & 김도영                                             & 공유                                               & (주)봄바람영화사                                   & 1                                                  &                                                   \\\\\n",
       "\\end{tabular}\n"
      ],
      "text/markdown": [
       "\n",
       "| 영화명 | 누적매출액 | 누적관객수 | 스크린수 | 상영횟수 | 개봉일 | 배급사 | 등급 | 장르 | 감독 | 배우 | 제작사 | cluster | 감독_배우 |\n",
       "|---|---|---|---|---|---|---|---|---|---|---|---|---|---|\n",
       "| 1987                                               | 58169776145                                        | 7232387                                            | 1299                                               | 138226                                             | 2017-12-27                                         | CJ ENM                                             | 15세이상관람가                                     | 드라마                                             | 장준환                                             | 김윤석                                             | (주)우정필름                                       | 3                                                  | 유해진                                             |\n",
       "| 1987                                               | 58169776145                                        | 7232387                                            | 1299                                               | 138226                                             | 2017-12-27                                         | CJ ENM                                             | 15세이상관람가                                     | 드라마                                             | 장준환                                             | 하정우                                             | (주)우정필름                                       | 3                                                  | 유해진                                             |\n",
       "| 7급 공무원                                         | 26380710000                                        | 4039891                                            |  475                                               |  90779                                             | 2009-04-22                                         | 롯데쇼핑㈜롯데엔터테인먼트                         | 12세이상관람가                                     | 코미디,액션,드라마,범죄                            | 신태라                                             | 김하늘                                             | (주)하리마오픽쳐스,(주)영화사수작,(주)디씨지플러스 | 1                                                  |                                                    |\n",
       "| 7급 공무원                                         | 26380710000                                        | 4039891                                            |  475                                               |  90779                                             | 2009-04-22                                         | 롯데쇼핑㈜롯데엔터테인먼트                         | 12세이상관람가                                     | 코미디,액션,드라마,범죄                            | 신태라                                             | 강지환                                             | (주)하리마오픽쳐스,(주)영화사수작,(주)디씨지플러스 | 1                                                  |                                                    |\n",
       "| 82년생 김지영                                      | 30298542310                                        | 3678156                                            | 1486                                               | 145441                                             | 2019-10-23                                         | 롯데컬처웍스(주)롯데엔터테인먼트                   | 12세이상관람가                                     | 드라마                                             | 김도영                                             | 정유미                                             | (주)봄바람영화사                                   | 1                                                  |                                                    |\n",
       "| 82년생 김지영                                      | 30298542310                                        | 3678156                                            | 1486                                               | 145441                                             | 2019-10-23                                         | 롯데컬처웍스(주)롯데엔터테인먼트                   | 12세이상관람가                                     | 드라마                                             | 김도영                                             | 공유                                               | (주)봄바람영화사                                   | 1                                                  |                                                    |\n",
       "\n"
      ],
      "text/plain": [
       "  영화명        누적매출액  누적관객수 스크린수 상영횟수 개봉일    \n",
       "1 1987          58169776145 7232387    1299     138226   2017-12-27\n",
       "2 1987          58169776145 7232387    1299     138226   2017-12-27\n",
       "3 7급 공무원    26380710000 4039891     475      90779   2009-04-22\n",
       "4 7급 공무원    26380710000 4039891     475      90779   2009-04-22\n",
       "5 82년생 김지영 30298542310 3678156    1486     145441   2019-10-23\n",
       "6 82년생 김지영 30298542310 3678156    1486     145441   2019-10-23\n",
       "  배급사                           등급           장르                   \n",
       "1 CJ ENM                           15세이상관람가 드라마                 \n",
       "2 CJ ENM                           15세이상관람가 드라마                 \n",
       "3 롯데쇼핑㈜롯데엔터테인먼트       12세이상관람가 코미디,액션,드라마,범죄\n",
       "4 롯데쇼핑㈜롯데엔터테인먼트       12세이상관람가 코미디,액션,드라마,범죄\n",
       "5 롯데컬처웍스(주)롯데엔터테인먼트 12세이상관람가 드라마                 \n",
       "6 롯데컬처웍스(주)롯데엔터테인먼트 12세이상관람가 드라마                 \n",
       "  감독   배우   제작사                                             cluster\n",
       "1 장준환 김윤석 (주)우정필름                                       3      \n",
       "2 장준환 하정우 (주)우정필름                                       3      \n",
       "3 신태라 김하늘 (주)하리마오픽쳐스,(주)영화사수작,(주)디씨지플러스 1      \n",
       "4 신태라 강지환 (주)하리마오픽쳐스,(주)영화사수작,(주)디씨지플러스 1      \n",
       "5 김도영 정유미 (주)봄바람영화사                                   1      \n",
       "6 김도영 공유   (주)봄바람영화사                                   1      \n",
       "  감독_배우\n",
       "1 유해진   \n",
       "2 유해진   \n",
       "3          \n",
       "4          \n",
       "5          \n",
       "6          "
      ]
     },
     "metadata": {},
     "output_type": "display_data"
    }
   ],
   "source": [
    "head(df2)"
   ]
  },
  {
   "cell_type": "code",
   "execution_count": 199,
   "id": "c80605a7",
   "metadata": {},
   "outputs": [],
   "source": [
    "x <- c(1,2,3,5,6,7,8,9,12)"
   ]
  },
  {
   "cell_type": "code",
   "execution_count": null,
   "id": "f7104536",
   "metadata": {},
   "outputs": [],
   "source": []
  },
  {
   "cell_type": "code",
   "execution_count": 200,
   "id": "81a6e758",
   "metadata": {},
   "outputs": [
    {
     "data": {
      "text/html": [
       "<table>\n",
       "<thead><tr><th scope=col>스크린수</th><th scope=col>감독</th><th scope=col>배우</th><th scope=col>cluster</th><th scope=col>감독_배우</th></tr></thead>\n",
       "<tbody>\n",
       "\t<tr><td>1299  </td><td>장준환</td><td>김윤석</td><td>3     </td><td>유해진</td></tr>\n",
       "\t<tr><td>1299  </td><td>장준환</td><td>하정우</td><td>3     </td><td>유해진</td></tr>\n",
       "\t<tr><td> 475  </td><td>신태라</td><td>김하늘</td><td>1     </td><td>      </td></tr>\n",
       "\t<tr><td> 475  </td><td>신태라</td><td>강지환</td><td>1     </td><td>      </td></tr>\n",
       "\t<tr><td>1486  </td><td>김도영</td><td>정유미</td><td>1     </td><td>      </td></tr>\n",
       "\t<tr><td>1486  </td><td>김도영</td><td>공유  </td><td>1     </td><td>      </td></tr>\n",
       "</tbody>\n",
       "</table>\n"
      ],
      "text/latex": [
       "\\begin{tabular}{r|lllll}\n",
       " 스크린수 & 감독 & 배우 & cluster & 감독\\_배우\\\\\n",
       "\\hline\n",
       "\t 1299   & 장준환 & 김윤석 & 3      & 유해진\\\\\n",
       "\t 1299   & 장준환 & 하정우 & 3      & 유해진\\\\\n",
       "\t  475   & 신태라 & 김하늘 & 1      &       \\\\\n",
       "\t  475   & 신태라 & 강지환 & 1      &       \\\\\n",
       "\t 1486   & 김도영 & 정유미 & 1      &       \\\\\n",
       "\t 1486   & 김도영 & 공유   & 1      &       \\\\\n",
       "\\end{tabular}\n"
      ],
      "text/markdown": [
       "\n",
       "| 스크린수 | 감독 | 배우 | cluster | 감독_배우 |\n",
       "|---|---|---|---|---|\n",
       "| 1299   | 장준환 | 김윤석 | 3      | 유해진 |\n",
       "| 1299   | 장준환 | 하정우 | 3      | 유해진 |\n",
       "|  475   | 신태라 | 김하늘 | 1      |        |\n",
       "|  475   | 신태라 | 강지환 | 1      |        |\n",
       "| 1486   | 김도영 | 정유미 | 1      |        |\n",
       "| 1486   | 김도영 | 공유   | 1      |        |\n",
       "\n"
      ],
      "text/plain": [
       "  스크린수 감독   배우   cluster 감독_배우\n",
       "1 1299     장준환 김윤석 3       유해진   \n",
       "2 1299     장준환 하정우 3       유해진   \n",
       "3  475     신태라 김하늘 1                \n",
       "4  475     신태라 강지환 1                \n",
       "5 1486     김도영 정유미 1                \n",
       "6 1486     김도영 공유   1                "
      ]
     },
     "metadata": {},
     "output_type": "display_data"
    }
   ],
   "source": [
    "df2 <- df2[,-x]\n",
    "head(df2)"
   ]
  },
  {
   "cell_type": "code",
   "execution_count": 201,
   "id": "b6e2c2ac",
   "metadata": {},
   "outputs": [],
   "source": [
    "df2$cluster <- as.factor(df2$cluster)"
   ]
  },
  {
   "cell_type": "code",
   "execution_count": 202,
   "id": "6992464c",
   "metadata": {},
   "outputs": [
    {
     "name": "stdout",
     "output_type": "stream",
     "text": [
      "# weights:  624\n",
      "initial  value 309.994198 \n",
      "iter  10 value 68.577972\n",
      "iter  20 value 14.293545\n",
      "iter  30 value 0.115083\n",
      "iter  40 value 0.003036\n",
      "final  value 0.000069 \n",
      "converged\n",
      "예측력 0.8117647 입니다. [1] \"1\" \"2\" \"1\" \"1\" \"1\" \"1\" \"1\" \"2\" \"3\" \"3\" \"1\" \"3\" \"3\" \"1\" \"1\" \"2\" \"2\" \"3\" \"3\"\n",
      "[20] \"3\" \"3\" \"1\" \"2\" \"3\" \"2\" \"1\" \"1\" \"2\" \"2\" \"1\" \"3\" \"1\" \"1\" \"1\" \"1\" \"1\" \"3\" \"2\"\n",
      "[39] \"2\" \"3\" \"3\" \"2\" \"2\" \"2\" \"2\" \"2\" \"1\" \"2\" \"2\" \"3\" \"3\" \"1\" \"2\" \"1\" \"1\" \"3\" \"3\"\n",
      "[58] \"3\" \"1\" \"3\" \"3\" \"2\" \"2\" \"2\" \"2\" \"1\" \"3\" \"3\" \"3\" \"2\" \"2\" \"2\" \"2\" \"2\" \"2\" \"2\"\n",
      "[77] \"2\" \"2\" \"3\" \"3\" \"3\" \"2\" \"1\" \"2\" \"1\"\n",
      "예측력 0.8588235 입니다.예측력 0.4 입니다.# weights:  615 (408 variable)\n",
      "initial  value 223.018295 \n",
      "iter  10 value 8.801340\n",
      "iter  20 value 0.082128\n",
      "iter  30 value 0.004617\n",
      "final  value 0.000076 \n",
      "converged\n",
      "예측력 0.8705882 입니다.# weights:  624\n",
      "initial  value 298.881181 \n",
      "iter  10 value 109.537245\n",
      "iter  20 value 28.174066\n",
      "iter  30 value 15.408644\n",
      "iter  40 value 8.798995\n",
      "iter  50 value 6.932114\n",
      "iter  60 value 6.292203\n",
      "iter  70 value 5.908068\n",
      "iter  80 value 4.962690\n",
      "iter  90 value 4.244793\n",
      "iter 100 value 4.231158\n",
      "final  value 4.231158 \n",
      "stopped after 100 iterations\n",
      "예측력 0.7882353 입니다. [1] \"1\" \"2\" \"1\" \"2\" \"1\" \"2\" \"2\" \"2\" \"1\" \"3\" \"1\" \"3\" \"3\" \"2\" \"1\" \"1\" \"2\" \"3\" \"3\"\n",
      "[20] \"3\" \"3\" \"1\" \"3\" \"1\" \"2\" \"2\" \"2\" \"2\" \"2\" \"1\" \"3\" \"1\" \"1\" \"1\" \"1\" \"1\" \"3\" \"2\"\n",
      "[39] \"3\" \"3\" \"3\" \"1\" \"2\" \"2\" \"2\" \"2\" \"1\" \"2\" \"2\" \"1\" \"3\" \"1\" \"2\" \"1\" \"1\" \"3\" \"1\"\n",
      "[58] \"1\" \"1\" \"3\" \"3\" \"2\" \"2\" \"2\" \"2\" \"1\" \"3\" \"3\" \"3\" \"2\" \"2\" \"2\" \"2\" \"2\" \"2\" \"2\"\n",
      "[77] \"2\" \"2\" \"3\" \"3\" \"3\" \"2\" \"2\" \"2\" \"1\"\n",
      "예측력 0.8588235 입니다.예측력 0.4 입니다.# weights:  615 (408 variable)\n",
      "initial  value 223.018295 \n",
      "iter  10 value 8.801340\n",
      "iter  20 value 0.082128\n",
      "iter  30 value 0.004617\n",
      "final  value 0.000076 \n",
      "converged\n",
      "예측력 0.8705882 입니다.# weights:  624\n",
      "initial  value 250.388222 \n",
      "iter  10 value 112.813595\n",
      "iter  20 value 16.063601\n",
      "iter  30 value 4.947972\n",
      "iter  40 value 3.439479\n",
      "iter  50 value 2.854875\n",
      "iter  60 value 2.707307\n",
      "iter  70 value 2.567894\n",
      "iter  80 value 2.505449\n",
      "iter  90 value 2.504043\n",
      "iter 100 value 2.503369\n",
      "final  value 2.503369 \n",
      "stopped after 100 iterations\n",
      "예측력 0.7411765 입니다. [1] \"3\" \"2\" \"1\" \"2\" \"2\" \"2\" \"1\" \"2\" \"1\" \"3\" \"1\" \"3\" \"3\" \"2\" \"1\" \"2\" \"2\" \"3\" \"3\"\n",
      "[20] \"3\" \"3\" \"2\" \"2\" \"2\" \"2\" \"2\" \"2\" \"2\" \"2\" \"2\" \"3\" \"2\" \"2\" \"1\" \"2\" \"1\" \"2\" \"2\"\n",
      "[39] \"2\" \"2\" \"2\" \"1\" \"2\" \"2\" \"2\" \"2\" \"1\" \"2\" \"2\" \"2\" \"3\" \"2\" \"2\" \"1\" \"2\" \"3\" \"2\"\n",
      "[58] \"1\" \"1\" \"3\" \"3\" \"2\" \"2\" \"2\" \"2\" \"1\" \"3\" \"3\" \"3\" \"2\" \"2\" \"2\" \"2\" \"2\" \"2\" \"2\"\n",
      "[77] \"2\" \"2\" \"3\" \"3\" \"3\" \"2\" \"2\" \"2\" \"1\"\n",
      "예측력 0.8588235 입니다.예측력 0.4 입니다.# weights:  615 (408 variable)\n",
      "initial  value 223.018295 \n",
      "iter  10 value 8.801340\n",
      "iter  20 value 0.082128\n",
      "iter  30 value 0.004617\n",
      "final  value 0.000076 \n",
      "converged\n",
      "예측력 0.8705882 입니다.# weights:  624\n",
      "initial  value 230.651598 \n",
      "iter  10 value 82.233930\n",
      "iter  20 value 8.561458\n",
      "iter  30 value 3.594124\n",
      "iter  40 value 1.961904\n",
      "iter  50 value 1.472956\n",
      "iter  60 value 1.396515\n",
      "iter  70 value 1.387473\n",
      "iter  80 value 1.386465\n",
      "iter  90 value 1.386374\n",
      "iter 100 value 1.386321\n",
      "final  value 1.386321 \n",
      "stopped after 100 iterations\n",
      "예측력 0.7411765 입니다. [1] \"1\" \"1\" \"1\" \"1\" \"1\" \"2\" \"2\" \"2\" \"1\" \"1\" \"1\" \"1\" \"1\" \"1\" \"1\" \"1\" \"1\" \"3\" \"3\"\n",
      "[20] \"3\" \"1\" \"1\" \"1\" \"2\" \"2\" \"2\" \"1\" \"1\" \"2\" \"1\" \"3\" \"2\" \"1\" \"1\" \"1\" \"1\" \"1\" \"1\"\n",
      "[39] \"1\" \"1\" \"1\" \"2\" \"1\" \"1\" \"2\" \"2\" \"1\" \"2\" \"3\" \"1\" \"1\" \"1\" \"2\" \"1\" \"1\" \"3\" \"1\"\n",
      "[58] \"1\" \"1\" \"3\" \"3\" \"2\" \"2\" \"2\" \"2\" \"1\" \"3\" \"3\" \"3\" \"2\" \"2\" \"2\" \"2\" \"2\" \"2\" \"2\"\n",
      "[77] \"2\" \"2\" \"3\" \"3\" \"3\" \"2\" \"2\" \"2\" \"2\"\n",
      "예측력 0.8588235 입니다.예측력 0.4 입니다.# weights:  615 (408 variable)\n",
      "initial  value 223.018295 \n",
      "iter  10 value 8.801340\n",
      "iter  20 value 0.082128\n",
      "iter  30 value 0.004617\n",
      "final  value 0.000076 \n",
      "converged\n",
      "예측력 0.8705882 입니다.# weights:  624\n",
      "initial  value 223.138600 \n",
      "iter  10 value 57.901872\n",
      "iter  20 value 8.559329\n",
      "iter  30 value 0.042504\n",
      "iter  40 value 0.000996\n",
      "final  value 0.000089 \n",
      "converged\n",
      "예측력 0.8470588 입니다. [1] \"1\" \"1\" \"1\" \"1\" \"1\" \"2\" \"1\" \"2\" \"3\" \"3\" \"1\" \"3\" \"3\" \"1\" \"1\" \"1\" \"1\" \"3\" \"3\"\n",
      "[20] \"3\" \"1\" \"1\" \"2\" \"1\" \"2\" \"1\" \"1\" \"1\" \"2\" \"1\" \"3\" \"1\" \"1\" \"1\" \"1\" \"1\" \"2\" \"2\"\n",
      "[39] \"2\" \"3\" \"3\" \"1\" \"2\" \"2\" \"1\" \"2\" \"1\" \"2\" \"2\" \"1\" \"3\" \"1\" \"2\" \"1\" \"1\" \"3\" \"1\"\n",
      "[58] \"1\" \"1\" \"1\" \"1\" \"2\" \"2\" \"2\" \"2\" \"1\" \"3\" \"3\" \"3\" \"2\" \"2\" \"2\" \"2\" \"2\" \"2\" \"2\"\n",
      "[77] \"2\" \"2\" \"3\" \"3\" \"3\" \"2\" \"2\" \"2\" \"1\"\n",
      "예측력 0.8588235 입니다.예측력 0.4 입니다.# weights:  615 (408 variable)\n",
      "initial  value 223.018295 \n",
      "iter  10 value 8.801340\n",
      "iter  20 value 0.082128\n",
      "iter  30 value 0.004617\n",
      "final  value 0.000076 \n",
      "converged\n",
      "예측력 0.8705882 입니다."
     ]
    },
    {
     "data": {
      "text/html": [
       "<table>\n",
       "<thead><tr><th></th><th scope=col>예측력</th></tr></thead>\n",
       "<tbody>\n",
       "\t<tr><th scope=row>인공신경망</th><td>0.7858824</td></tr>\n",
       "\t<tr><th scope=row>의사결정나무</th><td>0.8588235</td></tr>\n",
       "\t<tr><th scope=row>SVM</th><td>0.4000000</td></tr>\n",
       "\t<tr><th scope=row>로지스틱회귀분석</th><td>0.8705882</td></tr>\n",
       "</tbody>\n",
       "</table>\n"
      ],
      "text/latex": [
       "\\begin{tabular}{r|l}\n",
       "  & 예측력\\\\\n",
       "\\hline\n",
       "\t인공신경망 & 0.7858824\\\\\n",
       "\t의사결정나무 & 0.8588235\\\\\n",
       "\tSVM & 0.4000000\\\\\n",
       "\t로지스틱회귀분석 & 0.8705882\\\\\n",
       "\\end{tabular}\n"
      ],
      "text/markdown": [
       "\n",
       "| <!--/--> | 예측력 |\n",
       "|---|---|\n",
       "| 인공신경망 | 0.7858824 |\n",
       "| 의사결정나무 | 0.8588235 |\n",
       "| SVM | 0.4000000 |\n",
       "| 로지스틱회귀분석 | 0.8705882 |\n",
       "\n"
      ],
      "text/plain": [
       "                 예측력   \n",
       "인공신경망       0.7858824\n",
       "의사결정나무     0.8588235\n",
       "SVM              0.4000000\n",
       "로지스틱회귀분석 0.8705882"
      ]
     },
     "metadata": {},
     "output_type": "display_data"
    }
   ],
   "source": [
    "fun_x(df2,1,'cluster')"
   ]
  },
  {
   "cell_type": "code",
   "execution_count": 193,
   "id": "f2e48023",
   "metadata": {},
   "outputs": [
    {
     "data": {
      "text/html": [
       "<table>\n",
       "<thead><tr><th scope=col>스크린수</th><th scope=col>감독</th><th scope=col>배우</th><th scope=col>cluster</th><th scope=col>감독_배우</th></tr></thead>\n",
       "<tbody>\n",
       "\t<tr><td>1948  </td><td>봉준호</td><td>송강호</td><td>3     </td><td>송강호</td></tr>\n",
       "\t<tr><td>1948  </td><td>봉준호</td><td>이선균</td><td>3     </td><td>송강호</td></tr>\n",
       "\t<tr><td>1948  </td><td>봉준호</td><td>송강호</td><td>3     </td><td>송강호</td></tr>\n",
       "\t<tr><td>1948  </td><td>봉준호</td><td>이선균</td><td>3     </td><td>송강호</td></tr>\n",
       "\t<tr><td>1948  </td><td>봉준호</td><td>송강호</td><td>3     </td><td>송강호</td></tr>\n",
       "\t<tr><td>1948  </td><td>봉준호</td><td>이선균</td><td>3     </td><td>송강호</td></tr>\n",
       "</tbody>\n",
       "</table>\n"
      ],
      "text/latex": [
       "\\begin{tabular}{r|lllll}\n",
       " 스크린수 & 감독 & 배우 & cluster & 감독\\_배우\\\\\n",
       "\\hline\n",
       "\t 1948   & 봉준호 & 송강호 & 3      & 송강호\\\\\n",
       "\t 1948   & 봉준호 & 이선균 & 3      & 송강호\\\\\n",
       "\t 1948   & 봉준호 & 송강호 & 3      & 송강호\\\\\n",
       "\t 1948   & 봉준호 & 이선균 & 3      & 송강호\\\\\n",
       "\t 1948   & 봉준호 & 송강호 & 3      & 송강호\\\\\n",
       "\t 1948   & 봉준호 & 이선균 & 3      & 송강호\\\\\n",
       "\\end{tabular}\n"
      ],
      "text/markdown": [
       "\n",
       "| 스크린수 | 감독 | 배우 | cluster | 감독_배우 |\n",
       "|---|---|---|---|---|\n",
       "| 1948   | 봉준호 | 송강호 | 3      | 송강호 |\n",
       "| 1948   | 봉준호 | 이선균 | 3      | 송강호 |\n",
       "| 1948   | 봉준호 | 송강호 | 3      | 송강호 |\n",
       "| 1948   | 봉준호 | 이선균 | 3      | 송강호 |\n",
       "| 1948   | 봉준호 | 송강호 | 3      | 송강호 |\n",
       "| 1948   | 봉준호 | 이선균 | 3      | 송강호 |\n",
       "\n"
      ],
      "text/plain": [
       "  스크린수 감독   배우   cluster 감독_배우\n",
       "1 1948     봉준호 송강호 3       송강호   \n",
       "2 1948     봉준호 이선균 3       송강호   \n",
       "3 1948     봉준호 송강호 3       송강호   \n",
       "4 1948     봉준호 이선균 3       송강호   \n",
       "5 1948     봉준호 송강호 3       송강호   \n",
       "6 1948     봉준호 이선균 3       송강호   "
      ]
     },
     "metadata": {},
     "output_type": "display_data"
    }
   ],
   "source": [
    "head(df2)"
   ]
  },
  {
   "cell_type": "code",
   "execution_count": 186,
   "id": "89b06cff",
   "metadata": {},
   "outputs": [
    {
     "data": {
      "text/html": [
       "<table>\n",
       "<thead><tr><th scope=col>영화명</th><th scope=col>누적매출액</th><th scope=col>누적관객수</th><th scope=col>스크린수</th><th scope=col>상영횟수</th><th scope=col>개봉일</th><th scope=col>배급사</th><th scope=col>등급</th><th scope=col>장르</th><th scope=col>감독</th><th scope=col>배우</th><th scope=col>제작사</th><th scope=col>cluster</th><th scope=col>감독_배우</th></tr></thead>\n",
       "<tbody>\n",
       "\t<tr><td>기생충            </td><td>85883963645       </td><td>10085275          </td><td>1948              </td><td>192855            </td><td>2019-05-30        </td><td>CJ ENM            </td><td>15세이상관람가    </td><td>드라마            </td><td>봉준호            </td><td>송강호            </td><td>(주)바른손이앤에이</td><td>3                 </td><td>송강호            </td></tr>\n",
       "\t<tr><td>기생충            </td><td>85883963645       </td><td>10085275          </td><td>1948              </td><td>192855            </td><td>2019-05-30        </td><td>CJ ENM            </td><td>15세이상관람가    </td><td>드라마            </td><td>봉준호            </td><td>이선균            </td><td>(주)바른손이앤에이</td><td>3                 </td><td>송강호            </td></tr>\n",
       "\t<tr><td>기생충            </td><td>85883963645       </td><td>10085275          </td><td>1948              </td><td>192855            </td><td>2019-05-30        </td><td>CJ ENM            </td><td>15세이상관람가    </td><td>드라마            </td><td>봉준호            </td><td>송강호            </td><td>(주)바른손이앤에이</td><td>3                 </td><td>송강호            </td></tr>\n",
       "\t<tr><td>기생충            </td><td>85883963645       </td><td>10085275          </td><td>1948              </td><td>192855            </td><td>2019-05-30        </td><td>CJ ENM            </td><td>15세이상관람가    </td><td>드라마            </td><td>봉준호            </td><td>이선균            </td><td>(주)바른손이앤에이</td><td>3                 </td><td>송강호            </td></tr>\n",
       "\t<tr><td>기생충            </td><td>85883963645       </td><td>10085275          </td><td>1948              </td><td>192855            </td><td>2019-05-30        </td><td>CJ ENM            </td><td>15세이상관람가    </td><td>드라마            </td><td>봉준호            </td><td>송강호            </td><td>(주)바른손이앤에이</td><td>3                 </td><td>송강호            </td></tr>\n",
       "\t<tr><td>기생충            </td><td>85883963645       </td><td>10085275          </td><td>1948              </td><td>192855            </td><td>2019-05-30        </td><td>CJ ENM            </td><td>15세이상관람가    </td><td>드라마            </td><td>봉준호            </td><td>이선균            </td><td>(주)바른손이앤에이</td><td>3                 </td><td>송강호            </td></tr>\n",
       "</tbody>\n",
       "</table>\n"
      ],
      "text/latex": [
       "\\begin{tabular}{r|llllllllllllll}\n",
       " 영화명 & 누적매출액 & 누적관객수 & 스크린수 & 상영횟수 & 개봉일 & 배급사 & 등급 & 장르 & 감독 & 배우 & 제작사 & cluster & 감독\\_배우\\\\\n",
       "\\hline\n",
       "\t 기생충             & 85883963645        & 10085275           & 1948               & 192855             & 2019-05-30         & CJ ENM             & 15세이상관람가     & 드라마             & 봉준호             & 송강호             & (주)바른손이앤에이 & 3                  & 송강호            \\\\\n",
       "\t 기생충             & 85883963645        & 10085275           & 1948               & 192855             & 2019-05-30         & CJ ENM             & 15세이상관람가     & 드라마             & 봉준호             & 이선균             & (주)바른손이앤에이 & 3                  & 송강호            \\\\\n",
       "\t 기생충             & 85883963645        & 10085275           & 1948               & 192855             & 2019-05-30         & CJ ENM             & 15세이상관람가     & 드라마             & 봉준호             & 송강호             & (주)바른손이앤에이 & 3                  & 송강호            \\\\\n",
       "\t 기생충             & 85883963645        & 10085275           & 1948               & 192855             & 2019-05-30         & CJ ENM             & 15세이상관람가     & 드라마             & 봉준호             & 이선균             & (주)바른손이앤에이 & 3                  & 송강호            \\\\\n",
       "\t 기생충             & 85883963645        & 10085275           & 1948               & 192855             & 2019-05-30         & CJ ENM             & 15세이상관람가     & 드라마             & 봉준호             & 송강호             & (주)바른손이앤에이 & 3                  & 송강호            \\\\\n",
       "\t 기생충             & 85883963645        & 10085275           & 1948               & 192855             & 2019-05-30         & CJ ENM             & 15세이상관람가     & 드라마             & 봉준호             & 이선균             & (주)바른손이앤에이 & 3                  & 송강호            \\\\\n",
       "\\end{tabular}\n"
      ],
      "text/markdown": [
       "\n",
       "| 영화명 | 누적매출액 | 누적관객수 | 스크린수 | 상영횟수 | 개봉일 | 배급사 | 등급 | 장르 | 감독 | 배우 | 제작사 | cluster | 감독_배우 |\n",
       "|---|---|---|---|---|---|---|---|---|---|---|---|---|---|\n",
       "| 기생충             | 85883963645        | 10085275           | 1948               | 192855             | 2019-05-30         | CJ ENM             | 15세이상관람가     | 드라마             | 봉준호             | 송강호             | (주)바른손이앤에이 | 3                  | 송강호             |\n",
       "| 기생충             | 85883963645        | 10085275           | 1948               | 192855             | 2019-05-30         | CJ ENM             | 15세이상관람가     | 드라마             | 봉준호             | 이선균             | (주)바른손이앤에이 | 3                  | 송강호             |\n",
       "| 기생충             | 85883963645        | 10085275           | 1948               | 192855             | 2019-05-30         | CJ ENM             | 15세이상관람가     | 드라마             | 봉준호             | 송강호             | (주)바른손이앤에이 | 3                  | 송강호             |\n",
       "| 기생충             | 85883963645        | 10085275           | 1948               | 192855             | 2019-05-30         | CJ ENM             | 15세이상관람가     | 드라마             | 봉준호             | 이선균             | (주)바른손이앤에이 | 3                  | 송강호             |\n",
       "| 기생충             | 85883963645        | 10085275           | 1948               | 192855             | 2019-05-30         | CJ ENM             | 15세이상관람가     | 드라마             | 봉준호             | 송강호             | (주)바른손이앤에이 | 3                  | 송강호             |\n",
       "| 기생충             | 85883963645        | 10085275           | 1948               | 192855             | 2019-05-30         | CJ ENM             | 15세이상관람가     | 드라마             | 봉준호             | 이선균             | (주)바른손이앤에이 | 3                  | 송강호             |\n",
       "\n"
      ],
      "text/plain": [
       "  영화명 누적매출액  누적관객수 스크린수 상영횟수 개봉일     배급사\n",
       "1 기생충 85883963645 10085275   1948     192855   2019-05-30 CJ ENM\n",
       "2 기생충 85883963645 10085275   1948     192855   2019-05-30 CJ ENM\n",
       "3 기생충 85883963645 10085275   1948     192855   2019-05-30 CJ ENM\n",
       "4 기생충 85883963645 10085275   1948     192855   2019-05-30 CJ ENM\n",
       "5 기생충 85883963645 10085275   1948     192855   2019-05-30 CJ ENM\n",
       "6 기생충 85883963645 10085275   1948     192855   2019-05-30 CJ ENM\n",
       "  등급           장르   감독   배우   제작사             cluster 감독_배우\n",
       "1 15세이상관람가 드라마 봉준호 송강호 (주)바른손이앤에이 3       송강호   \n",
       "2 15세이상관람가 드라마 봉준호 이선균 (주)바른손이앤에이 3       송강호   \n",
       "3 15세이상관람가 드라마 봉준호 송강호 (주)바른손이앤에이 3       송강호   \n",
       "4 15세이상관람가 드라마 봉준호 이선균 (주)바른손이앤에이 3       송강호   \n",
       "5 15세이상관람가 드라마 봉준호 송강호 (주)바른손이앤에이 3       송강호   \n",
       "6 15세이상관람가 드라마 봉준호 이선균 (주)바른손이앤에이 3       송강호   "
      ]
     },
     "metadata": {},
     "output_type": "display_data"
    }
   ],
   "source": [
    "head(df)"
   ]
  },
  {
   "cell_type": "code",
   "execution_count": null,
   "id": "538ea6bd",
   "metadata": {},
   "outputs": [],
   "source": []
  }
 ],
 "metadata": {
  "kernelspec": {
   "display_name": "R",
   "language": "R",
   "name": "ir"
  },
  "language_info": {
   "codemirror_mode": "r",
   "file_extension": ".r",
   "mimetype": "text/x-r-source",
   "name": "R",
   "pygments_lexer": "r",
   "version": "3.6.1"
  }
 },
 "nbformat": 4,
 "nbformat_minor": 5
}

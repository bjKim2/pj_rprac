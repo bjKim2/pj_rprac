{
 "cells": [
  {
   "cell_type": "code",
   "execution_count": 58,
   "id": "ea7b868c",
   "metadata": {},
   "outputs": [
    {
     "name": "stdout",
     "output_type": "stream",
     "text": [
      "http://www.cine21.com/search/?q=페이스\n",
      "1\n",
      "안토니아 버드\n",
      "로버트 칼라일\n",
      "레이 윈스턴\n",
      "제리 콘론\n",
      "유상곤\n",
      "신현준\n",
      "송윤아\n",
      "김승욱\n"
     ]
    }
   ],
   "source": [
    "import requests\n",
    "from bs4 import BeautifulSoup\n",
    "import pandas as pd\n",
    "data = pd.read_csv(\"../movies/movie2004_2019_ver2.csv\")\n",
    "\n",
    "\n",
    "\n",
    "url = 'http://www.cine21.com/search/?q=' + data['영화명'][194]\n",
    "url = 'http://www.cine21.com/search/?q=' + '페이스'\n",
    "print(url)\n",
    "\n",
    "response = requests.get(url)\n",
    "temp = 0\n",
    "\n",
    "if response.status_code == 200:\n",
    "    html = response.text\n",
    "    soup = BeautifulSoup(html, 'html.parser')\n",
    "\n",
    "    \n",
    "    mName = soup.select('#content > div.culm2_area > div.culm2_l > ul.mov_list > li > p.name > a')\n",
    "    \n",
    "    for k in range(0,len(mName)):\n",
    "        \n",
    "        if(mName[0].text == mName[len(mName) -1 -k].text):\n",
    "            temp = len(mName)-1-k\n",
    "            print(temp)\n",
    "            break\n",
    "    \n",
    "    \n",
    "    for l in range(0,temp+1):\n",
    "        title = soup.select('#content > div.culm2_area > div.culm2_l > ul.mov_list > li:nth-child('+ repr(l+1) + ') > p:nth-child(4) > a')\n",
    "        for j in range(0,len(title)):\n",
    "            print(title[j].text)\n",
    "    \n",
    "    \n",
    "\n",
    "else : \n",
    "    print(response.status_code)\n",
    "    "
   ]
  },
  {
   "cell_type": "code",
   "execution_count": null,
   "id": "76ad3bdd",
   "metadata": {},
   "outputs": [],
   "source": []
  }
 ],
 "metadata": {
  "kernelspec": {
   "display_name": "Python 3 (ipykernel)",
   "language": "python",
   "name": "python3"
  },
  "language_info": {
   "codemirror_mode": {
    "name": "ipython",
    "version": 3
   },
   "file_extension": ".py",
   "mimetype": "text/x-python",
   "name": "python",
   "nbconvert_exporter": "python",
   "pygments_lexer": "ipython3",
   "version": "3.9.7"
  }
 },
 "nbformat": 4,
 "nbformat_minor": 5
}

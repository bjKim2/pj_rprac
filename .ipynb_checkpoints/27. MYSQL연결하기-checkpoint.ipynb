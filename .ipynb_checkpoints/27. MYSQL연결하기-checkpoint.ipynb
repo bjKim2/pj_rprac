{
 "cells": [
  {
   "cell_type": "markdown",
   "id": "7ca1de28",
   "metadata": {},
   "source": [
    "# Database Name : RSQL\n",
    "# Table Name : score\n",
    "- id, korean, english, mathematics\n",
    "\n",
    "- Anaconda Navigator\n",
    "- rJava,RMySQL 설치\n",
    "\n"
   ]
  },
  {
   "cell_type": "code",
   "execution_count": 2,
   "id": "9ceadae5",
   "metadata": {},
   "outputs": [],
   "source": [
    "library(RMySQL)"
   ]
  },
  {
   "cell_type": "code",
   "execution_count": 10,
   "id": "c7788c5e",
   "metadata": {},
   "outputs": [],
   "source": [
    "# DB Connection\n",
    "\n",
    "conn <- dbConnect(MySQL(),\n",
    "                  dbname = 'moviesTone',\n",
    "                  user = 'root',\n",
    "                  password = 'qwer1234',\n",
    "                  host = '127.0.0.1'\n",
    "                 )"
   ]
  },
  {
   "cell_type": "code",
   "execution_count": 11,
   "id": "5de4377c",
   "metadata": {},
   "outputs": [
    {
     "data": {
      "text/html": [
       "<ol class=list-inline>\n",
       "\t<li>'director'</li>\n",
       "\t<li>'director_actor'</li>\n",
       "\t<li>'distributor'</li>\n",
       "\t<li>'genre'</li>\n",
       "\t<li>'ju_actor'</li>\n",
       "\t<li>'movie'</li>\n",
       "\t<li>'user'</li>\n",
       "\t<li>'year_screen'</li>\n",
       "</ol>\n"
      ],
      "text/latex": [
       "\\begin{enumerate*}\n",
       "\\item 'director'\n",
       "\\item 'director\\_actor'\n",
       "\\item 'distributor'\n",
       "\\item 'genre'\n",
       "\\item 'ju\\_actor'\n",
       "\\item 'movie'\n",
       "\\item 'user'\n",
       "\\item 'year\\_screen'\n",
       "\\end{enumerate*}\n"
      ],
      "text/markdown": [
       "1. 'director'\n",
       "2. 'director_actor'\n",
       "3. 'distributor'\n",
       "4. 'genre'\n",
       "5. 'ju_actor'\n",
       "6. 'movie'\n",
       "7. 'user'\n",
       "8. 'year_screen'\n",
       "\n",
       "\n"
      ],
      "text/plain": [
       "[1] \"director\"       \"director_actor\" \"distributor\"    \"genre\"         \n",
       "[5] \"ju_actor\"       \"movie\"          \"user\"           \"year_screen\"   "
      ]
     },
     "metadata": {},
     "output_type": "display_data"
    }
   ],
   "source": [
    "# 테이블 목록\n",
    "dbListTables(conn)"
   ]
  },
  {
   "cell_type": "code",
   "execution_count": 13,
   "id": "488b1b7b",
   "metadata": {},
   "outputs": [
    {
     "data": {
      "text/html": [
       "<ol class=list-inline>\n",
       "\t<li>'ju_actor_id'</li>\n",
       "\t<li>'ju_actor_name'</li>\n",
       "\t<li>'ju_actor_score'</li>\n",
       "</ol>\n"
      ],
      "text/latex": [
       "\\begin{enumerate*}\n",
       "\\item 'ju\\_actor\\_id'\n",
       "\\item 'ju\\_actor\\_name'\n",
       "\\item 'ju\\_actor\\_score'\n",
       "\\end{enumerate*}\n"
      ],
      "text/markdown": [
       "1. 'ju_actor_id'\n",
       "2. 'ju_actor_name'\n",
       "3. 'ju_actor_score'\n",
       "\n",
       "\n"
      ],
      "text/plain": [
       "[1] \"ju_actor_id\"    \"ju_actor_name\"  \"ju_actor_score\""
      ]
     },
     "metadata": {},
     "output_type": "display_data"
    }
   ],
   "source": [
    "# 테이블의 컬럼 목록\n",
    "dbListFields(conn, 'ju_actor')"
   ]
  },
  {
   "cell_type": "code",
   "execution_count": 14,
   "id": "35d8f128",
   "metadata": {},
   "outputs": [
    {
     "data": {
      "text/html": [
       "<table>\n",
       "<thead><tr><th scope=col>count(*)</th></tr></thead>\n",
       "<tbody>\n",
       "\t<tr><td>0</td></tr>\n",
       "</tbody>\n",
       "</table>\n"
      ],
      "text/latex": [
       "\\begin{tabular}{r|l}\n",
       " count(*)\\\\\n",
       "\\hline\n",
       "\t 0\\\\\n",
       "\\end{tabular}\n"
      ],
      "text/markdown": [
       "\n",
       "| count(*) |\n",
       "|---|\n",
       "| 0 |\n",
       "\n"
      ],
      "text/plain": [
       "  count(*)\n",
       "1 0       "
      ]
     },
     "metadata": {},
     "output_type": "display_data"
    }
   ],
   "source": [
    "# Select\n",
    "dbGetQuery(conn, 'select count(*) from ju_actor')"
   ]
  },
  {
   "cell_type": "code",
   "execution_count": 15,
   "id": "4bb03108",
   "metadata": {},
   "outputs": [
    {
     "data": {
      "text/html": [
       "<table>\n",
       "<thead><tr><th scope=col>ju_actor_id</th><th scope=col>ju_actor_name</th><th scope=col>ju_actor_score</th></tr></thead>\n",
       "<tbody>\n",
       "</tbody>\n",
       "</table>\n"
      ],
      "text/latex": [
       "\\begin{tabular}{r|lll}\n",
       " ju\\_actor\\_id & ju\\_actor\\_name & ju\\_actor\\_score\\\\\n",
       "\\hline\n",
       "\\end{tabular}\n"
      ],
      "text/markdown": [
       "\n",
       "| ju_actor_id | ju_actor_name | ju_actor_score |\n",
       "|---|---|---|\n",
       "\n"
      ],
      "text/plain": [
       "     ju_actor_id ju_actor_name ju_actor_score"
      ]
     },
     "metadata": {},
     "output_type": "display_data"
    }
   ],
   "source": [
    "dbGetQuery(conn, 'select * from ju_actor')"
   ]
  },
  {
   "cell_type": "code",
   "execution_count": null,
   "id": "5d3e0cc9",
   "metadata": {},
   "outputs": [],
   "source": [
    "read.csv(\"../\")"
   ]
  },
  {
   "cell_type": "code",
   "execution_count": null,
   "id": "6d4a714e",
   "metadata": {},
   "outputs": [],
   "source": []
  },
  {
   "cell_type": "code",
   "execution_count": 8,
   "id": "c655fc17",
   "metadata": {},
   "outputs": [
    {
     "data": {
      "text/plain": [
       "<MySQLResult:1953391939,0,4>"
      ]
     },
     "metadata": {},
     "output_type": "display_data"
    },
    {
     "data": {
      "text/html": [
       "<table>\n",
       "<thead><tr><th scope=col>id</th><th scope=col>korean</th><th scope=col>english</th><th scope=col>mathematics</th></tr></thead>\n",
       "<tbody>\n",
       "\t<tr><td>1  </td><td>100</td><td>100</td><td>100</td></tr>\n",
       "</tbody>\n",
       "</table>\n"
      ],
      "text/latex": [
       "\\begin{tabular}{r|llll}\n",
       " id & korean & english & mathematics\\\\\n",
       "\\hline\n",
       "\t 1   & 100 & 100 & 100\\\\\n",
       "\\end{tabular}\n"
      ],
      "text/markdown": [
       "\n",
       "| id | korean | english | mathematics |\n",
       "|---|---|---|---|\n",
       "| 1   | 100 | 100 | 100 |\n",
       "\n"
      ],
      "text/plain": [
       "  id korean english mathematics\n",
       "1 1  100    100     100        "
      ]
     },
     "metadata": {},
     "output_type": "display_data"
    }
   ],
   "source": [
    "dbSendQuery(conn, 'insert into score values (1,100,100,100)')\n",
    "\n",
    "result = dbGetQuery(conn, 'select * from score')\n",
    "result"
   ]
  },
  {
   "cell_type": "code",
   "execution_count": 9,
   "id": "06894690",
   "metadata": {},
   "outputs": [
    {
     "data": {
      "text/plain": [
       "<MySQLResult:1,0,6>"
      ]
     },
     "metadata": {},
     "output_type": "display_data"
    },
    {
     "data": {
      "text/html": [
       "<table>\n",
       "<thead><tr><th scope=col>id</th><th scope=col>korean</th><th scope=col>english</th><th scope=col>mathematics</th></tr></thead>\n",
       "<tbody>\n",
       "\t<tr><td>1  </td><td>100</td><td>100</td><td>100</td></tr>\n",
       "\t<tr><td>2  </td><td> 90</td><td> 90</td><td> 90</td></tr>\n",
       "</tbody>\n",
       "</table>\n"
      ],
      "text/latex": [
       "\\begin{tabular}{r|llll}\n",
       " id & korean & english & mathematics\\\\\n",
       "\\hline\n",
       "\t 1   & 100 & 100 & 100\\\\\n",
       "\t 2   &  90 &  90 &  90\\\\\n",
       "\\end{tabular}\n"
      ],
      "text/markdown": [
       "\n",
       "| id | korean | english | mathematics |\n",
       "|---|---|---|---|\n",
       "| 1   | 100 | 100 | 100 |\n",
       "| 2   |  90 |  90 |  90 |\n",
       "\n"
      ],
      "text/plain": [
       "  id korean english mathematics\n",
       "1 1  100    100     100        \n",
       "2 2   90     90      90        "
      ]
     },
     "metadata": {},
     "output_type": "display_data"
    }
   ],
   "source": [
    "dbSendQuery(conn, 'insert into score values (2,90,90,90)')\n",
    "\n",
    "result = dbGetQuery(conn, 'select * from score')\n",
    "result"
   ]
  },
  {
   "cell_type": "code",
   "execution_count": 11,
   "id": "8902ad21",
   "metadata": {},
   "outputs": [
    {
     "data": {
      "text/plain": [
       "<MySQLResult:-1075949280,0,8>"
      ]
     },
     "metadata": {},
     "output_type": "display_data"
    },
    {
     "data": {
      "text/html": [
       "<table>\n",
       "<thead><tr><th scope=col>id</th><th scope=col>korean</th><th scope=col>english</th><th scope=col>mathematics</th></tr></thead>\n",
       "<tbody>\n",
       "\t<tr><td>1  </td><td>100</td><td>100</td><td>100</td></tr>\n",
       "\t<tr><td>2  </td><td> 90</td><td> 80</td><td> 70</td></tr>\n",
       "</tbody>\n",
       "</table>\n"
      ],
      "text/latex": [
       "\\begin{tabular}{r|llll}\n",
       " id & korean & english & mathematics\\\\\n",
       "\\hline\n",
       "\t 1   & 100 & 100 & 100\\\\\n",
       "\t 2   &  90 &  80 &  70\\\\\n",
       "\\end{tabular}\n"
      ],
      "text/markdown": [
       "\n",
       "| id | korean | english | mathematics |\n",
       "|---|---|---|---|\n",
       "| 1   | 100 | 100 | 100 |\n",
       "| 2   |  90 |  80 |  70 |\n",
       "\n"
      ],
      "text/plain": [
       "  id korean english mathematics\n",
       "1 1  100    100     100        \n",
       "2 2   90     80      70        "
      ]
     },
     "metadata": {},
     "output_type": "display_data"
    }
   ],
   "source": [
    "# Update\n",
    "dbSendQuery(conn, 'update score set korean = 90, english = 80, mathematics = 70 where id = 2')\n",
    "\n",
    "result = dbGetQuery(conn, 'select * from score')\n",
    "result"
   ]
  },
  {
   "cell_type": "code",
   "execution_count": 13,
   "id": "f579ad3d",
   "metadata": {},
   "outputs": [
    {
     "data": {
      "text/plain": [
       "<MySQLResult:-1098835400,0,12>"
      ]
     },
     "metadata": {},
     "output_type": "display_data"
    },
    {
     "data": {
      "text/html": [
       "<table>\n",
       "<thead><tr><th scope=col>id</th><th scope=col>korean</th><th scope=col>english</th><th scope=col>mathematics</th></tr></thead>\n",
       "<tbody>\n",
       "</tbody>\n",
       "</table>\n"
      ],
      "text/latex": [
       "\\begin{tabular}{r|llll}\n",
       " id & korean & english & mathematics\\\\\n",
       "\\hline\n",
       "\\end{tabular}\n"
      ],
      "text/markdown": [
       "\n",
       "| id | korean | english | mathematics |\n",
       "|---|---|---|---|\n",
       "\n"
      ],
      "text/plain": [
       "     id korean english mathematics"
      ]
     },
     "metadata": {},
     "output_type": "display_data"
    }
   ],
   "source": [
    "dbSendQuery(conn, 'delete from score')\n",
    "\n",
    "result = dbGetQuery(conn, 'select * from score')\n",
    "result"
   ]
  },
  {
   "cell_type": "code",
   "execution_count": 26,
   "id": "81de3055",
   "metadata": {},
   "outputs": [
    {
     "data": {
      "text/html": [
       "<table>\n",
       "<thead><tr><th scope=col>id</th><th scope=col>korean</th><th scope=col>english</th><th scope=col>mathmatics</th></tr></thead>\n",
       "<tbody>\n",
       "\t<tr><td> 1 </td><td> 90</td><td> 80</td><td> 70</td></tr>\n",
       "\t<tr><td> 2 </td><td> 90</td><td> 88</td><td> 70</td></tr>\n",
       "\t<tr><td> 3 </td><td> 90</td><td> 89</td><td> 70</td></tr>\n",
       "\t<tr><td> 4 </td><td> 90</td><td> 87</td><td> 70</td></tr>\n",
       "\t<tr><td> 5 </td><td> 90</td><td> 60</td><td> 70</td></tr>\n",
       "\t<tr><td> 6 </td><td>100</td><td>100</td><td>100</td></tr>\n",
       "\t<tr><td> 7 </td><td>100</td><td>100</td><td>100</td></tr>\n",
       "\t<tr><td> 8 </td><td>100</td><td>100</td><td>100</td></tr>\n",
       "\t<tr><td> 9 </td><td>100</td><td>100</td><td>100</td></tr>\n",
       "\t<tr><td>10 </td><td>100</td><td>100</td><td>100</td></tr>\n",
       "</tbody>\n",
       "</table>\n"
      ],
      "text/latex": [
       "\\begin{tabular}{r|llll}\n",
       " id & korean & english & mathmatics\\\\\n",
       "\\hline\n",
       "\t  1  &  90 &  80 &  70\\\\\n",
       "\t  2  &  90 &  88 &  70\\\\\n",
       "\t  3  &  90 &  89 &  70\\\\\n",
       "\t  4  &  90 &  87 &  70\\\\\n",
       "\t  5  &  90 &  60 &  70\\\\\n",
       "\t  6  & 100 & 100 & 100\\\\\n",
       "\t  7  & 100 & 100 & 100\\\\\n",
       "\t  8  & 100 & 100 & 100\\\\\n",
       "\t  9  & 100 & 100 & 100\\\\\n",
       "\t 10  & 100 & 100 & 100\\\\\n",
       "\\end{tabular}\n"
      ],
      "text/markdown": [
       "\n",
       "| id | korean | english | mathmatics |\n",
       "|---|---|---|---|\n",
       "|  1  |  90 |  80 |  70 |\n",
       "|  2  |  90 |  88 |  70 |\n",
       "|  3  |  90 |  89 |  70 |\n",
       "|  4  |  90 |  87 |  70 |\n",
       "|  5  |  90 |  60 |  70 |\n",
       "|  6  | 100 | 100 | 100 |\n",
       "|  7  | 100 | 100 | 100 |\n",
       "|  8  | 100 | 100 | 100 |\n",
       "|  9  | 100 | 100 | 100 |\n",
       "| 10  | 100 | 100 | 100 |\n",
       "\n"
      ],
      "text/plain": [
       "   id korean english mathmatics\n",
       "1   1  90     80      70       \n",
       "2   2  90     88      70       \n",
       "3   3  90     89      70       \n",
       "4   4  90     87      70       \n",
       "5   5  90     60      70       \n",
       "6   6 100    100     100       \n",
       "7   7 100    100     100       \n",
       "8   8 100    100     100       \n",
       "9   9 100    100     100       \n",
       "10 10 100    100     100       "
      ]
     },
     "metadata": {},
     "output_type": "display_data"
    }
   ],
   "source": [
    "# csv file을 읽어서 MySQL에 넣기\n",
    "data <- read.csv(\"../Data/score.csv\",header=F)\n",
    "colnames(data) = c(\"id\",\"korean\",\"english\",\"mathmatics\")\n",
    "data"
   ]
  },
  {
   "cell_type": "code",
   "execution_count": 27,
   "id": "005217fa",
   "metadata": {},
   "outputs": [
    {
     "data": {
      "text/html": [
       "TRUE"
      ],
      "text/latex": [
       "TRUE"
      ],
      "text/markdown": [
       "TRUE"
      ],
      "text/plain": [
       "[1] TRUE"
      ]
     },
     "metadata": {},
     "output_type": "display_data"
    }
   ],
   "source": [
    "dbWriteTable(conn, \"score\", data, overwrite =T, row.names = F) # append=T(overwrite 안쓸시에 추가 넣는 방식)\n",
    "\n"
   ]
  },
  {
   "cell_type": "code",
   "execution_count": 28,
   "id": "c21878c3",
   "metadata": {},
   "outputs": [
    {
     "data": {
      "text/html": [
       "<table>\n",
       "<thead><tr><th scope=col>id</th><th scope=col>korean</th><th scope=col>english</th><th scope=col>mathmatics</th></tr></thead>\n",
       "<tbody>\n",
       "\t<tr><td>11</td><td>90</td><td>80</td><td>70</td></tr>\n",
       "\t<tr><td>12</td><td>90</td><td>88</td><td>70</td></tr>\n",
       "</tbody>\n",
       "</table>\n"
      ],
      "text/latex": [
       "\\begin{tabular}{r|llll}\n",
       " id & korean & english & mathmatics\\\\\n",
       "\\hline\n",
       "\t 11 & 90 & 80 & 70\\\\\n",
       "\t 12 & 90 & 88 & 70\\\\\n",
       "\\end{tabular}\n"
      ],
      "text/markdown": [
       "\n",
       "| id | korean | english | mathmatics |\n",
       "|---|---|---|---|\n",
       "| 11 | 90 | 80 | 70 |\n",
       "| 12 | 90 | 88 | 70 |\n",
       "\n"
      ],
      "text/plain": [
       "  id korean english mathmatics\n",
       "1 11 90     80      70        \n",
       "2 12 90     88      70        "
      ]
     },
     "metadata": {},
     "output_type": "display_data"
    }
   ],
   "source": [
    "data2 <- read.csv(\"../Data/score2.csv\",header=F)\n",
    "colnames(data2) = c(\"id\",\"korean\",\"english\",\"mathmatics\")\n",
    "data2"
   ]
  },
  {
   "cell_type": "code",
   "execution_count": 29,
   "id": "ee3e8bcf",
   "metadata": {},
   "outputs": [
    {
     "data": {
      "text/html": [
       "TRUE"
      ],
      "text/latex": [
       "TRUE"
      ],
      "text/markdown": [
       "TRUE"
      ],
      "text/plain": [
       "[1] TRUE"
      ]
     },
     "metadata": {},
     "output_type": "display_data"
    }
   ],
   "source": [
    "dbWriteTable(conn, \"score\", data2,append =T, row.names = F)"
   ]
  },
  {
   "cell_type": "code",
   "execution_count": 30,
   "id": "e507e8f6",
   "metadata": {},
   "outputs": [
    {
     "data": {
      "text/html": [
       "<table>\n",
       "<thead><tr><th scope=col>id</th><th scope=col>korean</th><th scope=col>english</th><th scope=col>mathmatics</th></tr></thead>\n",
       "<tbody>\n",
       "\t<tr><td> 1 </td><td> 90</td><td> 80</td><td> 70</td></tr>\n",
       "\t<tr><td> 2 </td><td> 90</td><td> 88</td><td> 70</td></tr>\n",
       "\t<tr><td> 3 </td><td> 90</td><td> 89</td><td> 70</td></tr>\n",
       "\t<tr><td> 4 </td><td> 90</td><td> 87</td><td> 70</td></tr>\n",
       "\t<tr><td> 5 </td><td> 90</td><td> 60</td><td> 70</td></tr>\n",
       "\t<tr><td> 6 </td><td>100</td><td>100</td><td>100</td></tr>\n",
       "\t<tr><td> 7 </td><td>100</td><td>100</td><td>100</td></tr>\n",
       "\t<tr><td> 8 </td><td>100</td><td>100</td><td>100</td></tr>\n",
       "\t<tr><td> 9 </td><td>100</td><td>100</td><td>100</td></tr>\n",
       "\t<tr><td>10 </td><td>100</td><td>100</td><td>100</td></tr>\n",
       "\t<tr><td>11 </td><td> 90</td><td> 80</td><td> 70</td></tr>\n",
       "\t<tr><td>12 </td><td> 90</td><td> 88</td><td> 70</td></tr>\n",
       "</tbody>\n",
       "</table>\n"
      ],
      "text/latex": [
       "\\begin{tabular}{r|llll}\n",
       " id & korean & english & mathmatics\\\\\n",
       "\\hline\n",
       "\t  1  &  90 &  80 &  70\\\\\n",
       "\t  2  &  90 &  88 &  70\\\\\n",
       "\t  3  &  90 &  89 &  70\\\\\n",
       "\t  4  &  90 &  87 &  70\\\\\n",
       "\t  5  &  90 &  60 &  70\\\\\n",
       "\t  6  & 100 & 100 & 100\\\\\n",
       "\t  7  & 100 & 100 & 100\\\\\n",
       "\t  8  & 100 & 100 & 100\\\\\n",
       "\t  9  & 100 & 100 & 100\\\\\n",
       "\t 10  & 100 & 100 & 100\\\\\n",
       "\t 11  &  90 &  80 &  70\\\\\n",
       "\t 12  &  90 &  88 &  70\\\\\n",
       "\\end{tabular}\n"
      ],
      "text/markdown": [
       "\n",
       "| id | korean | english | mathmatics |\n",
       "|---|---|---|---|\n",
       "|  1  |  90 |  80 |  70 |\n",
       "|  2  |  90 |  88 |  70 |\n",
       "|  3  |  90 |  89 |  70 |\n",
       "|  4  |  90 |  87 |  70 |\n",
       "|  5  |  90 |  60 |  70 |\n",
       "|  6  | 100 | 100 | 100 |\n",
       "|  7  | 100 | 100 | 100 |\n",
       "|  8  | 100 | 100 | 100 |\n",
       "|  9  | 100 | 100 | 100 |\n",
       "| 10  | 100 | 100 | 100 |\n",
       "| 11  |  90 |  80 |  70 |\n",
       "| 12  |  90 |  88 |  70 |\n",
       "\n"
      ],
      "text/plain": [
       "   id korean english mathmatics\n",
       "1   1  90     80      70       \n",
       "2   2  90     88      70       \n",
       "3   3  90     89      70       \n",
       "4   4  90     87      70       \n",
       "5   5  90     60      70       \n",
       "6   6 100    100     100       \n",
       "7   7 100    100     100       \n",
       "8   8 100    100     100       \n",
       "9   9 100    100     100       \n",
       "10 10 100    100     100       \n",
       "11 11  90     80      70       \n",
       "12 12  90     88      70       "
      ]
     },
     "metadata": {},
     "output_type": "display_data"
    }
   ],
   "source": [
    "result = dbGetQuery(conn, 'select * from score')\n",
    "result"
   ]
  },
  {
   "cell_type": "code",
   "execution_count": 31,
   "id": "29f624dc",
   "metadata": {},
   "outputs": [
    {
     "data": {
      "text/html": [
       "TRUE"
      ],
      "text/latex": [
       "TRUE"
      ],
      "text/markdown": [
       "TRUE"
      ],
      "text/plain": [
       "[1] TRUE"
      ]
     },
     "metadata": {},
     "output_type": "display_data"
    }
   ],
   "source": [
    "#Disconnect\n",
    "dbDisconnect(conn)"
   ]
  },
  {
   "cell_type": "code",
   "execution_count": null,
   "id": "d801b206",
   "metadata": {},
   "outputs": [],
   "source": []
  }
 ],
 "metadata": {
  "kernelspec": {
   "display_name": "R",
   "language": "R",
   "name": "ir"
  },
  "language_info": {
   "codemirror_mode": "r",
   "file_extension": ".r",
   "mimetype": "text/x-r-source",
   "name": "R",
   "pygments_lexer": "r",
   "version": "3.6.1"
  }
 },
 "nbformat": 4,
 "nbformat_minor": 5
}

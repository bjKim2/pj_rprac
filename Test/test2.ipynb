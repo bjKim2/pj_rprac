{
 "cells": [
  {
   "cell_type": "code",
   "execution_count": 3,
   "id": "6cc0dbd0",
   "metadata": {},
   "outputs": [],
   "source": [
    "df <- read.csv( \"../movies2/rice.csv\")\n",
    "df2 <- read.csv( \"../movies2/First_Price.csv\")\n",
    "df3 <- read.csv( \"../movies2/MLData.csv\")\n",
    "df4 <- read.csv( \"../movies2/mainData.csv\")\n"
   ]
  },
  {
   "cell_type": "code",
   "execution_count": 12,
   "id": "77f8be71",
   "metadata": {},
   "outputs": [
    {
     "data": {
      "text/html": [
       "<table>\n",
       "<thead><tr><th scope=col>cluster</th><th scope=col>감독_배우시너지</th><th scope=col>스크린점유율</th><th scope=col>감독점수</th><th scope=col>장르_관객점수부여</th><th scope=col>배우점수</th><th scope=col>배급사점수</th></tr></thead>\n",
       "<tbody>\n",
       "\t<tr><td>1       </td><td>3       </td><td>23.79760</td><td>3.000000</td><td>10      </td><td>4.000000</td><td>1       </td></tr>\n",
       "\t<tr><td>1       </td><td>8       </td><td>48.26242</td><td>2.000000</td><td>10      </td><td>8.250000</td><td>1       </td></tr>\n",
       "\t<tr><td>1       </td><td>0       </td><td>36.90476</td><td>2.333333</td><td>10      </td><td>4.000000</td><td>1       </td></tr>\n",
       "\t<tr><td>1       </td><td>3       </td><td>35.27944</td><td>3.571429</td><td>10      </td><td>6.777778</td><td>1       </td></tr>\n",
       "</tbody>\n",
       "</table>\n"
      ],
      "text/latex": [
       "\\begin{tabular}{r|lllllll}\n",
       " cluster & 감독\\_배우시너지 & 스크린점유율 & 감독점수 & 장르\\_관객점수부여 & 배우점수 & 배급사점수\\\\\n",
       "\\hline\n",
       "\t 1        & 3        & 23.79760 & 3.000000 & 10       & 4.000000 & 1       \\\\\n",
       "\t 1        & 8        & 48.26242 & 2.000000 & 10       & 8.250000 & 1       \\\\\n",
       "\t 1        & 0        & 36.90476 & 2.333333 & 10       & 4.000000 & 1       \\\\\n",
       "\t 1        & 3        & 35.27944 & 3.571429 & 10       & 6.777778 & 1       \\\\\n",
       "\\end{tabular}\n"
      ],
      "text/markdown": [
       "\n",
       "| cluster | 감독_배우시너지 | 스크린점유율 | 감독점수 | 장르_관객점수부여 | 배우점수 | 배급사점수 |\n",
       "|---|---|---|---|---|---|---|\n",
       "| 1        | 3        | 23.79760 | 3.000000 | 10       | 4.000000 | 1        |\n",
       "| 1        | 8        | 48.26242 | 2.000000 | 10       | 8.250000 | 1        |\n",
       "| 1        | 0        | 36.90476 | 2.333333 | 10       | 4.000000 | 1        |\n",
       "| 1        | 3        | 35.27944 | 3.571429 | 10       | 6.777778 | 1        |\n",
       "\n"
      ],
      "text/plain": [
       "  cluster 감독_배우시너지 스크린점유율 감독점수 장르_관객점수부여 배우점수\n",
       "1 1       3               23.79760     3.000000 10                4.000000\n",
       "2 1       8               48.26242     2.000000 10                8.250000\n",
       "3 1       0               36.90476     2.333333 10                4.000000\n",
       "4 1       3               35.27944     3.571429 10                6.777778\n",
       "  배급사점수\n",
       "1 1         \n",
       "2 1         \n",
       "3 1         \n",
       "4 1         "
      ]
     },
     "metadata": {},
     "output_type": "display_data"
    }
   ],
   "source": [
    "head(df,4)"
   ]
  },
  {
   "cell_type": "code",
   "execution_count": 14,
   "id": "8eb6b792",
   "metadata": {},
   "outputs": [
    {
     "data": {
      "text/html": [
       "<table>\n",
       "<thead><tr><th scope=col>영화명</th><th scope=col>누적매출액</th><th scope=col>누적관객수</th><th scope=col>스크린수</th><th scope=col>상영횟수</th><th scope=col>개봉일</th><th scope=col>배급사</th><th scope=col>등급</th><th scope=col>장르</th><th scope=col>감독</th><th scope=col>...</th><th scope=col>배우누적점수</th><th scope=col>배우점수</th><th scope=col>감독점수</th><th scope=col>장르_관객점수부여</th><th scope=col>휴일</th><th scope=col>X12세이상관람가</th><th scope=col>X15세이상관람가</th><th scope=col>전체관람가</th><th scope=col>청소년관람불가</th><th scope=col>배급사점수</th></tr></thead>\n",
       "<tbody>\n",
       "\t<tr><td>7급 공무원             </td><td>26380710000            </td><td>4039891                </td><td> 475                   </td><td> 90779                 </td><td>2009-04-22             </td><td>(주)롯데엔터테인먼트   </td><td>12세이상관람가         </td><td>코미디,액션,드라마,범죄</td><td>신태라                 </td><td>...                    </td><td> 6.50000               </td><td>4.000000               </td><td>3.000000               </td><td>10                     </td><td>9                      </td><td> TRUE                  </td><td>FALSE                  </td><td>FALSE                  </td><td>FALSE                  </td><td>2                      </td></tr>\n",
       "\t<tr><td>82년생 김지영          </td><td>30298542310            </td><td>3678156                </td><td>1486                   </td><td>145441                 </td><td>2019-10-23             </td><td>(주)롯데엔터테인먼트   </td><td>12세이상관람가         </td><td>드라마                 </td><td>김도영                 </td><td>...                    </td><td>14.75000               </td><td>8.250000               </td><td>2.000000               </td><td>10                     </td><td>8                      </td><td> TRUE                  </td><td>FALSE                  </td><td>FALSE                  </td><td>FALSE                  </td><td>2                      </td></tr>\n",
       "\t<tr><td>감기                   </td><td>21774884000            </td><td>3117859                </td><td> 806                   </td><td> 55046                 </td><td>2013-08-14             </td><td>아이러브시네마         </td><td>15세이상관람가         </td><td>드라마,어드벤처,액션   </td><td>김성수                 </td><td>...                    </td><td>10.50000               </td><td>4.000000               </td><td>2.333333               </td><td>10                     </td><td>8                      </td><td>FALSE                  </td><td> TRUE                  </td><td>FALSE                  </td><td>FALSE                  </td><td>1                      </td></tr>\n",
       "\t<tr><td>강철중: 공공의 적 1-1  </td><td>28638460100            </td><td>4313101                </td><td> 707                   </td><td> 74157                 </td><td>2008-06-19             </td><td>CJ ENM                 </td><td>15세이상관람가         </td><td>드라마,액션            </td><td>강우석                 </td><td>...                    </td><td>10.63492               </td><td>6.777778               </td><td>3.571429               </td><td>10                     </td><td>9                      </td><td>FALSE                  </td><td> TRUE                  </td><td>FALSE                  </td><td>FALSE                  </td><td>3                      </td></tr>\n",
       "</tbody>\n",
       "</table>\n"
      ],
      "text/latex": [
       "\\begin{tabular}{r|llllllllllllllllllllllllllll}\n",
       " 영화명 & 누적매출액 & 누적관객수 & 스크린수 & 상영횟수 & 개봉일 & 배급사 & 등급 & 장르 & 감독 & ... & 배우누적점수 & 배우점수 & 감독점수 & 장르\\_관객점수부여 & 휴일 & X12세이상관람가 & X15세이상관람가 & 전체관람가 & 청소년관람불가 & 배급사점수\\\\\n",
       "\\hline\n",
       "\t 7급 공무원              & 26380710000             & 4039891                 &  475                    &  90779                  & 2009-04-22              & (주)롯데엔터테인먼트    & 12세이상관람가          & 코미디,액션,드라마,범죄 & 신태라                  & ...                     &  6.50000                & 4.000000                & 3.000000                & 10                      & 9                       &  TRUE                   & FALSE                   & FALSE                   & FALSE                   & 2                      \\\\\n",
       "\t 82년생 김지영           & 30298542310             & 3678156                 & 1486                    & 145441                  & 2019-10-23              & (주)롯데엔터테인먼트    & 12세이상관람가          & 드라마                  & 김도영                  & ...                     & 14.75000                & 8.250000                & 2.000000                & 10                      & 8                       &  TRUE                   & FALSE                   & FALSE                   & FALSE                   & 2                      \\\\\n",
       "\t 감기                    & 21774884000             & 3117859                 &  806                    &  55046                  & 2013-08-14              & 아이러브시네마          & 15세이상관람가          & 드라마,어드벤처,액션    & 김성수                  & ...                     & 10.50000                & 4.000000                & 2.333333                & 10                      & 8                       & FALSE                   &  TRUE                   & FALSE                   & FALSE                   & 1                      \\\\\n",
       "\t 강철중: 공공의 적 1-1   & 28638460100             & 4313101                 &  707                    &  74157                  & 2008-06-19              & CJ ENM                  & 15세이상관람가          & 드라마,액션             & 강우석                  & ...                     & 10.63492                & 6.777778                & 3.571429                & 10                      & 9                       & FALSE                   &  TRUE                   & FALSE                   & FALSE                   & 3                      \\\\\n",
       "\\end{tabular}\n"
      ],
      "text/markdown": [
       "\n",
       "| 영화명 | 누적매출액 | 누적관객수 | 스크린수 | 상영횟수 | 개봉일 | 배급사 | 등급 | 장르 | 감독 | ... | 배우누적점수 | 배우점수 | 감독점수 | 장르_관객점수부여 | 휴일 | X12세이상관람가 | X15세이상관람가 | 전체관람가 | 청소년관람불가 | 배급사점수 |\n",
       "|---|---|---|---|---|---|---|---|---|---|---|---|---|---|---|---|---|---|---|---|---|\n",
       "| 7급 공무원              | 26380710000             | 4039891                 |  475                    |  90779                  | 2009-04-22              | (주)롯데엔터테인먼트    | 12세이상관람가          | 코미디,액션,드라마,범죄 | 신태라                  | ...                     |  6.50000                | 4.000000                | 3.000000                | 10                      | 9                       |  TRUE                   | FALSE                   | FALSE                   | FALSE                   | 2                       |\n",
       "| 82년생 김지영           | 30298542310             | 3678156                 | 1486                    | 145441                  | 2019-10-23              | (주)롯데엔터테인먼트    | 12세이상관람가          | 드라마                  | 김도영                  | ...                     | 14.75000                | 8.250000                | 2.000000                | 10                      | 8                       |  TRUE                   | FALSE                   | FALSE                   | FALSE                   | 2                       |\n",
       "| 감기                    | 21774884000             | 3117859                 |  806                    |  55046                  | 2013-08-14              | 아이러브시네마          | 15세이상관람가          | 드라마,어드벤처,액션    | 김성수                  | ...                     | 10.50000                | 4.000000                | 2.333333                | 10                      | 8                       | FALSE                   |  TRUE                   | FALSE                   | FALSE                   | 1                       |\n",
       "| 강철중: 공공의 적 1-1   | 28638460100             | 4313101                 |  707                    |  74157                  | 2008-06-19              | CJ ENM                  | 15세이상관람가          | 드라마,액션             | 강우석                  | ...                     | 10.63492                | 6.777778                | 3.571429                | 10                      | 9                       | FALSE                   |  TRUE                   | FALSE                   | FALSE                   | 3                       |\n",
       "\n"
      ],
      "text/plain": [
       "  영화명                누적매출액  누적관객수 스크린수 상영횟수 개봉일    \n",
       "1 7급 공무원            26380710000 4039891     475      90779   2009-04-22\n",
       "2 82년생 김지영         30298542310 3678156    1486     145441   2019-10-23\n",
       "3 감기                  21774884000 3117859     806      55046   2013-08-14\n",
       "4 강철중: 공공의 적 1-1 28638460100 4313101     707      74157   2008-06-19\n",
       "  배급사               등급           장르                    감독   ...\n",
       "1 (주)롯데엔터테인먼트 12세이상관람가 코미디,액션,드라마,범죄 신태라 ...\n",
       "2 (주)롯데엔터테인먼트 12세이상관람가 드라마                  김도영 ...\n",
       "3 아이러브시네마       15세이상관람가 드라마,어드벤처,액션    김성수 ...\n",
       "4 CJ ENM               15세이상관람가 드라마,액션             강우석 ...\n",
       "  배우누적점수 배우점수 감독점수 장르_관객점수부여 휴일 X12세이상관람가\n",
       "1  6.50000     4.000000 3.000000 10                9     TRUE          \n",
       "2 14.75000     8.250000 2.000000 10                8     TRUE          \n",
       "3 10.50000     4.000000 2.333333 10                8    FALSE          \n",
       "4 10.63492     6.777778 3.571429 10                9    FALSE          \n",
       "  X15세이상관람가 전체관람가 청소년관람불가 배급사점수\n",
       "1 FALSE           FALSE      FALSE          2         \n",
       "2 FALSE           FALSE      FALSE          2         \n",
       "3  TRUE           FALSE      FALSE          1         \n",
       "4  TRUE           FALSE      FALSE          3         "
      ]
     },
     "metadata": {},
     "output_type": "display_data"
    }
   ],
   "source": [
    "head(df2,4)"
   ]
  },
  {
   "cell_type": "code",
   "execution_count": 15,
   "id": "b4077e9e",
   "metadata": {},
   "outputs": [
    {
     "data": {
      "text/html": [
       "<table>\n",
       "<thead><tr><th scope=col>cluster</th><th scope=col>감독_배우시너지</th><th scope=col>스크린점유율</th><th scope=col>감독점수</th><th scope=col>장르_관객점수부여</th><th scope=col>휴일</th><th scope=col>X12세이상관람가</th><th scope=col>X15세이상관람가</th><th scope=col>전체관람가</th><th scope=col>청소년관람불가</th><th scope=col>배우점수</th><th scope=col>누적관객수</th></tr></thead>\n",
       "<tbody>\n",
       "\t<tr><td>1       </td><td>3       </td><td>23.79760</td><td>3.000000</td><td>10      </td><td>9       </td><td> TRUE   </td><td>FALSE   </td><td>FALSE   </td><td>FALSE   </td><td>4.000000</td><td>4039891 </td></tr>\n",
       "\t<tr><td>1       </td><td>8       </td><td>48.26242</td><td>2.000000</td><td>10      </td><td>8       </td><td> TRUE   </td><td>FALSE   </td><td>FALSE   </td><td>FALSE   </td><td>8.250000</td><td>3678156 </td></tr>\n",
       "\t<tr><td>1       </td><td>0       </td><td>36.90476</td><td>2.333333</td><td>10      </td><td>8       </td><td>FALSE   </td><td> TRUE   </td><td>FALSE   </td><td>FALSE   </td><td>4.000000</td><td>3117859 </td></tr>\n",
       "\t<tr><td>1       </td><td>3       </td><td>35.27944</td><td>3.571429</td><td>10      </td><td>9       </td><td>FALSE   </td><td> TRUE   </td><td>FALSE   </td><td>FALSE   </td><td>6.777778</td><td>4313101 </td></tr>\n",
       "</tbody>\n",
       "</table>\n"
      ],
      "text/latex": [
       "\\begin{tabular}{r|llllllllllll}\n",
       " cluster & 감독\\_배우시너지 & 스크린점유율 & 감독점수 & 장르\\_관객점수부여 & 휴일 & X12세이상관람가 & X15세이상관람가 & 전체관람가 & 청소년관람불가 & 배우점수 & 누적관객수\\\\\n",
       "\\hline\n",
       "\t 1        & 3        & 23.79760 & 3.000000 & 10       & 9        &  TRUE    & FALSE    & FALSE    & FALSE    & 4.000000 & 4039891 \\\\\n",
       "\t 1        & 8        & 48.26242 & 2.000000 & 10       & 8        &  TRUE    & FALSE    & FALSE    & FALSE    & 8.250000 & 3678156 \\\\\n",
       "\t 1        & 0        & 36.90476 & 2.333333 & 10       & 8        & FALSE    &  TRUE    & FALSE    & FALSE    & 4.000000 & 3117859 \\\\\n",
       "\t 1        & 3        & 35.27944 & 3.571429 & 10       & 9        & FALSE    &  TRUE    & FALSE    & FALSE    & 6.777778 & 4313101 \\\\\n",
       "\\end{tabular}\n"
      ],
      "text/markdown": [
       "\n",
       "| cluster | 감독_배우시너지 | 스크린점유율 | 감독점수 | 장르_관객점수부여 | 휴일 | X12세이상관람가 | X15세이상관람가 | 전체관람가 | 청소년관람불가 | 배우점수 | 누적관객수 |\n",
       "|---|---|---|---|---|---|---|---|---|---|---|---|\n",
       "| 1        | 3        | 23.79760 | 3.000000 | 10       | 9        |  TRUE    | FALSE    | FALSE    | FALSE    | 4.000000 | 4039891  |\n",
       "| 1        | 8        | 48.26242 | 2.000000 | 10       | 8        |  TRUE    | FALSE    | FALSE    | FALSE    | 8.250000 | 3678156  |\n",
       "| 1        | 0        | 36.90476 | 2.333333 | 10       | 8        | FALSE    |  TRUE    | FALSE    | FALSE    | 4.000000 | 3117859  |\n",
       "| 1        | 3        | 35.27944 | 3.571429 | 10       | 9        | FALSE    |  TRUE    | FALSE    | FALSE    | 6.777778 | 4313101  |\n",
       "\n"
      ],
      "text/plain": [
       "  cluster 감독_배우시너지 스크린점유율 감독점수 장르_관객점수부여 휴일\n",
       "1 1       3               23.79760     3.000000 10                9   \n",
       "2 1       8               48.26242     2.000000 10                8   \n",
       "3 1       0               36.90476     2.333333 10                8   \n",
       "4 1       3               35.27944     3.571429 10                9   \n",
       "  X12세이상관람가 X15세이상관람가 전체관람가 청소년관람불가 배우점수 누적관객수\n",
       "1  TRUE           FALSE           FALSE      FALSE          4.000000 4039891   \n",
       "2  TRUE           FALSE           FALSE      FALSE          8.250000 3678156   \n",
       "3 FALSE            TRUE           FALSE      FALSE          4.000000 3117859   \n",
       "4 FALSE            TRUE           FALSE      FALSE          6.777778 4313101   "
      ]
     },
     "metadata": {},
     "output_type": "display_data"
    }
   ],
   "source": [
    "head(df3,4)"
   ]
  },
  {
   "cell_type": "code",
   "execution_count": 9,
   "id": "bfd2b49d",
   "metadata": {},
   "outputs": [
    {
     "data": {
      "text/html": [
       "<table>\n",
       "<thead><tr><th scope=col>영화명</th><th scope=col>누적매출액</th><th scope=col>누적관객수</th><th scope=col>스크린수</th><th scope=col>상영횟수</th><th scope=col>개봉일</th><th scope=col>배급사</th><th scope=col>등급</th><th scope=col>장르</th><th scope=col>감독</th><th scope=col>...</th><th scope=col>스크린점유율</th><th scope=col>배우누적점수</th><th scope=col>배우점수</th><th scope=col>감독점수</th><th scope=col>장르_관객점수부여</th><th scope=col>휴일</th><th scope=col>X12세이상관람가</th><th scope=col>X15세이상관람가</th><th scope=col>전체관람가</th><th scope=col>청소년관람불가</th></tr></thead>\n",
       "<tbody>\n",
       "\t<tr><td>7급 공무원                </td><td>26380710000               </td><td>4039891                   </td><td>475                       </td><td>90779                     </td><td>2009-04-22                </td><td>롯데쇼핑㈜롯데엔터테인먼트</td><td>12세이상관람가            </td><td>코미디,액션,드라마,범죄   </td><td>신태라                    </td><td>...                       </td><td>23.7976                   </td><td>6.5                       </td><td>4                         </td><td>3                         </td><td>10                        </td><td>9                         </td><td>TRUE                      </td><td>FALSE                     </td><td>FALSE                     </td><td>FALSE                     </td></tr>\n",
       "</tbody>\n",
       "</table>\n"
      ],
      "text/latex": [
       "\\begin{tabular}{r|lllllllllllllllllllllllllll}\n",
       " 영화명 & 누적매출액 & 누적관객수 & 스크린수 & 상영횟수 & 개봉일 & 배급사 & 등급 & 장르 & 감독 & ... & 스크린점유율 & 배우누적점수 & 배우점수 & 감독점수 & 장르\\_관객점수부여 & 휴일 & X12세이상관람가 & X15세이상관람가 & 전체관람가 & 청소년관람불가\\\\\n",
       "\\hline\n",
       "\t 7급 공무원                 & 26380710000                & 4039891                    & 475                        & 90779                      & 2009-04-22                 & 롯데쇼핑㈜롯데엔터테인먼트 & 12세이상관람가             & 코미디,액션,드라마,범죄    & 신태라                     & ...                        & 23.7976                    & 6.5                        & 4                          & 3                          & 10                         & 9                          & TRUE                       & FALSE                      & FALSE                      & FALSE                     \\\\\n",
       "\\end{tabular}\n"
      ],
      "text/markdown": [
       "\n",
       "| 영화명 | 누적매출액 | 누적관객수 | 스크린수 | 상영횟수 | 개봉일 | 배급사 | 등급 | 장르 | 감독 | ... | 스크린점유율 | 배우누적점수 | 배우점수 | 감독점수 | 장르_관객점수부여 | 휴일 | X12세이상관람가 | X15세이상관람가 | 전체관람가 | 청소년관람불가 |\n",
       "|---|---|---|---|---|---|---|---|---|---|---|---|---|---|---|---|---|---|---|---|---|\n",
       "| 7급 공무원                 | 26380710000                | 4039891                    | 475                        | 90779                      | 2009-04-22                 | 롯데쇼핑㈜롯데엔터테인먼트 | 12세이상관람가             | 코미디,액션,드라마,범죄    | 신태라                     | ...                        | 23.7976                    | 6.5                        | 4                          | 3                          | 10                         | 9                          | TRUE                       | FALSE                      | FALSE                      | FALSE                      |\n",
       "\n"
      ],
      "text/plain": [
       "  영화명     누적매출액  누적관객수 스크린수 상영횟수 개봉일    \n",
       "1 7급 공무원 26380710000 4039891    475      90779    2009-04-22\n",
       "  배급사                     등급           장르                    감독   ...\n",
       "1 롯데쇼핑㈜롯데엔터테인먼트 12세이상관람가 코미디,액션,드라마,범죄 신태라 ...\n",
       "  스크린점유율 배우누적점수 배우점수 감독점수 장르_관객점수부여 휴일\n",
       "1 23.7976      6.5          4        3        10                9   \n",
       "  X12세이상관람가 X15세이상관람가 전체관람가 청소년관람불가\n",
       "1 TRUE            FALSE           FALSE      FALSE         "
      ]
     },
     "metadata": {},
     "output_type": "display_data"
    }
   ],
   "source": [
    "head(df4,1)"
   ]
  },
  {
   "cell_type": "code",
   "execution_count": 10,
   "id": "52a659fc",
   "metadata": {},
   "outputs": [
    {
     "name": "stdout",
     "output_type": "stream",
     "text": [
      "'data.frame':\t108 obs. of  27 variables:\n",
      " $ 영화명              : Factor w/ 108 levels \"1987\",\"7급 공무원\",..: 2 3 5 8 9 10 14 20 23 24 ...\n",
      " $ 누적매출액          : num  2.64e+10 3.03e+10 2.18e+10 2.86e+10 2.06e+10 ...\n",
      " $ 누적관객수          : int  4039891 3678156 3117859 4313101 3024666 4111237 3134421 3755233 3587182 3420172 ...\n",
      " $ 스크린수            : int  475 1486 806 707 432 593 299 1180 876 956 ...\n",
      " $ 상영횟수            : int  90779 145441 55046 74157 69946 106069 40642 101077 90288 95437 ...\n",
      " $ 개봉일              : Factor w/ 103 levels \"2005-01-27\",\"2005-07-29\",..: 19 102 51 14 20 38 1 96 70 88 ...\n",
      " $ 배급사              : Factor w/ 17 levels \"(주)넥스트엔터테인먼트월드(NEW)\",..: 8 11 13 17 2 8 3 16 7 16 ...\n",
      " $ 등급                : Factor w/ 7 levels \"12세관람가\",\"12세이상관람가\",..: 2 2 4 4 4 2 3 2 4 2 ...\n",
      " $ 장르                : Factor w/ 50 levels \"공포(호러),멜로/로맨스,코미디\",..: 49 3 8 5 6 11 3 3 3 44 ...\n",
      " $ 감독                : Factor w/ 79 levels \"강대규\",\"강우석\",..: 34 7 11 2 47 48 2 72 70 74 ...\n",
      " $ 주연                : Factor w/ 108 levels \"강동원,김윤석,임수정,유해진\",..: 25 74 71 39 20 53 40 26 2 62 ...\n",
      " $ 제작사              : Factor w/ 92 levels \"(유)내부자들 문화전문회사\",..: 73 15 81 27 32 11 24 82 88 61 ...\n",
      " $ 조연                : Factor w/ 108 levels \",강성필,최윤영,한효주,박용기,임세호,박용식,이기열,전창걸\",..: 35 10 66 2 22 94 3 29 61 37 ...\n",
      " $ cluster             : int  1 1 1 1 1 1 1 1 1 1 ...\n",
      " $ 감독_배우시너지     : int  3 8 0 3 0 6 1 5 7 4 ...\n",
      " $ 감독_배우악연       : int  0 0 0 1 0 0 2 0 0 0 ...\n",
      " $ 상영횟수당누적관객수: num  44.5 25.3 56.6 58.2 43.2 ...\n",
      " $ 스크린점유율        : num  23.8 48.3 36.9 35.3 21.6 ...\n",
      " $ 배우누적점수        : num  6.5 14.8 10.5 10.6 17.7 ...\n",
      " $ 배우점수            : num  4 8.25 4 6.78 7.67 ...\n",
      " $ 감독점수            : num  3 2 2.33 3.57 3.5 ...\n",
      " $ 장르_관객점수부여   : int  10 10 10 10 10 20 10 10 10 10 ...\n",
      " $ 휴일                : int  9 8 8 9 9 10 12 9 9 9 ...\n",
      " $ X12세이상관람가     : logi  TRUE TRUE FALSE FALSE FALSE TRUE ...\n",
      " $ X15세이상관람가     : logi  FALSE FALSE TRUE TRUE TRUE FALSE ...\n",
      " $ 전체관람가          : logi  FALSE FALSE FALSE FALSE FALSE FALSE ...\n",
      " $ 청소년관람불가      : logi  FALSE FALSE FALSE FALSE FALSE FALSE ...\n"
     ]
    }
   ],
   "source": [
    "str(df4)"
   ]
  },
  {
   "cell_type": "code",
   "execution_count": null,
   "id": "47c6af14",
   "metadata": {},
   "outputs": [],
   "source": []
  }
 ],
 "metadata": {
  "kernelspec": {
   "display_name": "R",
   "language": "R",
   "name": "ir"
  },
  "language_info": {
   "codemirror_mode": "r",
   "file_extension": ".r",
   "mimetype": "text/x-r-source",
   "name": "R",
   "pygments_lexer": "r",
   "version": "3.6.1"
  }
 },
 "nbformat": 4,
 "nbformat_minor": 5
}

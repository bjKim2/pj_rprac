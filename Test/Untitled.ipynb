{
 "cells": [
  {
   "cell_type": "code",
   "execution_count": 3,
   "id": "5d633628",
   "metadata": {},
   "outputs": [],
   "source": [
    "df <-read.csv(\"../movies/temp_mining_ver1.csv\")\n",
    "actor_score_df <-read.csv(\"../movies/actor_score_109.csv\")\n",
    "director_score_df <-read.csv(\"../movies/director_score_109.csv\")\n"
   ]
  },
  {
   "cell_type": "code",
   "execution_count": 7,
   "id": "532483d6",
   "metadata": {},
   "outputs": [],
   "source": [
    "library(dplyr)"
   ]
  },
  {
   "cell_type": "code",
   "execution_count": null,
   "id": "34f6ea95",
   "metadata": {},
   "outputs": [],
   "source": []
  },
  {
   "cell_type": "code",
   "execution_count": 9,
   "id": "0b82e35c",
   "metadata": {},
   "outputs": [
    {
     "data": {
      "text/html": [
       "<table>\n",
       "<thead><tr><th scope=col>누적관객수</th><th scope=col>스크린수</th><th scope=col>상영횟수</th><th scope=col>개봉일</th><th scope=col>배급사</th><th scope=col>등급</th><th scope=col>장르</th><th scope=col>감독</th><th scope=col>주연</th><th scope=col>제작사</th><th scope=col>cluster</th><th scope=col>조연</th><th scope=col>감독_주연조연시너지수</th><th scope=col>감독_주연조연악연수</th><th scope=col>상영횟수당누적관객수</th><th scope=col>스크린점유율</th></tr></thead>\n",
       "<tbody>\n",
       "\t<tr><td>7232387                                                                                                                             </td><td>1299                                                                                                                                </td><td>138226                                                                                                                              </td><td>2017-12-27                                                                                                                          </td><td>CJ ENM                                                                                                                              </td><td>15세이상관람가                                                                                                                      </td><td>드라마                                                                                                                              </td><td>장준환                                                                                                                              </td><td>김윤석,하정우,유해진,김태리,박희순,이희준                                                                                           </td><td>(주)우정필름                                                                                                                        </td><td>4                                                                                                                                   </td><td>유승목,현봉식,박지환,이용직,박지홍,김경덕,김의성,최광일,김수진,김종수,김혜정,조우진,임철형,이창훈,서현우,이현균,김승훈,박경혜,이화룡</td><td>6                                                                                                                                   </td><td>0                                                                                                                                   </td><td>52.32291                                                                                                                            </td><td>46.96312                                                                                                                            </td></tr>\n",
       "</tbody>\n",
       "</table>\n"
      ],
      "text/latex": [
       "\\begin{tabular}{r|llllllllllllllll}\n",
       " 누적관객수 & 스크린수 & 상영횟수 & 개봉일 & 배급사 & 등급 & 장르 & 감독 & 주연 & 제작사 & cluster & 조연 & 감독\\_주연조연시너지수 & 감독\\_주연조연악연수 & 상영횟수당누적관객수 & 스크린점유율\\\\\n",
       "\\hline\n",
       "\t 7232387                                                                                                                              & 1299                                                                                                                                 & 138226                                                                                                                               & 2017-12-27                                                                                                                           & CJ ENM                                                                                                                               & 15세이상관람가                                                                                                                       & 드라마                                                                                                                               & 장준환                                                                                                                               & 김윤석,하정우,유해진,김태리,박희순,이희준                                                                                            & (주)우정필름                                                                                                                         & 4                                                                                                                                    & 유승목,현봉식,박지환,이용직,박지홍,김경덕,김의성,최광일,김수진,김종수,김혜정,조우진,임철형,이창훈,서현우,이현균,김승훈,박경혜,이화룡 & 6                                                                                                                                    & 0                                                                                                                                    & 52.32291                                                                                                                             & 46.96312                                                                                                                            \\\\\n",
       "\\end{tabular}\n"
      ],
      "text/markdown": [
       "\n",
       "| 누적관객수 | 스크린수 | 상영횟수 | 개봉일 | 배급사 | 등급 | 장르 | 감독 | 주연 | 제작사 | cluster | 조연 | 감독_주연조연시너지수 | 감독_주연조연악연수 | 상영횟수당누적관객수 | 스크린점유율 |\n",
       "|---|---|---|---|---|---|---|---|---|---|---|---|---|---|---|---|\n",
       "| 7232387                                                                                                                              | 1299                                                                                                                                 | 138226                                                                                                                               | 2017-12-27                                                                                                                           | CJ ENM                                                                                                                               | 15세이상관람가                                                                                                                       | 드라마                                                                                                                               | 장준환                                                                                                                               | 김윤석,하정우,유해진,김태리,박희순,이희준                                                                                            | (주)우정필름                                                                                                                         | 4                                                                                                                                    | 유승목,현봉식,박지환,이용직,박지홍,김경덕,김의성,최광일,김수진,김종수,김혜정,조우진,임철형,이창훈,서현우,이현균,김승훈,박경혜,이화룡 | 6                                                                                                                                    | 0                                                                                                                                    | 52.32291                                                                                                                             | 46.96312                                                                                                                             |\n",
       "\n"
      ],
      "text/plain": [
       "  누적관객수 스크린수 상영횟수 개봉일     배급사 등급           장르   감독  \n",
       "1 7232387    1299     138226   2017-12-27 CJ ENM 15세이상관람가 드라마 장준환\n",
       "  주연                                      제작사       cluster\n",
       "1 김윤석,하정우,유해진,김태리,박희순,이희준 (주)우정필름 4      \n",
       "  조연                                                                                                                                \n",
       "1 유승목,현봉식,박지환,이용직,박지홍,김경덕,김의성,최광일,김수진,김종수,김혜정,조우진,임철형,이창훈,서현우,이현균,김승훈,박경혜,이화룡\n",
       "  감독_주연조연시너지수 감독_주연조연악연수 상영횟수당누적관객수 스크린점유율\n",
       "1 6                     0                   52.32291             46.96312    "
      ]
     },
     "metadata": {},
     "output_type": "display_data"
    },
    {
     "data": {
      "text/html": [
       "<table>\n",
       "<thead><tr><th scope=col>주연</th><th scope=col>횟수</th><th scope=col>점수</th><th scope=col>평균점수</th></tr></thead>\n",
       "<tbody>\n",
       "\t<tr><td>송강호  </td><td> 7      </td><td>24      </td><td>3.428571</td></tr>\n",
       "\t<tr><td>백윤식  </td><td> 3      </td><td>10      </td><td>3.333333</td></tr>\n",
       "\t<tr><td>황정민  </td><td> 7      </td><td>21      </td><td>3.000000</td></tr>\n",
       "\t<tr><td>조정석  </td><td> 3      </td><td> 9      </td><td>3.000000</td></tr>\n",
       "\t<tr><td>성동일  </td><td> 4      </td><td>11      </td><td>2.750000</td></tr>\n",
       "\t<tr><td>오달수  </td><td> 4      </td><td>11      </td><td>2.750000</td></tr>\n",
       "\t<tr><td>이정재  </td><td> 4      </td><td>11      </td><td>2.750000</td></tr>\n",
       "\t<tr><td>하정우  </td><td>10      </td><td>27      </td><td>2.700000</td></tr>\n",
       "\t<tr><td>강동원  </td><td> 6      </td><td>16      </td><td>2.666667</td></tr>\n",
       "\t<tr><td>이병헌  </td><td> 6      </td><td>16      </td><td>2.666667</td></tr>\n",
       "\t<tr><td>유해진  </td><td> 8      </td><td>21      </td><td>2.625000</td></tr>\n",
       "</tbody>\n",
       "</table>\n"
      ],
      "text/latex": [
       "\\begin{tabular}{r|llll}\n",
       " 주연 & 횟수 & 점수 & 평균점수\\\\\n",
       "\\hline\n",
       "\t 송강호   &  7       & 24       & 3.428571\\\\\n",
       "\t 백윤식   &  3       & 10       & 3.333333\\\\\n",
       "\t 황정민   &  7       & 21       & 3.000000\\\\\n",
       "\t 조정석   &  3       &  9       & 3.000000\\\\\n",
       "\t 성동일   &  4       & 11       & 2.750000\\\\\n",
       "\t 오달수   &  4       & 11       & 2.750000\\\\\n",
       "\t 이정재   &  4       & 11       & 2.750000\\\\\n",
       "\t 하정우   & 10       & 27       & 2.700000\\\\\n",
       "\t 강동원   &  6       & 16       & 2.666667\\\\\n",
       "\t 이병헌   &  6       & 16       & 2.666667\\\\\n",
       "\t 유해진   &  8       & 21       & 2.625000\\\\\n",
       "\\end{tabular}\n"
      ],
      "text/markdown": [
       "\n",
       "| 주연 | 횟수 | 점수 | 평균점수 |\n",
       "|---|---|---|---|\n",
       "| 송강호   |  7       | 24       | 3.428571 |\n",
       "| 백윤식   |  3       | 10       | 3.333333 |\n",
       "| 황정민   |  7       | 21       | 3.000000 |\n",
       "| 조정석   |  3       |  9       | 3.000000 |\n",
       "| 성동일   |  4       | 11       | 2.750000 |\n",
       "| 오달수   |  4       | 11       | 2.750000 |\n",
       "| 이정재   |  4       | 11       | 2.750000 |\n",
       "| 하정우   | 10       | 27       | 2.700000 |\n",
       "| 강동원   |  6       | 16       | 2.666667 |\n",
       "| 이병헌   |  6       | 16       | 2.666667 |\n",
       "| 유해진   |  8       | 21       | 2.625000 |\n",
       "\n"
      ],
      "text/plain": [
       "   주연   횟수 점수 평균점수\n",
       "1  송강호  7   24   3.428571\n",
       "2  백윤식  3   10   3.333333\n",
       "3  황정민  7   21   3.000000\n",
       "4  조정석  3    9   3.000000\n",
       "5  성동일  4   11   2.750000\n",
       "6  오달수  4   11   2.750000\n",
       "7  이정재  4   11   2.750000\n",
       "8  하정우 10   27   2.700000\n",
       "9  강동원  6   16   2.666667\n",
       "10 이병헌  6   16   2.666667\n",
       "11 유해진  8   21   2.625000"
      ]
     },
     "metadata": {},
     "output_type": "display_data"
    },
    {
     "data": {
      "text/html": [
       "<table>\n",
       "<thead><tr><th scope=col>감독</th><th scope=col>횟수</th><th scope=col>점수</th><th scope=col>평균점수</th></tr></thead>\n",
       "<tbody>\n",
       "\t<tr><td>김지운</td><td>2     </td><td>8     </td><td>4     </td></tr>\n",
       "\t<tr><td>류승완</td><td>2     </td><td>8     </td><td>4     </td></tr>\n",
       "\t<tr><td>봉준호</td><td>2     </td><td>8     </td><td>4     </td></tr>\n",
       "\t<tr><td>강형철</td><td>3     </td><td>9     </td><td>3     </td></tr>\n",
       "\t<tr><td>김성훈</td><td>3     </td><td>9     </td><td>3     </td></tr>\n",
       "\t<tr><td>이석훈</td><td>3     </td><td>9     </td><td>3     </td></tr>\n",
       "\t<tr><td>김용화</td><td>2     </td><td>6     </td><td>3     </td></tr>\n",
       "\t<tr><td>김지훈</td><td>2     </td><td>6     </td><td>3     </td></tr>\n",
       "\t<tr><td>나홍진</td><td>2     </td><td>6     </td><td>3     </td></tr>\n",
       "\t<tr><td>조의석</td><td>2     </td><td>6     </td><td>3     </td></tr>\n",
       "\t<tr><td>한재림</td><td>2     </td><td>6     </td><td>3     </td></tr>\n",
       "</tbody>\n",
       "</table>\n"
      ],
      "text/latex": [
       "\\begin{tabular}{r|llll}\n",
       " 감독 & 횟수 & 점수 & 평균점수\\\\\n",
       "\\hline\n",
       "\t 김지운 & 2      & 8      & 4     \\\\\n",
       "\t 류승완 & 2      & 8      & 4     \\\\\n",
       "\t 봉준호 & 2      & 8      & 4     \\\\\n",
       "\t 강형철 & 3      & 9      & 3     \\\\\n",
       "\t 김성훈 & 3      & 9      & 3     \\\\\n",
       "\t 이석훈 & 3      & 9      & 3     \\\\\n",
       "\t 김용화 & 2      & 6      & 3     \\\\\n",
       "\t 김지훈 & 2      & 6      & 3     \\\\\n",
       "\t 나홍진 & 2      & 6      & 3     \\\\\n",
       "\t 조의석 & 2      & 6      & 3     \\\\\n",
       "\t 한재림 & 2      & 6      & 3     \\\\\n",
       "\\end{tabular}\n"
      ],
      "text/markdown": [
       "\n",
       "| 감독 | 횟수 | 점수 | 평균점수 |\n",
       "|---|---|---|---|\n",
       "| 김지운 | 2      | 8      | 4      |\n",
       "| 류승완 | 2      | 8      | 4      |\n",
       "| 봉준호 | 2      | 8      | 4      |\n",
       "| 강형철 | 3      | 9      | 3      |\n",
       "| 김성훈 | 3      | 9      | 3      |\n",
       "| 이석훈 | 3      | 9      | 3      |\n",
       "| 김용화 | 2      | 6      | 3      |\n",
       "| 김지훈 | 2      | 6      | 3      |\n",
       "| 나홍진 | 2      | 6      | 3      |\n",
       "| 조의석 | 2      | 6      | 3      |\n",
       "| 한재림 | 2      | 6      | 3      |\n",
       "\n"
      ],
      "text/plain": [
       "   감독   횟수 점수 평균점수\n",
       "1  김지운 2    8    4       \n",
       "2  류승완 2    8    4       \n",
       "3  봉준호 2    8    4       \n",
       "4  강형철 3    9    3       \n",
       "5  김성훈 3    9    3       \n",
       "6  이석훈 3    9    3       \n",
       "7  김용화 2    6    3       \n",
       "8  김지훈 2    6    3       \n",
       "9  나홍진 2    6    3       \n",
       "10 조의석 2    6    3       \n",
       "11 한재림 2    6    3       "
      ]
     },
     "metadata": {},
     "output_type": "display_data"
    }
   ],
   "source": [
    "head(df,1)\n",
    "actor_score_df[1:11,]\n",
    "director_score_df[1:11,]"
   ]
  },
  {
   "cell_type": "code",
   "execution_count": 10,
   "id": "c3f4a079",
   "metadata": {},
   "outputs": [],
   "source": [
    "df2<- df"
   ]
  },
  {
   "cell_type": "code",
   "execution_count": 11,
   "id": "2d61790b",
   "metadata": {},
   "outputs": [
    {
     "data": {
      "text/html": [
       "<table>\n",
       "<thead><tr><th scope=col>누적관객수</th><th scope=col>스크린수</th><th scope=col>상영횟수</th><th scope=col>개봉일</th><th scope=col>배급사</th><th scope=col>등급</th><th scope=col>장르</th><th scope=col>감독</th><th scope=col>주연</th><th scope=col>제작사</th><th scope=col>cluster</th><th scope=col>조연</th><th scope=col>감독_주연조연시너지수</th><th scope=col>감독_주연조연악연수</th><th scope=col>상영횟수당누적관객수</th><th scope=col>스크린점유율</th></tr></thead>\n",
       "<tbody>\n",
       "\t<tr><td>7232387                                                                                                                             </td><td>1299                                                                                                                                </td><td>138226                                                                                                                              </td><td>2017-12-27                                                                                                                          </td><td>CJ ENM                                                                                                                              </td><td>15세이상관람가                                                                                                                      </td><td>드라마                                                                                                                              </td><td>장준환                                                                                                                              </td><td>김윤석,하정우,유해진,김태리,박희순,이희준                                                                                           </td><td>(주)우정필름                                                                                                                        </td><td>4                                                                                                                                   </td><td>유승목,현봉식,박지환,이용직,박지홍,김경덕,김의성,최광일,김수진,김종수,김혜정,조우진,임철형,이창훈,서현우,이현균,김승훈,박경혜,이화룡</td><td>6                                                                                                                                   </td><td>0                                                                                                                                   </td><td>52.32291                                                                                                                            </td><td>46.96312                                                                                                                            </td></tr>\n",
       "</tbody>\n",
       "</table>\n"
      ],
      "text/latex": [
       "\\begin{tabular}{r|llllllllllllllll}\n",
       " 누적관객수 & 스크린수 & 상영횟수 & 개봉일 & 배급사 & 등급 & 장르 & 감독 & 주연 & 제작사 & cluster & 조연 & 감독\\_주연조연시너지수 & 감독\\_주연조연악연수 & 상영횟수당누적관객수 & 스크린점유율\\\\\n",
       "\\hline\n",
       "\t 7232387                                                                                                                              & 1299                                                                                                                                 & 138226                                                                                                                               & 2017-12-27                                                                                                                           & CJ ENM                                                                                                                               & 15세이상관람가                                                                                                                       & 드라마                                                                                                                               & 장준환                                                                                                                               & 김윤석,하정우,유해진,김태리,박희순,이희준                                                                                            & (주)우정필름                                                                                                                         & 4                                                                                                                                    & 유승목,현봉식,박지환,이용직,박지홍,김경덕,김의성,최광일,김수진,김종수,김혜정,조우진,임철형,이창훈,서현우,이현균,김승훈,박경혜,이화룡 & 6                                                                                                                                    & 0                                                                                                                                    & 52.32291                                                                                                                             & 46.96312                                                                                                                            \\\\\n",
       "\\end{tabular}\n"
      ],
      "text/markdown": [
       "\n",
       "| 누적관객수 | 스크린수 | 상영횟수 | 개봉일 | 배급사 | 등급 | 장르 | 감독 | 주연 | 제작사 | cluster | 조연 | 감독_주연조연시너지수 | 감독_주연조연악연수 | 상영횟수당누적관객수 | 스크린점유율 |\n",
       "|---|---|---|---|---|---|---|---|---|---|---|---|---|---|---|---|\n",
       "| 7232387                                                                                                                              | 1299                                                                                                                                 | 138226                                                                                                                               | 2017-12-27                                                                                                                           | CJ ENM                                                                                                                               | 15세이상관람가                                                                                                                       | 드라마                                                                                                                               | 장준환                                                                                                                               | 김윤석,하정우,유해진,김태리,박희순,이희준                                                                                            | (주)우정필름                                                                                                                         | 4                                                                                                                                    | 유승목,현봉식,박지환,이용직,박지홍,김경덕,김의성,최광일,김수진,김종수,김혜정,조우진,임철형,이창훈,서현우,이현균,김승훈,박경혜,이화룡 | 6                                                                                                                                    | 0                                                                                                                                    | 52.32291                                                                                                                             | 46.96312                                                                                                                             |\n",
       "\n"
      ],
      "text/plain": [
       "  누적관객수 스크린수 상영횟수 개봉일     배급사 등급           장르   감독  \n",
       "1 7232387    1299     138226   2017-12-27 CJ ENM 15세이상관람가 드라마 장준환\n",
       "  주연                                      제작사       cluster\n",
       "1 김윤석,하정우,유해진,김태리,박희순,이희준 (주)우정필름 4      \n",
       "  조연                                                                                                                                \n",
       "1 유승목,현봉식,박지환,이용직,박지홍,김경덕,김의성,최광일,김수진,김종수,김혜정,조우진,임철형,이창훈,서현우,이현균,김승훈,박경혜,이화룡\n",
       "  감독_주연조연시너지수 감독_주연조연악연수 상영횟수당누적관객수 스크린점유율\n",
       "1 6                     0                   52.32291             46.96312    "
      ]
     },
     "metadata": {},
     "output_type": "display_data"
    }
   ],
   "source": [
    "head(df,1)"
   ]
  },
  {
   "cell_type": "code",
   "execution_count": 14,
   "id": "85c392af",
   "metadata": {},
   "outputs": [],
   "source": [
    "df<-df2"
   ]
  },
  {
   "cell_type": "code",
   "execution_count": 15,
   "id": "2472fe2e",
   "metadata": {},
   "outputs": [],
   "source": [
    "df <- df[,-c(2,3,4,5,7,10,14,15)]"
   ]
  },
  {
   "cell_type": "code",
   "execution_count": 16,
   "id": "c6e6efea",
   "metadata": {},
   "outputs": [
    {
     "data": {
      "text/html": [
       "<table>\n",
       "<thead><tr><th scope=col>누적관객수</th><th scope=col>등급</th><th scope=col>감독</th><th scope=col>주연</th><th scope=col>cluster</th><th scope=col>조연</th><th scope=col>감독_주연조연시너지수</th><th scope=col>스크린점유율</th></tr></thead>\n",
       "<tbody>\n",
       "\t<tr><td>7232387                                                                                                                             </td><td>15세이상관람가                                                                                                                      </td><td>장준환                                                                                                                              </td><td>김윤석,하정우,유해진,김태리,박희순,이희준                                                                                           </td><td>4                                                                                                                                   </td><td>유승목,현봉식,박지환,이용직,박지홍,김경덕,김의성,최광일,김수진,김종수,김혜정,조우진,임철형,이창훈,서현우,이현균,김승훈,박경혜,이화룡</td><td>6                                                                                                                                   </td><td>46.96312                                                                                                                            </td></tr>\n",
       "</tbody>\n",
       "</table>\n"
      ],
      "text/latex": [
       "\\begin{tabular}{r|llllllll}\n",
       " 누적관객수 & 등급 & 감독 & 주연 & cluster & 조연 & 감독\\_주연조연시너지수 & 스크린점유율\\\\\n",
       "\\hline\n",
       "\t 7232387                                                                                                                              & 15세이상관람가                                                                                                                       & 장준환                                                                                                                               & 김윤석,하정우,유해진,김태리,박희순,이희준                                                                                            & 4                                                                                                                                    & 유승목,현봉식,박지환,이용직,박지홍,김경덕,김의성,최광일,김수진,김종수,김혜정,조우진,임철형,이창훈,서현우,이현균,김승훈,박경혜,이화룡 & 6                                                                                                                                    & 46.96312                                                                                                                            \\\\\n",
       "\\end{tabular}\n"
      ],
      "text/markdown": [
       "\n",
       "| 누적관객수 | 등급 | 감독 | 주연 | cluster | 조연 | 감독_주연조연시너지수 | 스크린점유율 |\n",
       "|---|---|---|---|---|---|---|---|\n",
       "| 7232387                                                                                                                              | 15세이상관람가                                                                                                                       | 장준환                                                                                                                               | 김윤석,하정우,유해진,김태리,박희순,이희준                                                                                            | 4                                                                                                                                    | 유승목,현봉식,박지환,이용직,박지홍,김경덕,김의성,최광일,김수진,김종수,김혜정,조우진,임철형,이창훈,서현우,이현균,김승훈,박경혜,이화룡 | 6                                                                                                                                    | 46.96312                                                                                                                             |\n",
       "\n"
      ],
      "text/plain": [
       "  누적관객수 등급           감독   주연                                     \n",
       "1 7232387    15세이상관람가 장준환 김윤석,하정우,유해진,김태리,박희순,이희준\n",
       "  cluster\n",
       "1 4      \n",
       "  조연                                                                                                                                \n",
       "1 유승목,현봉식,박지환,이용직,박지홍,김경덕,김의성,최광일,김수진,김종수,김혜정,조우진,임철형,이창훈,서현우,이현균,김승훈,박경혜,이화룡\n",
       "  감독_주연조연시너지수 스크린점유율\n",
       "1 6                     46.96312    "
      ]
     },
     "metadata": {},
     "output_type": "display_data"
    }
   ],
   "source": [
    "head(df,1)"
   ]
  },
  {
   "cell_type": "code",
   "execution_count": 17,
   "id": "0431b1c8",
   "metadata": {},
   "outputs": [
    {
     "data": {
      "text/html": [
       "<table>\n",
       "<thead><tr><th scope=col>주연</th><th scope=col>횟수</th><th scope=col>점수</th><th scope=col>평균점수</th></tr></thead>\n",
       "<tbody>\n",
       "\t<tr><td>송강호  </td><td>7       </td><td>24      </td><td>3.428571</td></tr>\n",
       "</tbody>\n",
       "</table>\n"
      ],
      "text/latex": [
       "\\begin{tabular}{r|llll}\n",
       " 주연 & 횟수 & 점수 & 평균점수\\\\\n",
       "\\hline\n",
       "\t 송강호   & 7        & 24       & 3.428571\\\\\n",
       "\\end{tabular}\n"
      ],
      "text/markdown": [
       "\n",
       "| 주연 | 횟수 | 점수 | 평균점수 |\n",
       "|---|---|---|---|\n",
       "| 송강호   | 7        | 24       | 3.428571 |\n",
       "\n"
      ],
      "text/plain": [
       "  주연   횟수 점수 평균점수\n",
       "1 송강호 7    24   3.428571"
      ]
     },
     "metadata": {},
     "output_type": "display_data"
    }
   ],
   "source": [
    "head(actor_score_df,1)"
   ]
  },
  {
   "cell_type": "code",
   "execution_count": null,
   "id": "4aa325be",
   "metadata": {},
   "outputs": [],
   "source": [
    "for(i in 1:nrow(df)){    \n",
    "}"
   ]
  },
  {
   "cell_type": "code",
   "execution_count": 18,
   "id": "38f6bacd",
   "metadata": {},
   "outputs": [
    {
     "data": {
      "text/plain": [
       "\n",
       " 1  2  3  4  5 \n",
       "74 53 37 29 16 "
      ]
     },
     "metadata": {},
     "output_type": "display_data"
    }
   ],
   "source": [
    "table(df$cluster)"
   ]
  },
  {
   "cell_type": "code",
   "execution_count": null,
   "id": "6d4b29a9",
   "metadata": {},
   "outputs": [],
   "source": []
  }
 ],
 "metadata": {
  "kernelspec": {
   "display_name": "R",
   "language": "R",
   "name": "ir"
  },
  "language_info": {
   "codemirror_mode": "r",
   "file_extension": ".r",
   "mimetype": "text/x-r-source",
   "name": "R",
   "pygments_lexer": "r",
   "version": "3.6.1"
  }
 },
 "nbformat": 4,
 "nbformat_minor": 5
}

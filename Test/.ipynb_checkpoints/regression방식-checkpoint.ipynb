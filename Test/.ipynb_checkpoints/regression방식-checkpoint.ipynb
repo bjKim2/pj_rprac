{
 "cells": [
  {
   "cell_type": "code",
   "execution_count": 1,
   "id": "143ab996",
   "metadata": {
    "scrolled": true
   },
   "outputs": [
    {
     "name": "stderr",
     "output_type": "stream",
     "text": [
      "Loading required package: grid\n",
      "Loading required package: mvtnorm\n",
      "Loading required package: modeltools\n",
      "Loading required package: stats4\n",
      "Loading required package: strucchange\n",
      "Loading required package: zoo\n",
      "\n",
      "Attaching package: ‘zoo’\n",
      "\n",
      "The following objects are masked from ‘package:base’:\n",
      "\n",
      "    as.Date, as.Date.numeric\n",
      "\n",
      "Loading required package: sandwich\n",
      "randomForest 4.6-14\n",
      "Type rfNews() to see new features/changes/bug fixes.\n",
      "Loading required package: lattice\n",
      "Loading required package: ggplot2\n",
      "Registered S3 methods overwritten by 'ggplot2':\n",
      "  method         from \n",
      "  [.quosures     rlang\n",
      "  c.quosures     rlang\n",
      "  print.quosures rlang\n",
      "\n",
      "Attaching package: ‘ggplot2’\n",
      "\n",
      "The following object is masked from ‘package:randomForest’:\n",
      "\n",
      "    margin\n",
      "\n",
      "\n",
      "Attaching package: ‘dplyr’\n",
      "\n",
      "The following object is masked from ‘package:randomForest’:\n",
      "\n",
      "    combine\n",
      "\n",
      "The following objects are masked from ‘package:stats’:\n",
      "\n",
      "    filter, lag\n",
      "\n",
      "The following objects are masked from ‘package:base’:\n",
      "\n",
      "    intersect, setdiff, setequal, union\n",
      "\n"
     ]
    },
    {
     "ename": "ERROR",
     "evalue": "Error in library(Metrics): there is no package called ‘Metrics’\n",
     "output_type": "error",
     "traceback": [
      "Error in library(Metrics): there is no package called ‘Metrics’\nTraceback:\n",
      "1. library(Metrics)"
     ]
    }
   ],
   "source": [
    "options(warn = -1)\n",
    "options(scipen = 100)\n",
    "library(nnet)\n",
    "library(party)\n",
    "library(randomForest)\n",
    "library(e1071)\n",
    "library(caret)\n",
    "library(dplyr)\n",
    "library(Metrics)"
   ]
  },
  {
   "cell_type": "code",
   "execution_count": null,
   "id": "dc73217e",
   "metadata": {},
   "outputs": [],
   "source": [
    "# 정확도 (결정계수)\n",
    "rsquare <- function(pred, y) {\n",
    "    return (1- (sum((y-pred)^2) / sum((y-mean(y))^2)))\n",
    "}\n",
    "\n",
    "# 인공 신경망\n",
    "f.nnet <- function(data.tr, x, y) {\n",
    "    model.nnet <- nnet(누적관객수 ~ ., data=data.tr, size = 10, linout = T) \n",
    "    pred <- predict(model.nnet, x, type = \"raw\")\n",
    "    return (rsquare(pred,y))\n",
    "}\n",
    "\n",
    "# 의사 결정 나무\n",
    "f.ctree <- function(data.tr, x, y) {\n",
    "    model.ctree <- ctree(누적관객수 ~ ., data=data.tr)\n",
    "    pred <- predict(model.ctree, x)\n",
    "    return (rsquare(pred,y))\n",
    "}\n",
    "\n",
    "# RandomForest\n",
    "f.randomForest <- function(data.tr, x, y) {\n",
    "    model.rf <- randomForest(누적관객수 ~ ., data=data.tr, ntree=100)\n",
    "    pred <- predict(model.rf, x)\n",
    "    return (rsquare(pred,y))\n",
    "}\n",
    "\n",
    "\n",
    "# SVM\n",
    "f.svm <- function(data.tr, x, y) {\n",
    "    model.svm <- svm(누적관객수 ~., data=data.tr)\n",
    "    pred <- predict(model.svm, x)\n",
    "    return (rsquare(pred,y))\n",
    "}\n",
    "\n",
    "# 다항 로지스틱 회귀분석\n",
    "f.multinom <- function(data.tr, x, y) {\n",
    "    model.multinom <- multinom(누적관객수 ~ ., data=data.tr)\n",
    "    pred <- predict(model.multinom, x)\n",
    "    return (rsquare(pred,y))\n",
    "}\n"
   ]
  },
  {
   "cell_type": "code",
   "execution_count": 3,
   "id": "ac71dedc",
   "metadata": {},
   "outputs": [],
   "source": [
    "data <- read.csv(\"../movies2/MLData.csv\", fileEncoding = \"utf-8\")"
   ]
  },
  {
   "cell_type": "code",
   "execution_count": 2,
   "id": "3dc7a87d",
   "metadata": {},
   "outputs": [],
   "source": [
    "rice <- read.csv(\"../movies2/rice.csv\", fileEncoding = \"utf-8\")"
   ]
  },
  {
   "cell_type": "code",
   "execution_count": null,
   "id": "1e4214cf",
   "metadata": {
    "scrolled": true
   },
   "outputs": [],
   "source": [
    "rice <- rice[,-1]"
   ]
  },
  {
   "cell_type": "code",
   "execution_count": null,
   "id": "24ec5c4f",
   "metadata": {
    "scrolled": true
   },
   "outputs": [],
   "source": [
    "data <- cbind(rice, 누적관객수=data$누적관객수)"
   ]
  },
  {
   "cell_type": "code",
   "execution_count": null,
   "id": "e5bc2037",
   "metadata": {
    "scrolled": true
   },
   "outputs": [],
   "source": [
    "data"
   ]
  },
  {
   "cell_type": "code",
   "execution_count": null,
   "id": "ea45c956",
   "metadata": {},
   "outputs": [],
   "source": [
    "result <- rep(0,5)\n",
    "temp <- rep(0,5)\n",
    "n <- 55\n",
    "samp <- createDataPartition(data$누적관객수, p = 0.7, list = F)\n",
    "for (i in 1:n) {\n",
    "\n",
    "\n",
    "    # 학습용 데이터 셋\n",
    "    data.tr <- data[samp,]\n",
    "\n",
    "    # 검증용 데이터셋\n",
    "    data.test <- data[-samp,]\n",
    "\n",
    "    # 문제 및 정답 만들기\n",
    "    x <- subset(data.test, select = -누적관객수)\n",
    "    y <- data.test$누적관객수\n",
    "    result[1] <- result[1] + f.nnet(data.tr, x, y)\n",
    "    result[2] <- result[2] + f.ctree(data.tr, x, y)\n",
    "    result[3] <- result[3] + f.randomForest(data.tr, x, y)\n",
    "    result[4] <- result[4] + f.svm(data.tr, x, y)\n",
    "    result[5] <- result[5] + f.multinom(data.tr, x, y)\n",
    "    \n",
    "    temp[1] <- temp[1] + f.nnet(data.tr, subset(data.tr, select = -누적관객수), data.tr$누적관객수)\n",
    "    temp[2] <- temp[2] + f.ctree(data.tr, subset(data.tr, select = -누적관객수), data.tr$누적관객수)\n",
    "    temp[3] <- temp[3] + f.randomForest(data.tr, subset(data.tr, select = -누적관객수), data.tr$누적관객수)\n",
    "    temp[4] <- temp[4] + f.svm(data.tr, subset(data.tr, select = -누적관객수), data.tr$누적관객수)\n",
    "    temp[5] <- temp[5] + f.multinom(data.tr, subset(data.tr, select = -누적관객수), data.tr$누적관객수)\n",
    "}\n",
    "result <- result / n\n",
    "temp <- temp / n"
   ]
  },
  {
   "cell_type": "code",
   "execution_count": null,
   "id": "da2069bc",
   "metadata": {},
   "outputs": [],
   "source": [
    "res_all <- rbind(t(as.data.frame(temp)),\n",
    "t(as.data.frame(result)))\n",
    "colnames(res_all) <- c(\"인공신경망\", \"의사결정나무\", \"randomForest\", \"SVM\", \"다항로지스틱회귀분석\")\n",
    "rownames(res_all) <- c(\"트레이닝\", \"테스트\")\n",
    "res_all"
   ]
  },
  {
   "cell_type": "code",
   "execution_count": null,
   "id": "7839292f",
   "metadata": {},
   "outputs": [],
   "source": [
    "dreg <- lm(누적관객수~., subset(data, select = c(감독점수, 배급사점수, 누적관객수, 배우점수, 스크린점유율, 장르_관객점수부여)))\n",
    "summary(dreg)"
   ]
  },
  {
   "cell_type": "code",
   "execution_count": null,
   "id": "7129d5ff",
   "metadata": {},
   "outputs": [],
   "source": [
    "cor(data)"
   ]
  },
  {
   "cell_type": "code",
   "execution_count": null,
   "id": "0d2417f7",
   "metadata": {},
   "outputs": [],
   "source": [
    "lreg <- subset(data, select = c(누적관객수, 배우점수, 스크린점유율, 감독점수, 장르_관객점수부여))"
   ]
  },
  {
   "cell_type": "code",
   "execution_count": null,
   "id": "bbe79d76",
   "metadata": {},
   "outputs": [],
   "source": [
    "a <- lm(누적관객수~., lreg)"
   ]
  },
  {
   "cell_type": "code",
   "execution_count": null,
   "id": "c76b8551",
   "metadata": {},
   "outputs": [],
   "source": [
    "summary(a)"
   ]
  },
  {
   "cell_type": "code",
   "execution_count": null,
   "id": "112063cc",
   "metadata": {
    "scrolled": true
   },
   "outputs": [],
   "source": [
    "plot(a)"
   ]
  },
  {
   "cell_type": "code",
   "execution_count": null,
   "id": "80e0874f",
   "metadata": {},
   "outputs": [],
   "source": [
    "set_one <- subset(data[data$cluster == 1,],select = c(누적관객수, 배우점수, 스크린점유율, 감독점수, 장르_관객점수부여, 감독_배우시너지))\n",
    "set_two <- subset(data[data$cluster == 2,],select = c(누적관객수, 배우점수, 스크린점유율, 감독점수, 장르_관객점수부여, 감독_배우시너지))\n",
    "set_three <- subset(data[data$cluster == 3,],select = c(누적관객수, 배우점수, 스크린점유율, 감독점수, 장르_관객점수부여, 감독_배우시너지))"
   ]
  },
  {
   "cell_type": "code",
   "execution_count": null,
   "id": "48b22421",
   "metadata": {},
   "outputs": [],
   "source": [
    "one <- lm(누적관객수~., set_one)\n",
    "two <- lm(누적관객수~., set_two)\n",
    "three <- lm(누적관객수~., set_three)\n",
    "summary(one)\n",
    "summary(two)\n",
    "summary(three)"
   ]
  },
  {
   "cell_type": "code",
   "execution_count": null,
   "id": "2909346d",
   "metadata": {},
   "outputs": [],
   "source": [
    "hist(data$누적관객수)"
   ]
  },
  {
   "cell_type": "code",
   "execution_count": null,
   "id": "b0b8b39d",
   "metadata": {},
   "outputs": [],
   "source": [
    "test <- subset(data[data$누적관객수 > 8000000 & data$누적관객수 < 10000000,],select = c(누적관객수, 배우점수, 스크린점유율, 감독점수, 장르_관객점수부여, 감독_배우시너지))"
   ]
  },
  {
   "cell_type": "code",
   "execution_count": null,
   "id": "cfcd0036",
   "metadata": {
    "scrolled": false
   },
   "outputs": [],
   "source": [
    "test <- subset(data[data$누적관객수 > 3000000 & data$누적관객수 < 4000000,],select = c(누적관객수, 배우점수, 스크린점유율, 감독점수, 장르_관객점수부여, 감독_배우시너지))\n",
    "nrow(test)\n",
    "tt <- lm(누적관객수~., test)\n",
    "summary(tt)\n",
    "print(\"--------------------------------------------\")\n",
    "test <- subset(data[data$누적관객수 > 4000000 & data$누적관객수 < 5000000,],select = c(누적관객수, 배우점수, 스크린점유율, 감독점수, 장르_관객점수부여, 감독_배우시너지))\n",
    "nrow(test)\n",
    "tt <- lm(누적관객수~., test)\n",
    "summary(tt)\n",
    "print(\"--------------------------------------------\")\n",
    "test <- subset(data[data$누적관객수 > 5000000 & data$누적관객수 < 7000000,],select = c(누적관객수, 배우점수, 스크린점유율, 감독점수, 장르_관객점수부여, 감독_배우시너지))\n",
    "nrow(test)\n",
    "tt <- lm(누적관객수~., test)\n",
    "summary(tt)\n",
    "print(\"--------------------------------------------\")\n",
    "test <- subset(data[data$누적관객수 > 7000000 & data$누적관객수 < 8000000,],select = c(누적관객수, 배우점수, 스크린점유율, 감독점수, 장르_관객점수부여, 감독_배우시너지))\n",
    "nrow(test)\n",
    "tt <- lm(누적관객수~., test)\n",
    "summary(tt)\n",
    "print(\"--------------------------------------------\")\n",
    "test <- subset(data[data$누적관객수 > 8000000 & data$누적관객수 < 10000000,],select = c(누적관객수, 배우점수, 스크린점유율, 감독점수, 장르_관객점수부여, 감독_배우시너지))\n",
    "nrow(test)\n",
    "tt <- lm(누적관객수~., test)\n",
    "summary(tt)"
   ]
  },
  {
   "cell_type": "code",
   "execution_count": null,
   "id": "70bf924b",
   "metadata": {},
   "outputs": [],
   "source": []
  }
 ],
 "metadata": {
  "kernelspec": {
   "display_name": "R",
   "language": "R",
   "name": "ir"
  },
  "language_info": {
   "codemirror_mode": "r",
   "file_extension": ".r",
   "mimetype": "text/x-r-source",
   "name": "R",
   "pygments_lexer": "r",
   "version": "3.6.1"
  }
 },
 "nbformat": 4,
 "nbformat_minor": 5
}

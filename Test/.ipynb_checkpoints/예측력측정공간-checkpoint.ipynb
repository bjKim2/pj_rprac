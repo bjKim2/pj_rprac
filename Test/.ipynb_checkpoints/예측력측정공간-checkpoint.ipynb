{
 "cells": [
  {
   "cell_type": "code",
   "execution_count": 102,
   "id": "06178452",
   "metadata": {},
   "outputs": [],
   "source": [
    "library(dplyr)"
   ]
  },
  {
   "cell_type": "code",
   "execution_count": 104,
   "id": "1b617720",
   "metadata": {},
   "outputs": [],
   "source": [
    "library(MASS)"
   ]
  },
  {
   "cell_type": "code",
   "execution_count": 76,
   "id": "af8d82de",
   "metadata": {},
   "outputs": [],
   "source": [
    "library(caret) #sample\n",
    "library(nnet) #인공신경망 , 다항 로지스틱 회귀분석\n",
    "library(e1071) # svm\n",
    "library(randomForest) # randomForest\n",
    "library(party) # 의사결정나무 ctree\n",
    "\n"
   ]
  },
  {
   "cell_type": "code",
   "execution_count": 77,
   "id": "73f850f5",
   "metadata": {},
   "outputs": [],
   "source": [
    "\n",
    "\n",
    "\n",
    "#입력 데이터, 정규화할 컬럼인덱스 벡터\n",
    "fun_x <- function(f_df,cindex,targetcol){\n",
    "    \n",
    "# 표준화\n",
    "\n",
    "f_df2 <- f_df\n",
    "f_df2[,cindex] <- as.data.frame(scale(f_df[,cindex]))\n",
    "\n",
    "# 샘플나누기\n",
    "\n",
    "tindex = 0\n",
    "for(i in 1:ncol(f_df2)){\n",
    "    if(colnames(f_df2)[i] == targetcol){\n",
    "        tindex = i\n",
    "    }\n",
    "}\n",
    "    \n",
    "sampling <- function(){\n",
    "samp <<- createDataPartition(f_df2[,tindex] , p = 0.7,list = F)\n",
    "data.tr <<- f_df2[samp,]\n",
    "data.test <<- f_df2[-samp,]\n",
    "\n",
    "x <<- data.test[,-tindex]\n",
    "y <<- data.test[,tindex]\n",
    "    \n",
    "}    \n",
    "\n",
    "sampling() \n",
    "head(samp)\n",
    "\n",
    "#인공신경망 테스트\n",
    "ANN <- function(data.tr , data.test , x , y ){\n",
    "    \n",
    "    model.nnet <- nnet(cluster ~ . , data=data.tr, size = 3)\n",
    "    pred <- predict(model.nnet , x , type = \"class\")\n",
    "    cat(\"예측력\" ,mean(pred == y), \"입니다.\")\n",
    "    print(pred)\n",
    "    \n",
    "    table(pred,y)\n",
    "    return(mean(pred == y))\n",
    "}\n",
    "\n",
    "# ANN(data.tr , data.test , x , y )\n",
    "\n",
    "#의사결정 나무 \n",
    "CTREE <-function(data.tr , data.test , x , y ){\n",
    "    model.ctree <- ctree(cluster ~ . , data=data.tr)\n",
    "    pred <- predict(model.ctree , x )\n",
    "    cat(\"예측력\" ,mean(pred == y), \"입니다.\")\n",
    "    table(pred,y)\n",
    "    return(mean(pred == y))\n",
    "}\n",
    "\n",
    "#  CTREE(data.tr , data.test , x , y )\n",
    "\n",
    "#RandomForesst\n",
    "RandomForest<-function(data.tr , data.test , x , y ){\n",
    "    model.rf <- randomForest(cluster ~ . , data=data.tr, ntree = 100)\n",
    "    pred <- predict(model.rf , x )\n",
    "    cat(\"예측력\" ,mean(pred == y), \"입니다.\")\n",
    "    table(pred,y)\n",
    "    return(mean(pred == y))\n",
    "} \n",
    "\n",
    "#SVM\n",
    "SVM <-function(data.tr , data.test , x , y ){\n",
    "    model.svm <- svm(cluster ~ . , data=data.tr)\n",
    "    pred <- predict(model.svm , x )\n",
    "    cat(\"예측력\" ,mean(pred == y), \"입니다.\")\n",
    "    table(pred,y)\n",
    "    return(mean(pred == y))\n",
    "} \n",
    "\n",
    "#Logistic regression\n",
    "Logisticreg <-function(data.tr , data.test , x , y ){\n",
    "    model.log <- multinom(cluster ~ . , data=data.tr)\n",
    "    pred <- predict(model.log , x )\n",
    "    cat(\"예측력\" ,mean(pred == y), \"입니다.\")\n",
    "    table(pred,y)\n",
    "    return(mean(pred == y))\n",
    "} \n",
    "\n",
    " a <- rep(0,5)\n",
    "#a <- rep(0,4)\n",
    "iteration <- 5\n",
    "for(i in 1:iteration){\n",
    "    \n",
    "    a = a + c(\n",
    "            ANN(data.tr , data.test , x , y ),\n",
    "            CTREE(data.tr , data.test , x , y ),\n",
    "             RandomForest(data.tr , data.test , x , y ),\n",
    "            SVM(data.tr , data.test , x , y ),\n",
    "            Logisticreg(data.tr , data.test , x , y )\n",
    "    )\n",
    "    \n",
    "}\n",
    "a<- a/iteration\n",
    "\n",
    "result<-data.frame(예측력 = a)\n",
    " rownames(result) = c(\"인공신경망\",\"의사결정나무\",\"RandomForest\",\"SVM\",\"로지스틱회귀분석\")\n",
    "#rownames(result) = c(\"인공신경망\",\"의사결정나무\",\"SVM\",\"로지스틱회귀분석\")\n",
    "result\n",
    "}\n",
    "\n",
    "\n"
   ]
  },
  {
   "cell_type": "code",
   "execution_count": 78,
   "id": "6b3d7439",
   "metadata": {},
   "outputs": [
    {
     "data": {
      "text/html": [
       "<table>\n",
       "<thead><tr><th scope=col>누적관객수</th><th scope=col>스크린수</th><th scope=col>상영횟수</th><th scope=col>개봉일</th><th scope=col>배급사</th><th scope=col>등급</th><th scope=col>장르</th><th scope=col>감독</th><th scope=col>주연</th><th scope=col>제작사</th><th scope=col>cluster</th><th scope=col>조연</th><th scope=col>감독_주연조연시너지수</th><th scope=col>감독_주연조연악연수</th><th scope=col>상영횟수당누적관객수</th><th scope=col>스크린점유율</th><th scope=col>배우누적점수</th><th scope=col>배우점수</th><th scope=col>배우수</th></tr></thead>\n",
       "<tbody>\n",
       "\t<tr><td> 7232387                                                                                                                            </td><td>1299                                                                                                                                </td><td>138226                                                                                                                              </td><td>2017-12-27                                                                                                                          </td><td>CJ ENM                                                                                                                              </td><td>15세이상관람가                                                                                                                      </td><td>드라마                                                                                                                              </td><td>장준환                                                                                                                              </td><td>김윤석,하정우,유해진,김태리,박희순,이희준                                                                                           </td><td>(주)우정필름                                                                                                                        </td><td>4                                                                                                                                   </td><td>유승목,현봉식,박지환,이용직,박지홍,김경덕,김의성,최광일,김수진,김종수,김혜정,조우진,임철형,이창훈,서현우,이현균,김승훈,박경혜,이화룡</td><td>6                                                                                                                                   </td><td>0                                                                                                                                   </td><td>52.32291                                                                                                                            </td><td>46.96312                                                                                                                            </td><td> 62.17949                                                                                                                           </td><td>16.0                                                                                                                                </td><td>6                                                                                                                                   </td></tr>\n",
       "\t<tr><td> 2535450                                                                                                                            </td><td> 340                                                                                                                                </td><td> 54566                                                                                                                              </td><td>2007-02-14                                                                                                                          </td><td>CJ ENM                                                                                                                              </td><td>15세이상관람가                                                                                                                      </td><td>드라마,코미디                                                                                                                       </td><td>윤제균                                                                                                                              </td><td>임창정,하지원                                                                                                                       </td><td>(주)두사부필름                                                                                                                      </td><td>1                                                                                                                                   </td><td>주현,정두홍,이훈,강예원,박창익,박유선,고태호                                                                                        </td><td>0                                                                                                                                   </td><td>0                                                                                                                                   </td><td>46.46575                                                                                                                            </td><td>17.21519                                                                                                                            </td><td>  8.00000                                                                                                                           </td><td> 7.0                                                                                                                                </td><td>2                                                                                                                                   </td></tr>\n",
       "\t<tr><td> 2963652                                                                                                                            </td><td> 611                                                                                                                                </td><td> 50679                                                                                                                              </td><td>2012-11-29                                                                                                                          </td><td>(주)인벤트스톤,영화사청어람(주)                                                                                                     </td><td>15세이상관람가                                                                                                                      </td><td>액션,드라마                                                                                                                         </td><td>조근현                                                                                                                              </td><td>진구,한혜진,임슬옹                                                                                                                  </td><td>영화사청어람(주)                                                                                                                    </td><td>2                                                                                                                                   </td><td>배수빈,이경영,장광,이미도,조덕제,김의성,안석환,민복기,구성환,김민재,최귀화,김태수,장영                                              </td><td>0                                                                                                                                   </td><td>0                                                                                                                                   </td><td>58.47890                                                                                                                            </td><td>29.36088                                                                                                                            </td><td> 14.50000                                                                                                                           </td><td> 6.5                                                                                                                                </td><td>3                                                                                                                                   </td></tr>\n",
       "\t<tr><td> 2242510                                                                                                                            </td><td> 812                                                                                                                                </td><td> 47346                                                                                                                              </td><td>2011-08-04                                                                                                                          </td><td>CJ ENM                                                                                                                              </td><td>15세이상관람가                                                                                                                      </td><td>SF,액션,스릴러                                                                                                                      </td><td>김지훈                                                                                                                              </td><td>하지원,안성기,오지호,박철민,송새벽                                                                                                  </td><td>(주)제이케이필름,(주)씨제이이엔엠                                                                                                   </td><td>1                                                                                                                                   </td><td>박정학,이한위,박영수,차예련,오민석                                                                                                  </td><td>3                                                                                                                                   </td><td>0                                                                                                                                   </td><td>47.36430                                                                                                                            </td><td>41.13475                                                                                                                            </td><td> 19.80000                                                                                                                           </td><td> 7.0                                                                                                                                </td><td>5                                                                                                                                   </td></tr>\n",
       "\t<tr><td> 4039891                                                                                                                            </td><td> 475                                                                                                                                </td><td> 90779                                                                                                                              </td><td>2009-04-22                                                                                                                          </td><td>롯데쇼핑㈜롯데엔터테인먼트                                                                                                          </td><td>12세이상관람가                                                                                                                      </td><td>코미디,액션,드라마,범죄                                                                                                             </td><td>신태라                                                                                                                              </td><td>김하늘,강지환                                                                                                                       </td><td>(주)하리마오픽쳐스,(주)영화사수작,(주)디씨지플러스                                                                                  </td><td>2                                                                                                                                   </td><td>류승룡,장영남,강신일,도마첸코 바딤,엘리자베스 수진 포드,코디 헌터,장남열,김정팔,유승목,김형종,김형범,박성민                         </td><td>3                                                                                                                                   </td><td>0                                                                                                                                   </td><td>44.50248                                                                                                                            </td><td>23.79760                                                                                                                            </td><td>  6.50000                                                                                                                           </td><td> 4.0                                                                                                                                </td><td>2                                                                                                                                   </td></tr>\n",
       "\t<tr><td>12811213                                                                                                                            </td><td> 866                                                                                                                                </td><td>166817                                                                                                                              </td><td>2013-01-23                                                                                                                          </td><td>(주)넥스트엔터테인먼트월드(NEW)                                                                                                     </td><td>15세이상관람가                                                                                                                      </td><td>코미디,드라마                                                                                                                       </td><td>이환경                                                                                                                              </td><td>류승룡,박신혜,갈소원,오달수,박원상,김정태,정만식,김기천                                                                             </td><td>(주)화인웍스,(주)씨엘엔터테인먼트                                                                                                   </td><td>5                                                                                                                                   </td><td>박길수,조재윤,조덕현                                                                                                                </td><td>0                                                                                                                                   </td><td>0                                                                                                                                   </td><td>76.79801                                                                                                                            </td><td>39.65201                                                                                                                            </td><td>143.63636                                                                                                                           </td><td>25.0                                                                                                                                </td><td>8                                                                                                                                   </td></tr>\n",
       "</tbody>\n",
       "</table>\n"
      ],
      "text/latex": [
       "\\begin{tabular}{r|lllllllllllllllllll}\n",
       " 누적관객수 & 스크린수 & 상영횟수 & 개봉일 & 배급사 & 등급 & 장르 & 감독 & 주연 & 제작사 & cluster & 조연 & 감독\\_주연조연시너지수 & 감독\\_주연조연악연수 & 상영횟수당누적관객수 & 스크린점유율 & 배우누적점수 & 배우점수 & 배우수\\\\\n",
       "\\hline\n",
       "\t  7232387                                                                                                                             & 1299                                                                                                                                 & 138226                                                                                                                               & 2017-12-27                                                                                                                           & CJ ENM                                                                                                                               & 15세이상관람가                                                                                                                       & 드라마                                                                                                                               & 장준환                                                                                                                               & 김윤석,하정우,유해진,김태리,박희순,이희준                                                                                            & (주)우정필름                                                                                                                         & 4                                                                                                                                    & 유승목,현봉식,박지환,이용직,박지홍,김경덕,김의성,최광일,김수진,김종수,김혜정,조우진,임철형,이창훈,서현우,이현균,김승훈,박경혜,이화룡 & 6                                                                                                                                    & 0                                                                                                                                    & 52.32291                                                                                                                             & 46.96312                                                                                                                             &  62.17949                                                                                                                            & 16.0                                                                                                                                 & 6                                                                                                                                   \\\\\n",
       "\t  2535450                                                                                                                             &  340                                                                                                                                 &  54566                                                                                                                               & 2007-02-14                                                                                                                           & CJ ENM                                                                                                                               & 15세이상관람가                                                                                                                       & 드라마,코미디                                                                                                                        & 윤제균                                                                                                                               & 임창정,하지원                                                                                                                        & (주)두사부필름                                                                                                                       & 1                                                                                                                                    & 주현,정두홍,이훈,강예원,박창익,박유선,고태호                                                                                         & 0                                                                                                                                    & 0                                                                                                                                    & 46.46575                                                                                                                             & 17.21519                                                                                                                             &   8.00000                                                                                                                            &  7.0                                                                                                                                 & 2                                                                                                                                   \\\\\n",
       "\t  2963652                                                                                                                             &  611                                                                                                                                 &  50679                                                                                                                               & 2012-11-29                                                                                                                           & (주)인벤트스톤,영화사청어람(주)                                                                                                      & 15세이상관람가                                                                                                                       & 액션,드라마                                                                                                                          & 조근현                                                                                                                               & 진구,한혜진,임슬옹                                                                                                                   & 영화사청어람(주)                                                                                                                     & 2                                                                                                                                    & 배수빈,이경영,장광,이미도,조덕제,김의성,안석환,민복기,구성환,김민재,최귀화,김태수,장영                                               & 0                                                                                                                                    & 0                                                                                                                                    & 58.47890                                                                                                                             & 29.36088                                                                                                                             &  14.50000                                                                                                                            &  6.5                                                                                                                                 & 3                                                                                                                                   \\\\\n",
       "\t  2242510                                                                                                                             &  812                                                                                                                                 &  47346                                                                                                                               & 2011-08-04                                                                                                                           & CJ ENM                                                                                                                               & 15세이상관람가                                                                                                                       & SF,액션,스릴러                                                                                                                       & 김지훈                                                                                                                               & 하지원,안성기,오지호,박철민,송새벽                                                                                                   & (주)제이케이필름,(주)씨제이이엔엠                                                                                                    & 1                                                                                                                                    & 박정학,이한위,박영수,차예련,오민석                                                                                                   & 3                                                                                                                                    & 0                                                                                                                                    & 47.36430                                                                                                                             & 41.13475                                                                                                                             &  19.80000                                                                                                                            &  7.0                                                                                                                                 & 5                                                                                                                                   \\\\\n",
       "\t  4039891                                                                                                                             &  475                                                                                                                                 &  90779                                                                                                                               & 2009-04-22                                                                                                                           & 롯데쇼핑㈜롯데엔터테인먼트                                                                                                           & 12세이상관람가                                                                                                                       & 코미디,액션,드라마,범죄                                                                                                              & 신태라                                                                                                                               & 김하늘,강지환                                                                                                                        & (주)하리마오픽쳐스,(주)영화사수작,(주)디씨지플러스                                                                                   & 2                                                                                                                                    & 류승룡,장영남,강신일,도마첸코 바딤,엘리자베스 수진 포드,코디 헌터,장남열,김정팔,유승목,김형종,김형범,박성민                          & 3                                                                                                                                    & 0                                                                                                                                    & 44.50248                                                                                                                             & 23.79760                                                                                                                             &   6.50000                                                                                                                            &  4.0                                                                                                                                 & 2                                                                                                                                   \\\\\n",
       "\t 12811213                                                                                                                             &  866                                                                                                                                 & 166817                                                                                                                               & 2013-01-23                                                                                                                           & (주)넥스트엔터테인먼트월드(NEW)                                                                                                      & 15세이상관람가                                                                                                                       & 코미디,드라마                                                                                                                        & 이환경                                                                                                                               & 류승룡,박신혜,갈소원,오달수,박원상,김정태,정만식,김기천                                                                              & (주)화인웍스,(주)씨엘엔터테인먼트                                                                                                    & 5                                                                                                                                    & 박길수,조재윤,조덕현                                                                                                                 & 0                                                                                                                                    & 0                                                                                                                                    & 76.79801                                                                                                                             & 39.65201                                                                                                                             & 143.63636                                                                                                                            & 25.0                                                                                                                                 & 8                                                                                                                                   \\\\\n",
       "\\end{tabular}\n"
      ],
      "text/markdown": [
       "\n",
       "| 누적관객수 | 스크린수 | 상영횟수 | 개봉일 | 배급사 | 등급 | 장르 | 감독 | 주연 | 제작사 | cluster | 조연 | 감독_주연조연시너지수 | 감독_주연조연악연수 | 상영횟수당누적관객수 | 스크린점유율 | 배우누적점수 | 배우점수 | 배우수 |\n",
       "|---|---|---|---|---|---|---|---|---|---|---|---|---|---|---|---|---|---|---|\n",
       "|  7232387                                                                                                                             | 1299                                                                                                                                 | 138226                                                                                                                               | 2017-12-27                                                                                                                           | CJ ENM                                                                                                                               | 15세이상관람가                                                                                                                       | 드라마                                                                                                                               | 장준환                                                                                                                               | 김윤석,하정우,유해진,김태리,박희순,이희준                                                                                            | (주)우정필름                                                                                                                         | 4                                                                                                                                    | 유승목,현봉식,박지환,이용직,박지홍,김경덕,김의성,최광일,김수진,김종수,김혜정,조우진,임철형,이창훈,서현우,이현균,김승훈,박경혜,이화룡 | 6                                                                                                                                    | 0                                                                                                                                    | 52.32291                                                                                                                             | 46.96312                                                                                                                             |  62.17949                                                                                                                            | 16.0                                                                                                                                 | 6                                                                                                                                    |\n",
       "|  2535450                                                                                                                             |  340                                                                                                                                 |  54566                                                                                                                               | 2007-02-14                                                                                                                           | CJ ENM                                                                                                                               | 15세이상관람가                                                                                                                       | 드라마,코미디                                                                                                                        | 윤제균                                                                                                                               | 임창정,하지원                                                                                                                        | (주)두사부필름                                                                                                                       | 1                                                                                                                                    | 주현,정두홍,이훈,강예원,박창익,박유선,고태호                                                                                         | 0                                                                                                                                    | 0                                                                                                                                    | 46.46575                                                                                                                             | 17.21519                                                                                                                             |   8.00000                                                                                                                            |  7.0                                                                                                                                 | 2                                                                                                                                    |\n",
       "|  2963652                                                                                                                             |  611                                                                                                                                 |  50679                                                                                                                               | 2012-11-29                                                                                                                           | (주)인벤트스톤,영화사청어람(주)                                                                                                      | 15세이상관람가                                                                                                                       | 액션,드라마                                                                                                                          | 조근현                                                                                                                               | 진구,한혜진,임슬옹                                                                                                                   | 영화사청어람(주)                                                                                                                     | 2                                                                                                                                    | 배수빈,이경영,장광,이미도,조덕제,김의성,안석환,민복기,구성환,김민재,최귀화,김태수,장영                                               | 0                                                                                                                                    | 0                                                                                                                                    | 58.47890                                                                                                                             | 29.36088                                                                                                                             |  14.50000                                                                                                                            |  6.5                                                                                                                                 | 3                                                                                                                                    |\n",
       "|  2242510                                                                                                                             |  812                                                                                                                                 |  47346                                                                                                                               | 2011-08-04                                                                                                                           | CJ ENM                                                                                                                               | 15세이상관람가                                                                                                                       | SF,액션,스릴러                                                                                                                       | 김지훈                                                                                                                               | 하지원,안성기,오지호,박철민,송새벽                                                                                                   | (주)제이케이필름,(주)씨제이이엔엠                                                                                                    | 1                                                                                                                                    | 박정학,이한위,박영수,차예련,오민석                                                                                                   | 3                                                                                                                                    | 0                                                                                                                                    | 47.36430                                                                                                                             | 41.13475                                                                                                                             |  19.80000                                                                                                                            |  7.0                                                                                                                                 | 5                                                                                                                                    |\n",
       "|  4039891                                                                                                                             |  475                                                                                                                                 |  90779                                                                                                                               | 2009-04-22                                                                                                                           | 롯데쇼핑㈜롯데엔터테인먼트                                                                                                           | 12세이상관람가                                                                                                                       | 코미디,액션,드라마,범죄                                                                                                              | 신태라                                                                                                                               | 김하늘,강지환                                                                                                                        | (주)하리마오픽쳐스,(주)영화사수작,(주)디씨지플러스                                                                                   | 2                                                                                                                                    | 류승룡,장영남,강신일,도마첸코 바딤,엘리자베스 수진 포드,코디 헌터,장남열,김정팔,유승목,김형종,김형범,박성민                          | 3                                                                                                                                    | 0                                                                                                                                    | 44.50248                                                                                                                             | 23.79760                                                                                                                             |   6.50000                                                                                                                            |  4.0                                                                                                                                 | 2                                                                                                                                    |\n",
       "| 12811213                                                                                                                             |  866                                                                                                                                 | 166817                                                                                                                               | 2013-01-23                                                                                                                           | (주)넥스트엔터테인먼트월드(NEW)                                                                                                      | 15세이상관람가                                                                                                                       | 코미디,드라마                                                                                                                        | 이환경                                                                                                                               | 류승룡,박신혜,갈소원,오달수,박원상,김정태,정만식,김기천                                                                              | (주)화인웍스,(주)씨엘엔터테인먼트                                                                                                    | 5                                                                                                                                    | 박길수,조재윤,조덕현                                                                                                                 | 0                                                                                                                                    | 0                                                                                                                                    | 76.79801                                                                                                                             | 39.65201                                                                                                                             | 143.63636                                                                                                                            | 25.0                                                                                                                                 | 8                                                                                                                                    |\n",
       "\n"
      ],
      "text/plain": [
       "  누적관객수 스크린수 상영횟수 개봉일     배급사                         \n",
       "1  7232387   1299     138226   2017-12-27 CJ ENM                         \n",
       "2  2535450    340      54566   2007-02-14 CJ ENM                         \n",
       "3  2963652    611      50679   2012-11-29 (주)인벤트스톤,영화사청어람(주)\n",
       "4  2242510    812      47346   2011-08-04 CJ ENM                         \n",
       "5  4039891    475      90779   2009-04-22 롯데쇼핑㈜롯데엔터테인먼트     \n",
       "6 12811213    866     166817   2013-01-23 (주)넥스트엔터테인먼트월드(NEW)\n",
       "  등급           장르                    감독  \n",
       "1 15세이상관람가 드라마                  장준환\n",
       "2 15세이상관람가 드라마,코미디           윤제균\n",
       "3 15세이상관람가 액션,드라마             조근현\n",
       "4 15세이상관람가 SF,액션,스릴러          김지훈\n",
       "5 12세이상관람가 코미디,액션,드라마,범죄 신태라\n",
       "6 15세이상관람가 코미디,드라마           이환경\n",
       "  주연                                                   \n",
       "1 김윤석,하정우,유해진,김태리,박희순,이희준              \n",
       "2 임창정,하지원                                          \n",
       "3 진구,한혜진,임슬옹                                     \n",
       "4 하지원,안성기,오지호,박철민,송새벽                     \n",
       "5 김하늘,강지환                                          \n",
       "6 류승룡,박신혜,갈소원,오달수,박원상,김정태,정만식,김기천\n",
       "  제작사                                             cluster\n",
       "1 (주)우정필름                                       4      \n",
       "2 (주)두사부필름                                     1      \n",
       "3 영화사청어람(주)                                   2      \n",
       "4 (주)제이케이필름,(주)씨제이이엔엠                  1      \n",
       "5 (주)하리마오픽쳐스,(주)영화사수작,(주)디씨지플러스 2      \n",
       "6 (주)화인웍스,(주)씨엘엔터테인먼트                  5      \n",
       "  조연                                                                                                                                \n",
       "1 유승목,현봉식,박지환,이용직,박지홍,김경덕,김의성,최광일,김수진,김종수,김혜정,조우진,임철형,이창훈,서현우,이현균,김승훈,박경혜,이화룡\n",
       "2 주현,정두홍,이훈,강예원,박창익,박유선,고태호                                                                                        \n",
       "3 배수빈,이경영,장광,이미도,조덕제,김의성,안석환,민복기,구성환,김민재,최귀화,김태수,장영                                              \n",
       "4 박정학,이한위,박영수,차예련,오민석                                                                                                  \n",
       "5 류승룡,장영남,강신일,도마첸코 바딤,엘리자베스 수진 포드,코디 헌터,장남열,김정팔,유승목,김형종,김형범,박성민                         \n",
       "6 박길수,조재윤,조덕현                                                                                                                \n",
       "  감독_주연조연시너지수 감독_주연조연악연수 상영횟수당누적관객수 스크린점유율\n",
       "1 6                     0                   52.32291             46.96312    \n",
       "2 0                     0                   46.46575             17.21519    \n",
       "3 0                     0                   58.47890             29.36088    \n",
       "4 3                     0                   47.36430             41.13475    \n",
       "5 3                     0                   44.50248             23.79760    \n",
       "6 0                     0                   76.79801             39.65201    \n",
       "  배우누적점수 배우점수 배우수\n",
       "1  62.17949    16.0     6     \n",
       "2   8.00000     7.0     2     \n",
       "3  14.50000     6.5     3     \n",
       "4  19.80000     7.0     5     \n",
       "5   6.50000     4.0     2     \n",
       "6 143.63636    25.0     8     "
      ]
     },
     "metadata": {},
     "output_type": "display_data"
    }
   ],
   "source": [
    "\n",
    "#df<-read.csv(\"./movies/new_movie_ver8.csv\")\n",
    "df <-read.csv(\"../movies/temp_mining_prever2.csv\")\n",
    "df10<-df\n",
    "head(df)\n",
    "\n",
    "\n"
   ]
  },
  {
   "cell_type": "code",
   "execution_count": 79,
   "id": "052e5d70",
   "metadata": {},
   "outputs": [],
   "source": [
    "df <- df[,-c(2,3,4,5,7,10,14,15)]"
   ]
  },
  {
   "cell_type": "code",
   "execution_count": 80,
   "id": "dc4605e3",
   "metadata": {},
   "outputs": [
    {
     "data": {
      "text/html": [
       "<table>\n",
       "<thead><tr><th scope=col>누적관객수</th><th scope=col>등급</th><th scope=col>감독</th><th scope=col>주연</th><th scope=col>cluster</th><th scope=col>조연</th><th scope=col>감독_주연조연시너지수</th><th scope=col>스크린점유율</th><th scope=col>배우누적점수</th><th scope=col>배우점수</th><th scope=col>배우수</th></tr></thead>\n",
       "<tbody>\n",
       "\t<tr><td>7232387                                                                                                                             </td><td>15세이상관람가                                                                                                                      </td><td>장준환                                                                                                                              </td><td>김윤석,하정우,유해진,김태리,박희순,이희준                                                                                           </td><td>4                                                                                                                                   </td><td>유승목,현봉식,박지환,이용직,박지홍,김경덕,김의성,최광일,김수진,김종수,김혜정,조우진,임철형,이창훈,서현우,이현균,김승훈,박경혜,이화룡</td><td>6                                                                                                                                   </td><td>46.96312                                                                                                                            </td><td>62.17949                                                                                                                            </td><td>16                                                                                                                                  </td><td>6                                                                                                                                   </td></tr>\n",
       "</tbody>\n",
       "</table>\n"
      ],
      "text/latex": [
       "\\begin{tabular}{r|lllllllllll}\n",
       " 누적관객수 & 등급 & 감독 & 주연 & cluster & 조연 & 감독\\_주연조연시너지수 & 스크린점유율 & 배우누적점수 & 배우점수 & 배우수\\\\\n",
       "\\hline\n",
       "\t 7232387                                                                                                                              & 15세이상관람가                                                                                                                       & 장준환                                                                                                                               & 김윤석,하정우,유해진,김태리,박희순,이희준                                                                                            & 4                                                                                                                                    & 유승목,현봉식,박지환,이용직,박지홍,김경덕,김의성,최광일,김수진,김종수,김혜정,조우진,임철형,이창훈,서현우,이현균,김승훈,박경혜,이화룡 & 6                                                                                                                                    & 46.96312                                                                                                                             & 62.17949                                                                                                                             & 16                                                                                                                                   & 6                                                                                                                                   \\\\\n",
       "\\end{tabular}\n"
      ],
      "text/markdown": [
       "\n",
       "| 누적관객수 | 등급 | 감독 | 주연 | cluster | 조연 | 감독_주연조연시너지수 | 스크린점유율 | 배우누적점수 | 배우점수 | 배우수 |\n",
       "|---|---|---|---|---|---|---|---|---|---|---|\n",
       "| 7232387                                                                                                                              | 15세이상관람가                                                                                                                       | 장준환                                                                                                                               | 김윤석,하정우,유해진,김태리,박희순,이희준                                                                                            | 4                                                                                                                                    | 유승목,현봉식,박지환,이용직,박지홍,김경덕,김의성,최광일,김수진,김종수,김혜정,조우진,임철형,이창훈,서현우,이현균,김승훈,박경혜,이화룡 | 6                                                                                                                                    | 46.96312                                                                                                                             | 62.17949                                                                                                                             | 16                                                                                                                                   | 6                                                                                                                                    |\n",
       "\n"
      ],
      "text/plain": [
       "  누적관객수 등급           감독   주연                                     \n",
       "1 7232387    15세이상관람가 장준환 김윤석,하정우,유해진,김태리,박희순,이희준\n",
       "  cluster\n",
       "1 4      \n",
       "  조연                                                                                                                                \n",
       "1 유승목,현봉식,박지환,이용직,박지홍,김경덕,김의성,최광일,김수진,김종수,김혜정,조우진,임철형,이창훈,서현우,이현균,김승훈,박경혜,이화룡\n",
       "  감독_주연조연시너지수 스크린점유율 배우누적점수 배우점수 배우수\n",
       "1 6                     46.96312     62.17949     16       6     "
      ]
     },
     "metadata": {},
     "output_type": "display_data"
    }
   ],
   "source": [
    "head(df,1)"
   ]
  },
  {
   "cell_type": "code",
   "execution_count": 81,
   "id": "56b70388",
   "metadata": {},
   "outputs": [],
   "source": [
    "df <- df[,-c(1,3,4,6,9,11)]"
   ]
  },
  {
   "cell_type": "code",
   "execution_count": 82,
   "id": "dc436f44",
   "metadata": {},
   "outputs": [
    {
     "data": {
      "text/html": [
       "<table>\n",
       "<thead><tr><th scope=col>등급</th><th scope=col>cluster</th><th scope=col>감독_주연조연시너지수</th><th scope=col>스크린점유율</th><th scope=col>배우점수</th></tr></thead>\n",
       "<tbody>\n",
       "\t<tr><td>15세이상관람가</td><td>4             </td><td>6             </td><td>46.96312      </td><td>16.0          </td></tr>\n",
       "\t<tr><td>15세이상관람가</td><td>1             </td><td>0             </td><td>17.21519      </td><td> 7.0          </td></tr>\n",
       "\t<tr><td>15세이상관람가</td><td>2             </td><td>0             </td><td>29.36088      </td><td> 6.5          </td></tr>\n",
       "\t<tr><td>15세이상관람가</td><td>1             </td><td>3             </td><td>41.13475      </td><td> 7.0          </td></tr>\n",
       "\t<tr><td>12세이상관람가</td><td>2             </td><td>3             </td><td>23.79760      </td><td> 4.0          </td></tr>\n",
       "\t<tr><td>15세이상관람가</td><td>5             </td><td>0             </td><td>39.65201      </td><td>25.0          </td></tr>\n",
       "</tbody>\n",
       "</table>\n"
      ],
      "text/latex": [
       "\\begin{tabular}{r|lllll}\n",
       " 등급 & cluster & 감독\\_주연조연시너지수 & 스크린점유율 & 배우점수\\\\\n",
       "\\hline\n",
       "\t 15세이상관람가 & 4              & 6              & 46.96312       & 16.0          \\\\\n",
       "\t 15세이상관람가 & 1              & 0              & 17.21519       &  7.0          \\\\\n",
       "\t 15세이상관람가 & 2              & 0              & 29.36088       &  6.5          \\\\\n",
       "\t 15세이상관람가 & 1              & 3              & 41.13475       &  7.0          \\\\\n",
       "\t 12세이상관람가 & 2              & 3              & 23.79760       &  4.0          \\\\\n",
       "\t 15세이상관람가 & 5              & 0              & 39.65201       & 25.0          \\\\\n",
       "\\end{tabular}\n"
      ],
      "text/markdown": [
       "\n",
       "| 등급 | cluster | 감독_주연조연시너지수 | 스크린점유율 | 배우점수 |\n",
       "|---|---|---|---|---|\n",
       "| 15세이상관람가 | 4              | 6              | 46.96312       | 16.0           |\n",
       "| 15세이상관람가 | 1              | 0              | 17.21519       |  7.0           |\n",
       "| 15세이상관람가 | 2              | 0              | 29.36088       |  6.5           |\n",
       "| 15세이상관람가 | 1              | 3              | 41.13475       |  7.0           |\n",
       "| 12세이상관람가 | 2              | 3              | 23.79760       |  4.0           |\n",
       "| 15세이상관람가 | 5              | 0              | 39.65201       | 25.0           |\n",
       "\n"
      ],
      "text/plain": [
       "  등급           cluster 감독_주연조연시너지수 스크린점유율 배우점수\n",
       "1 15세이상관람가 4       6                     46.96312     16.0    \n",
       "2 15세이상관람가 1       0                     17.21519      7.0    \n",
       "3 15세이상관람가 2       0                     29.36088      6.5    \n",
       "4 15세이상관람가 1       3                     41.13475      7.0    \n",
       "5 12세이상관람가 2       3                     23.79760      4.0    \n",
       "6 15세이상관람가 5       0                     39.65201     25.0    "
      ]
     },
     "metadata": {},
     "output_type": "display_data"
    }
   ],
   "source": [
    "head(df)"
   ]
  },
  {
   "cell_type": "code",
   "execution_count": 83,
   "id": "219762fb",
   "metadata": {},
   "outputs": [],
   "source": [
    "df <- df[,-1]"
   ]
  },
  {
   "cell_type": "code",
   "execution_count": 109,
   "id": "000a8a85",
   "metadata": {},
   "outputs": [
    {
     "data": {
      "text/html": [
       "<table>\n",
       "<thead><tr><th scope=col>cluster</th><th scope=col>감독_주연조연시너지수</th><th scope=col>스크린점유율</th><th scope=col>배우점수</th></tr></thead>\n",
       "<tbody>\n",
       "\t<tr><td> 7232387</td><td>6       </td><td>46.96312</td><td>16.0    </td></tr>\n",
       "\t<tr><td> 2535450</td><td>0       </td><td>17.21519</td><td> 7.0    </td></tr>\n",
       "\t<tr><td> 2963652</td><td>0       </td><td>29.36088</td><td> 6.5    </td></tr>\n",
       "\t<tr><td> 2242510</td><td>3       </td><td>41.13475</td><td> 7.0    </td></tr>\n",
       "\t<tr><td> 4039891</td><td>3       </td><td>23.79760</td><td> 4.0    </td></tr>\n",
       "\t<tr><td>12811213</td><td>0       </td><td>39.65201</td><td>25.0    </td></tr>\n",
       "</tbody>\n",
       "</table>\n"
      ],
      "text/latex": [
       "\\begin{tabular}{r|llll}\n",
       " cluster & 감독\\_주연조연시너지수 & 스크린점유율 & 배우점수\\\\\n",
       "\\hline\n",
       "\t  7232387 & 6        & 46.96312 & 16.0    \\\\\n",
       "\t  2535450 & 0        & 17.21519 &  7.0    \\\\\n",
       "\t  2963652 & 0        & 29.36088 &  6.5    \\\\\n",
       "\t  2242510 & 3        & 41.13475 &  7.0    \\\\\n",
       "\t  4039891 & 3        & 23.79760 &  4.0    \\\\\n",
       "\t 12811213 & 0        & 39.65201 & 25.0    \\\\\n",
       "\\end{tabular}\n"
      ],
      "text/markdown": [
       "\n",
       "| cluster | 감독_주연조연시너지수 | 스크린점유율 | 배우점수 |\n",
       "|---|---|---|---|\n",
       "|  7232387 | 6        | 46.96312 | 16.0     |\n",
       "|  2535450 | 0        | 17.21519 |  7.0     |\n",
       "|  2963652 | 0        | 29.36088 |  6.5     |\n",
       "|  2242510 | 3        | 41.13475 |  7.0     |\n",
       "|  4039891 | 3        | 23.79760 |  4.0     |\n",
       "| 12811213 | 0        | 39.65201 | 25.0     |\n",
       "\n"
      ],
      "text/plain": [
       "  cluster  감독_주연조연시너지수 스크린점유율 배우점수\n",
       "1  7232387 6                     46.96312     16.0    \n",
       "2  2535450 0                     17.21519      7.0    \n",
       "3  2963652 0                     29.36088      6.5    \n",
       "4  2242510 3                     41.13475      7.0    \n",
       "5  4039891 3                     23.79760      4.0    \n",
       "6 12811213 0                     39.65201     25.0    "
      ]
     },
     "metadata": {},
     "output_type": "display_data"
    }
   ],
   "source": [
    "head(df)"
   ]
  },
  {
   "cell_type": "code",
   "execution_count": 85,
   "id": "d044e911",
   "metadata": {},
   "outputs": [],
   "source": [
    "#unique(df$등급)"
   ]
  },
  {
   "cell_type": "code",
   "execution_count": 86,
   "id": "0db9f0ab",
   "metadata": {},
   "outputs": [
    {
     "data": {
      "text/html": [
       "<table>\n",
       "<thead><tr><th scope=col>cluster</th><th scope=col>감독_주연조연시너지수</th><th scope=col>스크린점유율</th><th scope=col>배우점수</th></tr></thead>\n",
       "<tbody>\n",
       "\t<tr><td>4       </td><td>6       </td><td>46.96312</td><td>16.0    </td></tr>\n",
       "\t<tr><td>1       </td><td>0       </td><td>17.21519</td><td> 7.0    </td></tr>\n",
       "\t<tr><td>2       </td><td>0       </td><td>29.36088</td><td> 6.5    </td></tr>\n",
       "\t<tr><td>1       </td><td>3       </td><td>41.13475</td><td> 7.0    </td></tr>\n",
       "\t<tr><td>2       </td><td>3       </td><td>23.79760</td><td> 4.0    </td></tr>\n",
       "\t<tr><td>5       </td><td>0       </td><td>39.65201</td><td>25.0    </td></tr>\n",
       "</tbody>\n",
       "</table>\n"
      ],
      "text/latex": [
       "\\begin{tabular}{r|llll}\n",
       " cluster & 감독\\_주연조연시너지수 & 스크린점유율 & 배우점수\\\\\n",
       "\\hline\n",
       "\t 4        & 6        & 46.96312 & 16.0    \\\\\n",
       "\t 1        & 0        & 17.21519 &  7.0    \\\\\n",
       "\t 2        & 0        & 29.36088 &  6.5    \\\\\n",
       "\t 1        & 3        & 41.13475 &  7.0    \\\\\n",
       "\t 2        & 3        & 23.79760 &  4.0    \\\\\n",
       "\t 5        & 0        & 39.65201 & 25.0    \\\\\n",
       "\\end{tabular}\n"
      ],
      "text/markdown": [
       "\n",
       "| cluster | 감독_주연조연시너지수 | 스크린점유율 | 배우점수 |\n",
       "|---|---|---|---|\n",
       "| 4        | 6        | 46.96312 | 16.0     |\n",
       "| 1        | 0        | 17.21519 |  7.0     |\n",
       "| 2        | 0        | 29.36088 |  6.5     |\n",
       "| 1        | 3        | 41.13475 |  7.0     |\n",
       "| 2        | 3        | 23.79760 |  4.0     |\n",
       "| 5        | 0        | 39.65201 | 25.0     |\n",
       "\n"
      ],
      "text/plain": [
       "  cluster 감독_주연조연시너지수 스크린점유율 배우점수\n",
       "1 4       6                     46.96312     16.0    \n",
       "2 1       0                     17.21519      7.0    \n",
       "3 2       0                     29.36088      6.5    \n",
       "4 1       3                     41.13475      7.0    \n",
       "5 2       3                     23.79760      4.0    \n",
       "6 5       0                     39.65201     25.0    "
      ]
     },
     "metadata": {},
     "output_type": "display_data"
    },
    {
     "name": "stdout",
     "output_type": "stream",
     "text": [
      "# weights:  32\n",
      "initial  value 255.467809 \n",
      "iter  10 value 134.054874\n",
      "iter  20 value 121.772267\n",
      "iter  30 value 116.232260\n",
      "iter  40 value 113.820033\n",
      "iter  50 value 112.947957\n",
      "iter  60 value 112.444520\n",
      "iter  70 value 112.332930\n",
      "iter  80 value 112.201692\n",
      "iter  90 value 111.984514\n",
      "iter 100 value 111.776352\n",
      "final  value 111.776352 \n",
      "stopped after 100 iterations\n",
      "예측력 0.6833333 입니다. [1] \"4\" \"3\" \"1\" \"1\" \"3\" \"2\" \"1\" \"4\" \"3\" \"4\" \"4\" \"3\" \"1\" \"1\" \"2\" \"2\" \"5\" \"4\" \"2\"\n",
      "[20] \"1\" \"3\" \"3\" \"2\" \"3\" \"1\" \"2\" \"1\" \"1\" \"1\" \"1\" \"1\" \"3\" \"5\" \"2\" \"5\" \"2\" \"1\" \"1\"\n",
      "[39] \"3\" \"1\" \"2\" \"1\" \"3\" \"4\" \"2\" \"3\" \"1\" \"1\" \"4\" \"1\" \"2\" \"1\" \"1\" \"3\" \"3\" \"1\" \"4\"\n",
      "[58] \"2\" \"2\" \"1\"\n",
      "예측력 0.6333333 입니다.예측력 0.6666667 입니다.예측력 0.6666667 입니다.# weights:  25 (16 variable)\n",
      "initial  value 239.806249 \n",
      "iter  10 value 133.891075\n",
      "iter  20 value 125.356897\n",
      "final  value 125.317207 \n",
      "converged\n",
      "예측력 0.6833333 입니다.# weights:  32\n",
      "initial  value 293.839224 \n",
      "iter  10 value 156.346314\n",
      "iter  20 value 136.707537\n",
      "iter  30 value 126.567065\n",
      "iter  40 value 120.326083\n",
      "iter  50 value 117.446880\n",
      "iter  60 value 115.310337\n",
      "iter  70 value 114.330431\n",
      "iter  80 value 113.599408\n",
      "iter  90 value 112.884231\n",
      "iter 100 value 112.456649\n",
      "final  value 112.456649 \n",
      "stopped after 100 iterations\n",
      "예측력 0.7 입니다. [1] \"4\" \"2\" \"1\" \"1\" \"3\" \"3\" \"1\" \"4\" \"3\" \"4\" \"4\" \"3\" \"4\" \"1\" \"2\" \"2\" \"5\" \"4\" \"1\"\n",
      "[20] \"1\" \"3\" \"3\" \"2\" \"3\" \"1\" \"2\" \"1\" \"1\" \"1\" \"1\" \"1\" \"3\" \"5\" \"3\" \"5\" \"1\" \"1\" \"1\"\n",
      "[39] \"2\" \"1\" \"2\" \"1\" \"2\" \"4\" \"3\" \"2\" \"1\" \"1\" \"3\" \"1\" \"3\" \"1\" \"1\" \"2\" \"3\" \"1\" \"4\"\n",
      "[58] \"3\" \"3\" \"1\"\n",
      "예측력 0.6333333 입니다.예측력 0.65 입니다.예측력 0.6666667 입니다.# weights:  25 (16 variable)\n",
      "initial  value 239.806249 \n",
      "iter  10 value 133.891075\n",
      "iter  20 value 125.356897\n",
      "final  value 125.317207 \n",
      "converged\n",
      "예측력 0.6833333 입니다.# weights:  32\n",
      "initial  value 230.095402 \n",
      "iter  10 value 146.991289\n",
      "iter  20 value 128.972108\n",
      "iter  30 value 122.486814\n",
      "iter  40 value 118.907531\n",
      "iter  50 value 115.099613\n",
      "iter  60 value 114.123025\n",
      "iter  70 value 113.536706\n",
      "iter  80 value 113.312116\n",
      "iter  90 value 113.288920\n",
      "iter 100 value 113.140602\n",
      "final  value 113.140602 \n",
      "stopped after 100 iterations\n",
      "예측력 0.6833333 입니다. [1] \"4\" \"3\" \"1\" \"1\" \"3\" \"2\" \"1\" \"3\" \"3\" \"4\" \"4\" \"3\" \"1\" \"1\" \"2\" \"3\" \"5\" \"4\" \"1\"\n",
      "[20] \"1\" \"3\" \"3\" \"2\" \"3\" \"1\" \"1\" \"1\" \"1\" \"1\" \"1\" \"1\" \"3\" \"5\" \"2\" \"5\" \"1\" \"1\" \"1\"\n",
      "[39] \"3\" \"1\" \"2\" \"1\" \"3\" \"4\" \"2\" \"3\" \"1\" \"1\" \"4\" \"1\" \"1\" \"1\" \"1\" \"3\" \"3\" \"1\" \"4\"\n",
      "[58] \"1\" \"2\" \"1\"\n",
      "예측력 0.6333333 입니다.예측력 0.6333333 입니다.예측력 0.6666667 입니다.# weights:  25 (16 variable)\n",
      "initial  value 239.806249 \n",
      "iter  10 value 133.891075\n",
      "iter  20 value 125.356897\n",
      "final  value 125.317207 \n",
      "converged\n",
      "예측력 0.6833333 입니다.# weights:  32\n",
      "initial  value 240.205178 \n",
      "iter  10 value 148.885477\n",
      "iter  20 value 120.110466\n",
      "iter  30 value 114.315019\n",
      "iter  40 value 113.197721\n",
      "iter  50 value 112.200452\n",
      "iter  60 value 110.802839\n",
      "iter  70 value 110.224698\n",
      "iter  80 value 109.812158\n",
      "iter  90 value 109.538493\n",
      "iter 100 value 109.341367\n",
      "final  value 109.341367 \n",
      "stopped after 100 iterations\n",
      "예측력 0.7 입니다. [1] \"4\" \"3\" \"1\" \"1\" \"3\" \"3\" \"1\" \"4\" \"3\" \"4\" \"4\" \"3\" \"1\" \"1\" \"2\" \"2\" \"5\" \"4\" \"1\"\n",
      "[20] \"1\" \"3\" \"3\" \"2\" \"2\" \"1\" \"2\" \"1\" \"1\" \"1\" \"1\" \"1\" \"3\" \"5\" \"2\" \"5\" \"1\" \"1\" \"1\"\n",
      "[39] \"2\" \"1\" \"2\" \"1\" \"2\" \"4\" \"1\" \"2\" \"1\" \"1\" \"3\" \"1\" \"3\" \"1\" \"1\" \"3\" \"3\" \"1\" \"4\"\n",
      "[58] \"3\" \"4\" \"1\"\n",
      "예측력 0.6333333 입니다.예측력 0.6666667 입니다.예측력 0.6666667 입니다.# weights:  25 (16 variable)\n",
      "initial  value 239.806249 \n",
      "iter  10 value 133.891075\n",
      "iter  20 value 125.356897\n",
      "final  value 125.317207 \n",
      "converged\n",
      "예측력 0.6833333 입니다.# weights:  32\n",
      "initial  value 231.707760 \n",
      "iter  10 value 136.613216\n",
      "iter  20 value 123.480871\n",
      "iter  30 value 118.786097\n",
      "iter  40 value 115.795720\n",
      "iter  50 value 112.855215\n",
      "iter  60 value 111.766287\n",
      "iter  70 value 111.555613\n",
      "iter  80 value 111.517641\n",
      "iter  90 value 111.404993\n",
      "iter 100 value 111.279654\n",
      "final  value 111.279654 \n",
      "stopped after 100 iterations\n",
      "예측력 0.6666667 입니다. [1] \"4\" \"3\" \"1\" \"1\" \"3\" \"2\" \"1\" \"4\" \"3\" \"4\" \"4\" \"3\" \"1\" \"1\" \"2\" \"2\" \"5\" \"5\" \"2\"\n",
      "[20] \"1\" \"3\" \"3\" \"2\" \"3\" \"1\" \"2\" \"1\" \"1\" \"1\" \"1\" \"1\" \"3\" \"5\" \"2\" \"5\" \"2\" \"1\" \"1\"\n",
      "[39] \"3\" \"1\" \"2\" \"1\" \"3\" \"4\" \"2\" \"3\" \"1\" \"1\" \"4\" \"1\" \"2\" \"1\" \"1\" \"3\" \"3\" \"1\" \"4\"\n",
      "[58] \"2\" \"2\" \"1\"\n",
      "예측력 0.6333333 입니다.예측력 0.6666667 입니다.예측력 0.6666667 입니다.# weights:  25 (16 variable)\n",
      "initial  value 239.806249 \n",
      "iter  10 value 133.891075\n",
      "iter  20 value 125.356897\n",
      "final  value 125.317207 \n",
      "converged\n",
      "예측력 0.6833333 입니다."
     ]
    },
    {
     "data": {
      "text/html": [
       "<table>\n",
       "<thead><tr><th></th><th scope=col>예측력</th></tr></thead>\n",
       "<tbody>\n",
       "\t<tr><th scope=row>인공신경망</th><td>0.6866667</td></tr>\n",
       "\t<tr><th scope=row>의사결정나무</th><td>0.6333333</td></tr>\n",
       "\t<tr><th scope=row>RandomForest</th><td>0.6566667</td></tr>\n",
       "\t<tr><th scope=row>SVM</th><td>0.6666667</td></tr>\n",
       "\t<tr><th scope=row>로지스틱회귀분석</th><td>0.6833333</td></tr>\n",
       "</tbody>\n",
       "</table>\n"
      ],
      "text/latex": [
       "\\begin{tabular}{r|l}\n",
       "  & 예측력\\\\\n",
       "\\hline\n",
       "\t인공신경망 & 0.6866667\\\\\n",
       "\t의사결정나무 & 0.6333333\\\\\n",
       "\tRandomForest & 0.6566667\\\\\n",
       "\tSVM & 0.6666667\\\\\n",
       "\t로지스틱회귀분석 & 0.6833333\\\\\n",
       "\\end{tabular}\n"
      ],
      "text/markdown": [
       "\n",
       "| <!--/--> | 예측력 |\n",
       "|---|---|\n",
       "| 인공신경망 | 0.6866667 |\n",
       "| 의사결정나무 | 0.6333333 |\n",
       "| RandomForest | 0.6566667 |\n",
       "| SVM | 0.6666667 |\n",
       "| 로지스틱회귀분석 | 0.6833333 |\n",
       "\n"
      ],
      "text/plain": [
       "                 예측력   \n",
       "인공신경망       0.6866667\n",
       "의사결정나무     0.6333333\n",
       "RandomForest     0.6566667\n",
       "SVM              0.6666667\n",
       "로지스틱회귀분석 0.6833333"
      ]
     },
     "metadata": {},
     "output_type": "display_data"
    }
   ],
   "source": [
    "\n",
    "\n",
    "df2 <- df\n",
    "head(df2)\n",
    "\n",
    "df2$cluster <- as.factor(df2$cluster)\n",
    "\n",
    "fun_x(df2,2:4,'cluster')\n"
   ]
  },
  {
   "cell_type": "code",
   "execution_count": 87,
   "id": "240bd5b9",
   "metadata": {},
   "outputs": [
    {
     "data": {
      "text/html": [
       "<table>\n",
       "<thead><tr><th scope=col>cluster</th><th scope=col>감독_주연조연시너지수</th><th scope=col>스크린점유율</th><th scope=col>배우점수</th></tr></thead>\n",
       "<tbody>\n",
       "\t<tr><td>4       </td><td>6       </td><td>46.96312</td><td>16.0    </td></tr>\n",
       "\t<tr><td>1       </td><td>0       </td><td>17.21519</td><td> 7.0    </td></tr>\n",
       "\t<tr><td>2       </td><td>0       </td><td>29.36088</td><td> 6.5    </td></tr>\n",
       "\t<tr><td>1       </td><td>3       </td><td>41.13475</td><td> 7.0    </td></tr>\n",
       "\t<tr><td>2       </td><td>3       </td><td>23.79760</td><td> 4.0    </td></tr>\n",
       "\t<tr><td>5       </td><td>0       </td><td>39.65201</td><td>25.0    </td></tr>\n",
       "</tbody>\n",
       "</table>\n"
      ],
      "text/latex": [
       "\\begin{tabular}{r|llll}\n",
       " cluster & 감독\\_주연조연시너지수 & 스크린점유율 & 배우점수\\\\\n",
       "\\hline\n",
       "\t 4        & 6        & 46.96312 & 16.0    \\\\\n",
       "\t 1        & 0        & 17.21519 &  7.0    \\\\\n",
       "\t 2        & 0        & 29.36088 &  6.5    \\\\\n",
       "\t 1        & 3        & 41.13475 &  7.0    \\\\\n",
       "\t 2        & 3        & 23.79760 &  4.0    \\\\\n",
       "\t 5        & 0        & 39.65201 & 25.0    \\\\\n",
       "\\end{tabular}\n"
      ],
      "text/markdown": [
       "\n",
       "| cluster | 감독_주연조연시너지수 | 스크린점유율 | 배우점수 |\n",
       "|---|---|---|---|\n",
       "| 4        | 6        | 46.96312 | 16.0     |\n",
       "| 1        | 0        | 17.21519 |  7.0     |\n",
       "| 2        | 0        | 29.36088 |  6.5     |\n",
       "| 1        | 3        | 41.13475 |  7.0     |\n",
       "| 2        | 3        | 23.79760 |  4.0     |\n",
       "| 5        | 0        | 39.65201 | 25.0     |\n",
       "\n"
      ],
      "text/plain": [
       "  cluster 감독_주연조연시너지수 스크린점유율 배우점수\n",
       "1 4       6                     46.96312     16.0    \n",
       "2 1       0                     17.21519      7.0    \n",
       "3 2       0                     29.36088      6.5    \n",
       "4 1       3                     41.13475      7.0    \n",
       "5 2       3                     23.79760      4.0    \n",
       "6 5       0                     39.65201     25.0    "
      ]
     },
     "metadata": {},
     "output_type": "display_data"
    }
   ],
   "source": [
    "head(df)"
   ]
  },
  {
   "cell_type": "code",
   "execution_count": 88,
   "id": "bfcfb246",
   "metadata": {},
   "outputs": [],
   "source": [
    "df$cluster <- df10$누적관객수"
   ]
  },
  {
   "cell_type": "code",
   "execution_count": 90,
   "id": "b6d8d97f",
   "metadata": {},
   "outputs": [],
   "source": [
    "genre4 <- df"
   ]
  },
  {
   "cell_type": "code",
   "execution_count": 93,
   "id": "b4b146a6",
   "metadata": {},
   "outputs": [],
   "source": [
    "scale<-function(x){\n",
    "    return((x-min(x))/(max(x)-min(x)))\n",
    "}"
   ]
  },
  {
   "cell_type": "code",
   "execution_count": 99,
   "id": "40f2e58d",
   "metadata": {},
   "outputs": [],
   "source": [
    "df5<-as.data.frame(lapply(df[,-1],scale))"
   ]
  },
  {
   "cell_type": "code",
   "execution_count": 108,
   "id": "3b1d68ac",
   "metadata": {},
   "outputs": [
    {
     "data": {
      "text/html": [
       "<table>\n",
       "<thead><tr><th scope=col>감독_주연조연시너지수</th><th scope=col>스크린점유율</th><th scope=col>배우점수</th></tr></thead>\n",
       "<tbody>\n",
       "\t<tr><td>0.4285714</td><td>0.5726291</td><td>0.625    </td></tr>\n",
       "</tbody>\n",
       "</table>\n"
      ],
      "text/latex": [
       "\\begin{tabular}{r|lll}\n",
       " 감독\\_주연조연시너지수 & 스크린점유율 & 배우점수\\\\\n",
       "\\hline\n",
       "\t 0.4285714 & 0.5726291 & 0.625    \\\\\n",
       "\\end{tabular}\n"
      ],
      "text/markdown": [
       "\n",
       "| 감독_주연조연시너지수 | 스크린점유율 | 배우점수 |\n",
       "|---|---|---|\n",
       "| 0.4285714 | 0.5726291 | 0.625     |\n",
       "\n"
      ],
      "text/plain": [
       "  감독_주연조연시너지수 스크린점유율 배우점수\n",
       "1 0.4285714             0.5726291    0.625   "
      ]
     },
     "metadata": {},
     "output_type": "display_data"
    }
   ],
   "source": [
    "head(df5,1)"
   ]
  },
  {
   "cell_type": "code",
   "execution_count": 113,
   "id": "d09765cd",
   "metadata": {},
   "outputs": [
    {
     "data": {
      "text/html": [
       "<table>\n",
       "<thead><tr><th scope=col>cluster</th><th scope=col>감독_주연조연시너지수</th><th scope=col>스크린점유율</th><th scope=col>배우점수</th></tr></thead>\n",
       "<tbody>\n",
       "\t<tr><td> 7232387</td><td>6       </td><td>46.96312</td><td>16.0    </td></tr>\n",
       "\t<tr><td> 2535450</td><td>0       </td><td>17.21519</td><td> 7.0    </td></tr>\n",
       "\t<tr><td> 2963652</td><td>0       </td><td>29.36088</td><td> 6.5    </td></tr>\n",
       "\t<tr><td> 2242510</td><td>3       </td><td>41.13475</td><td> 7.0    </td></tr>\n",
       "\t<tr><td> 4039891</td><td>3       </td><td>23.79760</td><td> 4.0    </td></tr>\n",
       "\t<tr><td>12811213</td><td>0       </td><td>39.65201</td><td>25.0    </td></tr>\n",
       "</tbody>\n",
       "</table>\n"
      ],
      "text/latex": [
       "\\begin{tabular}{r|llll}\n",
       " cluster & 감독\\_주연조연시너지수 & 스크린점유율 & 배우점수\\\\\n",
       "\\hline\n",
       "\t  7232387 & 6        & 46.96312 & 16.0    \\\\\n",
       "\t  2535450 & 0        & 17.21519 &  7.0    \\\\\n",
       "\t  2963652 & 0        & 29.36088 &  6.5    \\\\\n",
       "\t  2242510 & 3        & 41.13475 &  7.0    \\\\\n",
       "\t  4039891 & 3        & 23.79760 &  4.0    \\\\\n",
       "\t 12811213 & 0        & 39.65201 & 25.0    \\\\\n",
       "\\end{tabular}\n"
      ],
      "text/markdown": [
       "\n",
       "| cluster | 감독_주연조연시너지수 | 스크린점유율 | 배우점수 |\n",
       "|---|---|---|---|\n",
       "|  7232387 | 6        | 46.96312 | 16.0     |\n",
       "|  2535450 | 0        | 17.21519 |  7.0     |\n",
       "|  2963652 | 0        | 29.36088 |  6.5     |\n",
       "|  2242510 | 3        | 41.13475 |  7.0     |\n",
       "|  4039891 | 3        | 23.79760 |  4.0     |\n",
       "| 12811213 | 0        | 39.65201 | 25.0     |\n",
       "\n"
      ],
      "text/plain": [
       "  cluster  감독_주연조연시너지수 스크린점유율 배우점수\n",
       "1  7232387 6                     46.96312     16.0    \n",
       "2  2535450 0                     17.21519      7.0    \n",
       "3  2963652 0                     29.36088      6.5    \n",
       "4  2242510 3                     41.13475      7.0    \n",
       "5  4039891 3                     23.79760      4.0    \n",
       "6 12811213 0                     39.65201     25.0    "
      ]
     },
     "metadata": {},
     "output_type": "display_data"
    }
   ],
   "source": [
    "head(df)"
   ]
  },
  {
   "cell_type": "markdown",
   "id": "6dc70dc5",
   "metadata": {},
   "source": [
    "- lapply 함수는 list + apply를 의미하는 이름의 함수 \n",
    "- 실행 결과가 list 형태로 출력되는데, 리스트(list)의 인자는 length( 데이터 ) 만큼 생성된다.\n",
    "- 참고로 데이터프레임(data frame)인 경우 length( 데이터 )의 결과는 변수의 개수(열의 개수)이고, 리스트인 경우 length( 데이터 )는 리스트 인자의 개수이다.\n"
   ]
  },
  {
   "cell_type": "code",
   "execution_count": 112,
   "id": "83a6a171",
   "metadata": {},
   "outputs": [
    {
     "data": {
      "text/plain": [
       "5-nearest neighbor regression model"
      ]
     },
     "metadata": {},
     "output_type": "display_data"
    }
   ],
   "source": [
    "model = knnreg(cluster ~ ., data = df)\n",
    "model"
   ]
  },
  {
   "cell_type": "code",
   "execution_count": 114,
   "id": "ad9b32bb",
   "metadata": {},
   "outputs": [
    {
     "name": "stderr",
     "output_type": "stream",
     "text": [
      "Warning message in createDataPartition(df, p = 0.7):\n",
      "“Some classes have no records (  ) and these will be ignored”Warning message in createDataPartition(df, p = 0.7):\n",
      "“Some classes have a single record (  ) and these will be selected for the sample”"
     ]
    }
   ],
   "source": [
    "\n",
    "inTrain <- createDataPartition(df, p = .7)[[1]]"
   ]
  },
  {
   "cell_type": "code",
   "execution_count": 119,
   "id": "b1f52ad1",
   "metadata": {},
   "outputs": [
    {
     "data": {
      "text/html": [
       "<table>\n",
       "<thead><tr><th scope=col>cluster</th><th scope=col>감독_주연조연시너지수</th><th scope=col>스크린점유율</th><th scope=col>배우점수</th></tr></thead>\n",
       "<tbody>\n",
       "\t<tr><td> 7232387</td><td>6       </td><td>46.96312</td><td>16.0    </td></tr>\n",
       "\t<tr><td> 2535450</td><td>0       </td><td>17.21519</td><td> 7.0    </td></tr>\n",
       "\t<tr><td> 2963652</td><td>0       </td><td>29.36088</td><td> 6.5    </td></tr>\n",
       "\t<tr><td> 2242510</td><td>3       </td><td>41.13475</td><td> 7.0    </td></tr>\n",
       "\t<tr><td> 4039891</td><td>3       </td><td>23.79760</td><td> 4.0    </td></tr>\n",
       "\t<tr><td>12811213</td><td>0       </td><td>39.65201</td><td>25.0    </td></tr>\n",
       "</tbody>\n",
       "</table>\n"
      ],
      "text/latex": [
       "\\begin{tabular}{r|llll}\n",
       " cluster & 감독\\_주연조연시너지수 & 스크린점유율 & 배우점수\\\\\n",
       "\\hline\n",
       "\t  7232387 & 6        & 46.96312 & 16.0    \\\\\n",
       "\t  2535450 & 0        & 17.21519 &  7.0    \\\\\n",
       "\t  2963652 & 0        & 29.36088 &  6.5    \\\\\n",
       "\t  2242510 & 3        & 41.13475 &  7.0    \\\\\n",
       "\t  4039891 & 3        & 23.79760 &  4.0    \\\\\n",
       "\t 12811213 & 0        & 39.65201 & 25.0    \\\\\n",
       "\\end{tabular}\n"
      ],
      "text/markdown": [
       "\n",
       "| cluster | 감독_주연조연시너지수 | 스크린점유율 | 배우점수 |\n",
       "|---|---|---|---|\n",
       "|  7232387 | 6        | 46.96312 | 16.0     |\n",
       "|  2535450 | 0        | 17.21519 |  7.0     |\n",
       "|  2963652 | 0        | 29.36088 |  6.5     |\n",
       "|  2242510 | 3        | 41.13475 |  7.0     |\n",
       "|  4039891 | 3        | 23.79760 |  4.0     |\n",
       "| 12811213 | 0        | 39.65201 | 25.0     |\n",
       "\n"
      ],
      "text/plain": [
       "  cluster  감독_주연조연시너지수 스크린점유율 배우점수\n",
       "1  7232387 6                     46.96312     16.0    \n",
       "2  2535450 0                     17.21519      7.0    \n",
       "3  2963652 0                     29.36088      6.5    \n",
       "4  2242510 3                     41.13475      7.0    \n",
       "5  4039891 3                     23.79760      4.0    \n",
       "6 12811213 0                     39.65201     25.0    "
      ]
     },
     "metadata": {},
     "output_type": "display_data"
    }
   ],
   "source": [
    "head(df)"
   ]
  },
  {
   "cell_type": "code",
   "execution_count": 120,
   "id": "6cac6319",
   "metadata": {},
   "outputs": [
    {
     "ename": "ERROR",
     "evalue": "Error in knnreg.data.frame(data.tr, data.test, k = 3): y must be numeric\n",
     "output_type": "error",
     "traceback": [
      "Error in knnreg.data.frame(data.tr, data.test, k = 3): y must be numeric\nTraceback:\n",
      "1. knnreg(data.tr, data.test, k = 3)",
      "2. knnreg.data.frame(data.tr, data.test, k = 3)",
      "3. stop(\"y must be numeric\")"
     ]
    }
   ],
   "source": [
    "# NOT RUN {\n",
    "\n",
    "samp <- createDataPartition(df[,1] , p = 0.7,list = F)\n",
    "data.tr <- df[samp,]\n",
    "data.test <- df[-samp,]\n",
    "\n",
    "x <- data.test[,-1]\n",
    "y <- data.test[,1]\n",
    "\n",
    "fit <- knnreg(data.tr, data.test, k = 3)\n",
    "\n",
    "plot(y, predict(fit, x))\n",
    "\n",
    "# }\n"
   ]
  },
  {
   "cell_type": "code",
   "execution_count": 101,
   "id": "5d608f42",
   "metadata": {
    "scrolled": false
   },
   "outputs": [
    {
     "name": "stdout",
     "output_type": "stream",
     "text": [
      "\n",
      " \n",
      "   Cell Contents\n",
      "|-------------------------|\n",
      "|                       N |\n",
      "|           N / Row Total |\n",
      "|           N / Col Total |\n",
      "|         N / Table Total |\n",
      "|-------------------------|\n",
      "\n",
      " \n",
      "Total Observations in Table:  59 \n",
      "\n",
      " \n",
      "                  | genre5_model \n",
      "genre5.testLabels |   5317959 |   5508017 |   8666208 |   9707581 |  12706483 |  12983330 |  14411775 |  17615039 | Row Total | \n",
      "------------------|-----------|-----------|-----------|-----------|-----------|-----------|-----------|-----------|-----------|\n",
      "                0 |         1 |         6 |         4 |         0 |         0 |         6 |         6 |         4 |        27 | \n",
      "                  |     0.037 |     0.222 |     0.148 |     0.000 |     0.000 |     0.222 |     0.222 |     0.148 |     0.458 | \n",
      "                  |     0.500 |     0.545 |     0.444 |     0.000 |     0.000 |     0.353 |     0.500 |     0.667 |           | \n",
      "                  |     0.017 |     0.102 |     0.068 |     0.000 |     0.000 |     0.102 |     0.102 |     0.068 |           | \n",
      "------------------|-----------|-----------|-----------|-----------|-----------|-----------|-----------|-----------|-----------|\n",
      "                1 |         0 |         0 |         0 |         0 |         0 |         1 |         0 |         0 |         1 | \n",
      "                  |     0.000 |     0.000 |     0.000 |     0.000 |     0.000 |     1.000 |     0.000 |     0.000 |     0.017 | \n",
      "                  |     0.000 |     0.000 |     0.000 |     0.000 |     0.000 |     0.059 |     0.000 |     0.000 |           | \n",
      "                  |     0.000 |     0.000 |     0.000 |     0.000 |     0.000 |     0.017 |     0.000 |     0.000 |           | \n",
      "------------------|-----------|-----------|-----------|-----------|-----------|-----------|-----------|-----------|-----------|\n",
      "                2 |         0 |         0 |         1 |         0 |         0 |         1 |         1 |         0 |         3 | \n",
      "                  |     0.000 |     0.000 |     0.333 |     0.000 |     0.000 |     0.333 |     0.333 |     0.000 |     0.051 | \n",
      "                  |     0.000 |     0.000 |     0.111 |     0.000 |     0.000 |     0.059 |     0.083 |     0.000 |           | \n",
      "                  |     0.000 |     0.000 |     0.017 |     0.000 |     0.000 |     0.017 |     0.017 |     0.000 |           | \n",
      "------------------|-----------|-----------|-----------|-----------|-----------|-----------|-----------|-----------|-----------|\n",
      "                3 |         0 |         2 |         0 |         0 |         0 |         2 |         0 |         0 |         4 | \n",
      "                  |     0.000 |     0.500 |     0.000 |     0.000 |     0.000 |     0.500 |     0.000 |     0.000 |     0.068 | \n",
      "                  |     0.000 |     0.182 |     0.000 |     0.000 |     0.000 |     0.118 |     0.000 |     0.000 |           | \n",
      "                  |     0.000 |     0.034 |     0.000 |     0.000 |     0.000 |     0.034 |     0.000 |     0.000 |           | \n",
      "------------------|-----------|-----------|-----------|-----------|-----------|-----------|-----------|-----------|-----------|\n",
      "                4 |         0 |         1 |         0 |         0 |         0 |         2 |         0 |         0 |         3 | \n",
      "                  |     0.000 |     0.333 |     0.000 |     0.000 |     0.000 |     0.667 |     0.000 |     0.000 |     0.051 | \n",
      "                  |     0.000 |     0.091 |     0.000 |     0.000 |     0.000 |     0.118 |     0.000 |     0.000 |           | \n",
      "                  |     0.000 |     0.017 |     0.000 |     0.000 |     0.000 |     0.034 |     0.000 |     0.000 |           | \n",
      "------------------|-----------|-----------|-----------|-----------|-----------|-----------|-----------|-----------|-----------|\n",
      "                5 |         0 |         1 |         0 |         0 |         0 |         1 |         1 |         0 |         3 | \n",
      "                  |     0.000 |     0.333 |     0.000 |     0.000 |     0.000 |     0.333 |     0.333 |     0.000 |     0.051 | \n",
      "                  |     0.000 |     0.091 |     0.000 |     0.000 |     0.000 |     0.059 |     0.083 |     0.000 |           | \n",
      "                  |     0.000 |     0.017 |     0.000 |     0.000 |     0.000 |     0.017 |     0.017 |     0.000 |           | \n",
      "------------------|-----------|-----------|-----------|-----------|-----------|-----------|-----------|-----------|-----------|\n",
      "                6 |         0 |         1 |         1 |         1 |         1 |         2 |         2 |         0 |         8 | \n",
      "                  |     0.000 |     0.125 |     0.125 |     0.125 |     0.125 |     0.250 |     0.250 |     0.000 |     0.136 | \n",
      "                  |     0.000 |     0.091 |     0.111 |     1.000 |     1.000 |     0.118 |     0.167 |     0.000 |           | \n",
      "                  |     0.000 |     0.017 |     0.017 |     0.017 |     0.017 |     0.034 |     0.034 |     0.000 |           | \n",
      "------------------|-----------|-----------|-----------|-----------|-----------|-----------|-----------|-----------|-----------|\n",
      "                7 |         1 |         0 |         1 |         0 |         0 |         0 |         1 |         1 |         4 | \n",
      "                  |     0.250 |     0.000 |     0.250 |     0.000 |     0.000 |     0.000 |     0.250 |     0.250 |     0.068 | \n",
      "                  |     0.500 |     0.000 |     0.111 |     0.000 |     0.000 |     0.000 |     0.083 |     0.167 |           | \n",
      "                  |     0.017 |     0.000 |     0.017 |     0.000 |     0.000 |     0.000 |     0.017 |     0.017 |           | \n",
      "------------------|-----------|-----------|-----------|-----------|-----------|-----------|-----------|-----------|-----------|\n",
      "                8 |         0 |         0 |         1 |         0 |         0 |         1 |         0 |         0 |         2 | \n",
      "                  |     0.000 |     0.000 |     0.500 |     0.000 |     0.000 |     0.500 |     0.000 |     0.000 |     0.034 | \n",
      "                  |     0.000 |     0.000 |     0.111 |     0.000 |     0.000 |     0.059 |     0.000 |     0.000 |           | \n",
      "                  |     0.000 |     0.000 |     0.017 |     0.000 |     0.000 |     0.017 |     0.000 |     0.000 |           | \n",
      "------------------|-----------|-----------|-----------|-----------|-----------|-----------|-----------|-----------|-----------|\n",
      "                9 |         0 |         0 |         1 |         0 |         0 |         1 |         1 |         1 |         4 | \n",
      "                  |     0.000 |     0.000 |     0.250 |     0.000 |     0.000 |     0.250 |     0.250 |     0.250 |     0.068 | \n",
      "                  |     0.000 |     0.000 |     0.111 |     0.000 |     0.000 |     0.059 |     0.083 |     0.167 |           | \n",
      "                  |     0.000 |     0.000 |     0.017 |     0.000 |     0.000 |     0.017 |     0.017 |     0.017 |           | \n",
      "------------------|-----------|-----------|-----------|-----------|-----------|-----------|-----------|-----------|-----------|\n",
      "     Column Total |         2 |        11 |         9 |         1 |         1 |        17 |        12 |         6 |        59 | \n",
      "                  |     0.034 |     0.186 |     0.153 |     0.017 |     0.017 |     0.288 |     0.203 |     0.102 |           | \n",
      "------------------|-----------|-----------|-----------|-----------|-----------|-----------|-----------|-----------|-----------|\n",
      "\n",
      " \n"
     ]
    }
   ],
   "source": [
    "CrossTable(x = genre5.testLabels, y = genre5_model, prop.chisq = FALSE )"
   ]
  },
  {
   "cell_type": "code",
   "execution_count": null,
   "id": "8a08378c",
   "metadata": {},
   "outputs": [],
   "source": []
  },
  {
   "cell_type": "code",
   "execution_count": null,
   "id": "b25bfcad",
   "metadata": {},
   "outputs": [],
   "source": []
  }
 ],
 "metadata": {
  "kernelspec": {
   "display_name": "R",
   "language": "R",
   "name": "ir"
  },
  "language_info": {
   "codemirror_mode": "r",
   "file_extension": ".r",
   "mimetype": "text/x-r-source",
   "name": "R",
   "pygments_lexer": "r",
   "version": "3.6.1"
  }
 },
 "nbformat": 4,
 "nbformat_minor": 5
}

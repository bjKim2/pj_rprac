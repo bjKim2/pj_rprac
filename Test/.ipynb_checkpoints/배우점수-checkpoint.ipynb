{
 "cells": [
  {
   "cell_type": "code",
   "execution_count": 1,
   "id": "95435a67",
   "metadata": {},
   "outputs": [
    {
     "name": "stderr",
     "output_type": "stream",
     "text": [
      "Warning message in file(file, \"rt\", encoding = fileEncoding):\n",
      "“파일 '../movies/movie109_ver1.csv'를 여는데 실패했습니다: No such file or directory”"
     ]
    },
    {
     "ename": "ERROR",
     "evalue": "Error in file(file, \"rt\", encoding = fileEncoding): 커넥션을 열 수 없습니다\n",
     "output_type": "error",
     "traceback": [
      "Error in file(file, \"rt\", encoding = fileEncoding): 커넥션을 열 수 없습니다\nTraceback:\n",
      "1. read.csv(\"../movies/movie109_ver1.csv\", fileEncoding = \"utf-8\")",
      "2. read.table(file = file, header = header, sep = sep, quote = quote, \n .     dec = dec, fill = fill, comment.char = comment.char, ...)",
      "3. file(file, \"rt\", encoding = fileEncoding)"
     ]
    }
   ],
   "source": [
    "df <- read.csv(\"../movies/movie109_ver1.csv\",fileEncoding = \"utf-8\")"
   ]
  },
  {
   "cell_type": "code",
   "execution_count": null,
   "id": "100051ec",
   "metadata": {},
   "outputs": [],
   "source": [
    "library(dplyr)"
   ]
  },
  {
   "cell_type": "code",
   "execution_count": null,
   "id": "b9042267",
   "metadata": {},
   "outputs": [],
   "source": [
    "df <- arrange(df , desc(누적관객수))"
   ]
  },
  {
   "cell_type": "code",
   "execution_count": null,
   "id": "412b75cb",
   "metadata": {},
   "outputs": [],
   "source": [
    "head(df)"
   ]
  },
  {
   "cell_type": "code",
   "execution_count": null,
   "id": "cc9b28db",
   "metadata": {},
   "outputs": [],
   "source": []
  },
  {
   "cell_type": "code",
   "execution_count": null,
   "id": "15bfad2d",
   "metadata": {},
   "outputs": [],
   "source": [
    "str(df)"
   ]
  },
  {
   "cell_type": "code",
   "execution_count": null,
   "id": "93bd6e32",
   "metadata": {},
   "outputs": [],
   "source": [
    "df$배우 <- as.character(df$배우)"
   ]
  },
  {
   "cell_type": "code",
   "execution_count": null,
   "id": "02c5a972",
   "metadata": {},
   "outputs": [],
   "source": [
    "ju <- c()\n",
    "\n",
    "for (i in 1: nrow(df)){\n",
    "    temp_ju <- unlist(strsplit(df$배우[i],\",\"))\n",
    "    ju <- c(ju,temp_ju)\n",
    "}"
   ]
  },
  {
   "cell_type": "code",
   "execution_count": null,
   "id": "ed9a33b0",
   "metadata": {},
   "outputs": [],
   "source": [
    "ju_df <- data.frame(table(ju))\n",
    "colnames(ju_df) <- c('주연',\"횟수\")"
   ]
  },
  {
   "cell_type": "code",
   "execution_count": null,
   "id": "ce1605d5",
   "metadata": {},
   "outputs": [],
   "source": [
    "head(ju_df)"
   ]
  },
  {
   "cell_type": "code",
   "execution_count": null,
   "id": "f22b0886",
   "metadata": {},
   "outputs": [],
   "source": [
    "ju_df$점수 = 0\n",
    "head(ju_df)"
   ]
  },
  {
   "cell_type": "code",
   "execution_count": null,
   "id": "e71d43fc",
   "metadata": {},
   "outputs": [],
   "source": [
    "df$배우 <- as.character(df$배우)"
   ]
  },
  {
   "cell_type": "code",
   "execution_count": null,
   "id": "25d5e455",
   "metadata": {},
   "outputs": [],
   "source": [
    "for(i in 1:nrow(df)){\n",
    "    for( j in 1:nrow(ju_df)){\n",
    "        if(ju_df[j,1] %in% unlist(strsplit(df$배우[i],\",\"))){\n",
    "            if(df$cluster[i] == 1){\n",
    "                ju_df$점수[j] = ju_df$점수[j] + 1\n",
    "            }else if(df$cluster[i] == 2){\n",
    "                ju_df$점수[j] = ju_df$점수[j] + 2\n",
    "            }else{\n",
    "                ju_df$점수[j] = ju_df$점수[j] + 4\n",
    "            }\n",
    "        }\n",
    "    }\n",
    "}"
   ]
  },
  {
   "cell_type": "code",
   "execution_count": null,
   "id": "80fb7d1a",
   "metadata": {},
   "outputs": [],
   "source": [
    "ju_df<- arrange(ju_df,desc(점수))"
   ]
  },
  {
   "cell_type": "code",
   "execution_count": null,
   "id": "e31c7a4a",
   "metadata": {},
   "outputs": [],
   "source": [
    "head(ju_df,10)"
   ]
  },
  {
   "cell_type": "code",
   "execution_count": null,
   "id": "1ed0d8cb",
   "metadata": {},
   "outputs": [],
   "source": [
    "ju_df$평균점수 = 0"
   ]
  },
  {
   "cell_type": "code",
   "execution_count": null,
   "id": "b77f2f40",
   "metadata": {},
   "outputs": [],
   "source": [
    "for( i in 1: nrow(ju_df)){\n",
    "    ju_df$평균점수[i] <- ju_df$점수[i] / ju_df$횟수[i] \n",
    "}\n"
   ]
  },
  {
   "cell_type": "code",
   "execution_count": null,
   "id": "abb0b630",
   "metadata": {},
   "outputs": [],
   "source": [
    "x<-c()\n",
    "for( i in 1:nrow(df)){\n",
    "    if(\"김윤석\" %in% unlist(strsplit(df$배우[i],\",\"))){\n",
    "         x= c(x,i)\n",
    "    }\n",
    "}"
   ]
  },
  {
   "cell_type": "code",
   "execution_count": null,
   "id": "0b56a96c",
   "metadata": {},
   "outputs": [],
   "source": [
    "df[x,]"
   ]
  },
  {
   "cell_type": "code",
   "execution_count": null,
   "id": "b31d4c80",
   "metadata": {},
   "outputs": [],
   "source": [
    "head(df,1)"
   ]
  },
  {
   "cell_type": "code",
   "execution_count": null,
   "id": "c1da840d",
   "metadata": {},
   "outputs": [],
   "source": [
    "\"하정우\" %in% unlist(substr(df$배우,\",\"))"
   ]
  },
  {
   "cell_type": "code",
   "execution_count": null,
   "id": "3f8ffae6",
   "metadata": {},
   "outputs": [],
   "source": [
    "arrange(ju_df,desc(점수))"
   ]
  },
  {
   "cell_type": "code",
   "execution_count": null,
   "id": "144102ab",
   "metadata": {},
   "outputs": [],
   "source": [
    "arrange(subset(ju_df, 횟수 >=5),desc(평균점수))"
   ]
  },
  {
   "cell_type": "code",
   "execution_count": null,
   "id": "8ea00b7c",
   "metadata": {},
   "outputs": [],
   "source": [
    "temp_ju_df<-arrange(subset(ju_df, 횟수 >=3),desc(평균점수))"
   ]
  },
  {
   "cell_type": "code",
   "execution_count": null,
   "id": "eef04b52",
   "metadata": {},
   "outputs": [],
   "source": [
    "shapiro.test(temp_ju_df[,4])"
   ]
  },
  {
   "cell_type": "code",
   "execution_count": null,
   "id": "ad89bd7d",
   "metadata": {},
   "outputs": [],
   "source": [
    "hist(temp_ju_df[,4])"
   ]
  },
  {
   "cell_type": "code",
   "execution_count": null,
   "id": "74d911c1",
   "metadata": {},
   "outputs": [],
   "source": [
    "barplot(table(temp_ju_df[,4]))"
   ]
  },
  {
   "cell_type": "code",
   "execution_count": null,
   "id": "1e87a690",
   "metadata": {},
   "outputs": [],
   "source": [
    "x<-c()\n",
    "for( i in 1:nrow(df)){\n",
    "    if(\"성동일\" %in% unlist(strsplit(df$배우[i],\",\"))){\n",
    "           x<-c(x,i)\n",
    "    }\n",
    "}"
   ]
  },
  {
   "cell_type": "code",
   "execution_count": null,
   "id": "0c156d2b",
   "metadata": {},
   "outputs": [],
   "source": [
    "df[x,]"
   ]
  },
  {
   "cell_type": "code",
   "execution_count": null,
   "id": "f54d23a4",
   "metadata": {},
   "outputs": [],
   "source": [
    "\"오달수\" %in% unlist(strsplit(df$배우[1],\",\"))"
   ]
  },
  {
   "cell_type": "code",
   "execution_count": null,
   "id": "7b260289",
   "metadata": {},
   "outputs": [],
   "source": [
    "str(df)"
   ]
  },
  {
   "cell_type": "code",
   "execution_count": null,
   "id": "42c32938",
   "metadata": {},
   "outputs": [],
   "source": [
    "arrange(subset(df,cluster == 3),desc(누적관객수))"
   ]
  },
  {
   "cell_type": "code",
   "execution_count": null,
   "id": "47c55f00",
   "metadata": {},
   "outputs": [],
   "source": [
    "(4313101 +4452850 )/2"
   ]
  },
  {
   "cell_type": "code",
   "execution_count": null,
   "id": "14dbeb8f",
   "metadata": {},
   "outputs": [],
   "source": []
  },
  {
   "cell_type": "code",
   "execution_count": null,
   "id": "a4dec34b",
   "metadata": {},
   "outputs": [],
   "source": [
    "4382976"
   ]
  }
 ],
 "metadata": {
  "kernelspec": {
   "display_name": "R",
   "language": "R",
   "name": "ir"
  },
  "language_info": {
   "codemirror_mode": "r",
   "file_extension": ".r",
   "mimetype": "text/x-r-source",
   "name": "R",
   "pygments_lexer": "r",
   "version": "3.6.1"
  }
 },
 "nbformat": 4,
 "nbformat_minor": 5
}

{
 "cells": [
  {
   "cell_type": "code",
   "execution_count": 1,
   "id": "5318730d",
   "metadata": {},
   "outputs": [],
   "source": [
    "df<-read.csv(\"../movies/temp_mining_prever2.csv\",fileEncoding = 'utf-8',stringsAsFactors = F)\n",
    "actor_scroe_df <- read.csv(\"../movies/ju_score.csv\" ,fileEncoding = 'utf-8',stringsAsFactors = F)"
   ]
  },
  {
   "cell_type": "code",
   "execution_count": 4,
   "id": "ce9464fd",
   "metadata": {},
   "outputs": [
    {
     "data": {
      "text/html": [
       "<table>\n",
       "<thead><tr><th scope=col>누적관객수</th><th scope=col>스크린수</th><th scope=col>상영횟수</th><th scope=col>개봉일</th><th scope=col>배급사</th><th scope=col>등급</th><th scope=col>장르</th><th scope=col>감독</th><th scope=col>주연</th><th scope=col>제작사</th><th scope=col>cluster</th><th scope=col>조연</th><th scope=col>감독_주연조연시너지수</th><th scope=col>감독_주연조연악연수</th><th scope=col>상영횟수당누적관객수</th><th scope=col>스크린점유율</th><th scope=col>배우누적점수</th><th scope=col>배우점수</th><th scope=col>배우수</th></tr></thead>\n",
       "<tbody>\n",
       "\t<tr><td>7232387                                                                                                                             </td><td>1299                                                                                                                                </td><td>138226                                                                                                                              </td><td>2017-12-27                                                                                                                          </td><td>CJ ENM                                                                                                                              </td><td>15세이상관람가                                                                                                                      </td><td>드라마                                                                                                                              </td><td>장준환                                                                                                                              </td><td>김윤석,하정우,유해진,김태리,박희순,이희준                                                                                           </td><td>(주)우정필름                                                                                                                        </td><td>4                                                                                                                                   </td><td>유승목,현봉식,박지환,이용직,박지홍,김경덕,김의성,최광일,김수진,김종수,김혜정,조우진,임철형,이창훈,서현우,이현균,김승훈,박경혜,이화룡</td><td>6                                                                                                                                   </td><td>0                                                                                                                                   </td><td>52.32291                                                                                                                            </td><td>46.96312                                                                                                                            </td><td>62.17949                                                                                                                            </td><td>16                                                                                                                                  </td><td>6                                                                                                                                   </td></tr>\n",
       "\t<tr><td>2535450                                                                                                                             </td><td> 340                                                                                                                                </td><td> 54566                                                                                                                              </td><td>2007-02-14                                                                                                                          </td><td>CJ ENM                                                                                                                              </td><td>15세이상관람가                                                                                                                      </td><td>드라마,코미디                                                                                                                       </td><td>윤제균                                                                                                                              </td><td>임창정,하지원                                                                                                                       </td><td>(주)두사부필름                                                                                                                      </td><td>1                                                                                                                                   </td><td>주현,정두홍,이훈,강예원,박창익,박유선,고태호                                                                                        </td><td>0                                                                                                                                   </td><td>0                                                                                                                                   </td><td>46.46575                                                                                                                            </td><td>17.21519                                                                                                                            </td><td> 8.00000                                                                                                                            </td><td> 7                                                                                                                                  </td><td>2                                                                                                                                   </td></tr>\n",
       "</tbody>\n",
       "</table>\n"
      ],
      "text/latex": [
       "\\begin{tabular}{r|lllllllllllllllllll}\n",
       " 누적관객수 & 스크린수 & 상영횟수 & 개봉일 & 배급사 & 등급 & 장르 & 감독 & 주연 & 제작사 & cluster & 조연 & 감독\\_주연조연시너지수 & 감독\\_주연조연악연수 & 상영횟수당누적관객수 & 스크린점유율 & 배우누적점수 & 배우점수 & 배우수\\\\\n",
       "\\hline\n",
       "\t 7232387                                                                                                                              & 1299                                                                                                                                 & 138226                                                                                                                               & 2017-12-27                                                                                                                           & CJ ENM                                                                                                                               & 15세이상관람가                                                                                                                       & 드라마                                                                                                                               & 장준환                                                                                                                               & 김윤석,하정우,유해진,김태리,박희순,이희준                                                                                            & (주)우정필름                                                                                                                         & 4                                                                                                                                    & 유승목,현봉식,박지환,이용직,박지홍,김경덕,김의성,최광일,김수진,김종수,김혜정,조우진,임철형,이창훈,서현우,이현균,김승훈,박경혜,이화룡 & 6                                                                                                                                    & 0                                                                                                                                    & 52.32291                                                                                                                             & 46.96312                                                                                                                             & 62.17949                                                                                                                             & 16                                                                                                                                   & 6                                                                                                                                   \\\\\n",
       "\t 2535450                                                                                                                              &  340                                                                                                                                 &  54566                                                                                                                               & 2007-02-14                                                                                                                           & CJ ENM                                                                                                                               & 15세이상관람가                                                                                                                       & 드라마,코미디                                                                                                                        & 윤제균                                                                                                                               & 임창정,하지원                                                                                                                        & (주)두사부필름                                                                                                                       & 1                                                                                                                                    & 주현,정두홍,이훈,강예원,박창익,박유선,고태호                                                                                         & 0                                                                                                                                    & 0                                                                                                                                    & 46.46575                                                                                                                             & 17.21519                                                                                                                             &  8.00000                                                                                                                             &  7                                                                                                                                   & 2                                                                                                                                   \\\\\n",
       "\\end{tabular}\n"
      ],
      "text/markdown": [
       "\n",
       "| 누적관객수 | 스크린수 | 상영횟수 | 개봉일 | 배급사 | 등급 | 장르 | 감독 | 주연 | 제작사 | cluster | 조연 | 감독_주연조연시너지수 | 감독_주연조연악연수 | 상영횟수당누적관객수 | 스크린점유율 | 배우누적점수 | 배우점수 | 배우수 |\n",
       "|---|---|---|---|---|---|---|---|---|---|---|---|---|---|---|---|---|---|---|\n",
       "| 7232387                                                                                                                              | 1299                                                                                                                                 | 138226                                                                                                                               | 2017-12-27                                                                                                                           | CJ ENM                                                                                                                               | 15세이상관람가                                                                                                                       | 드라마                                                                                                                               | 장준환                                                                                                                               | 김윤석,하정우,유해진,김태리,박희순,이희준                                                                                            | (주)우정필름                                                                                                                         | 4                                                                                                                                    | 유승목,현봉식,박지환,이용직,박지홍,김경덕,김의성,최광일,김수진,김종수,김혜정,조우진,임철형,이창훈,서현우,이현균,김승훈,박경혜,이화룡 | 6                                                                                                                                    | 0                                                                                                                                    | 52.32291                                                                                                                             | 46.96312                                                                                                                             | 62.17949                                                                                                                             | 16                                                                                                                                   | 6                                                                                                                                    |\n",
       "| 2535450                                                                                                                              |  340                                                                                                                                 |  54566                                                                                                                               | 2007-02-14                                                                                                                           | CJ ENM                                                                                                                               | 15세이상관람가                                                                                                                       | 드라마,코미디                                                                                                                        | 윤제균                                                                                                                               | 임창정,하지원                                                                                                                        | (주)두사부필름                                                                                                                       | 1                                                                                                                                    | 주현,정두홍,이훈,강예원,박창익,박유선,고태호                                                                                         | 0                                                                                                                                    | 0                                                                                                                                    | 46.46575                                                                                                                             | 17.21519                                                                                                                             |  8.00000                                                                                                                             |  7                                                                                                                                   | 2                                                                                                                                    |\n",
       "\n"
      ],
      "text/plain": [
       "  누적관객수 스크린수 상영횟수 개봉일     배급사 등급           장르         \n",
       "1 7232387    1299     138226   2017-12-27 CJ ENM 15세이상관람가 드라마       \n",
       "2 2535450     340      54566   2007-02-14 CJ ENM 15세이상관람가 드라마,코미디\n",
       "  감독   주연                                      제작사         cluster\n",
       "1 장준환 김윤석,하정우,유해진,김태리,박희순,이희준 (주)우정필름   4      \n",
       "2 윤제균 임창정,하지원                             (주)두사부필름 1      \n",
       "  조연                                                                                                                                \n",
       "1 유승목,현봉식,박지환,이용직,박지홍,김경덕,김의성,최광일,김수진,김종수,김혜정,조우진,임철형,이창훈,서현우,이현균,김승훈,박경혜,이화룡\n",
       "2 주현,정두홍,이훈,강예원,박창익,박유선,고태호                                                                                        \n",
       "  감독_주연조연시너지수 감독_주연조연악연수 상영횟수당누적관객수 스크린점유율\n",
       "1 6                     0                   52.32291             46.96312    \n",
       "2 0                     0                   46.46575             17.21519    \n",
       "  배우누적점수 배우점수 배우수\n",
       "1 62.17949     16       6     \n",
       "2  8.00000      7       2     "
      ]
     },
     "metadata": {},
     "output_type": "display_data"
    }
   ],
   "source": [
    "head(df,2)"
   ]
  },
  {
   "cell_type": "code",
   "execution_count": 15,
   "id": "b5dddf08",
   "metadata": {},
   "outputs": [
    {
     "data": {
      "text/html": [
       "<table>\n",
       "<thead><tr><th scope=col>주연</th><th scope=col>총횟수</th><th scope=col>cluster</th><th scope=col>횟수</th><th scope=col>누적관객수__개봉일스크린수</th><th scope=col>누적관객수__스크린수</th><th scope=col>누적관객수__상영횟수</th><th scope=col>평균_관람객_개스크</th><th scope=col>평균_관람객_스크</th><th scope=col>평균_관람객_상횟</th><th scope=col>관람객개스크점수</th></tr></thead>\n",
       "<tbody>\n",
       "\t<tr><td>강동원  </td><td>17      </td><td>1       </td><td>1       </td><td>13949.42</td><td>10547.12</td><td>101.5337</td><td>13949.42</td><td>10547.12</td><td>101.5337</td><td>13949.42</td></tr>\n",
       "</tbody>\n",
       "</table>\n"
      ],
      "text/latex": [
       "\\begin{tabular}{r|lllllllllll}\n",
       " 주연 & 총횟수 & cluster & 횟수 & 누적관객수\\_\\_개봉일스크린수 & 누적관객수\\_\\_스크린수 & 누적관객수\\_\\_상영횟수 & 평균\\_관람객\\_개스크 & 평균\\_관람객\\_스크 & 평균\\_관람객\\_상횟 & 관람객개스크점수\\\\\n",
       "\\hline\n",
       "\t 강동원   & 17       & 1        & 1        & 13949.42 & 10547.12 & 101.5337 & 13949.42 & 10547.12 & 101.5337 & 13949.42\\\\\n",
       "\\end{tabular}\n"
      ],
      "text/markdown": [
       "\n",
       "| 주연 | 총횟수 | cluster | 횟수 | 누적관객수__개봉일스크린수 | 누적관객수__스크린수 | 누적관객수__상영횟수 | 평균_관람객_개스크 | 평균_관람객_스크 | 평균_관람객_상횟 | 관람객개스크점수 |\n",
       "|---|---|---|---|---|---|---|---|---|---|---|\n",
       "| 강동원   | 17       | 1        | 1        | 13949.42 | 10547.12 | 101.5337 | 13949.42 | 10547.12 | 101.5337 | 13949.42 |\n",
       "\n"
      ],
      "text/plain": [
       "  주연   총횟수 cluster 횟수 누적관객수__개봉일스크린수 누적관객수__스크린수\n",
       "1 강동원 17     1       1    13949.42                   10547.12            \n",
       "  누적관객수__상영횟수 평균_관람객_개스크 평균_관람객_스크 평균_관람객_상횟\n",
       "1 101.5337             13949.42           10547.12         101.5337        \n",
       "  관람객개스크점수\n",
       "1 13949.42        "
      ]
     },
     "metadata": {},
     "output_type": "display_data"
    }
   ],
   "source": [
    "head(actor_scroe_df,1)"
   ]
  },
  {
   "cell_type": "code",
   "execution_count": 10,
   "id": "0d10d25c",
   "metadata": {},
   "outputs": [],
   "source": [
    "df$배우점수개스크 <- 0\n",
    "df$배우점수개스크ver2 <- 0"
   ]
  },
  {
   "cell_type": "code",
   "execution_count": 11,
   "id": "481b8861",
   "metadata": {},
   "outputs": [],
   "source": [
    "for(i in 1:nrow(df)){\n",
    "    a <- unlist(strsplit(df$주연[i],\",\"))\n",
    "    x<-c()\n",
    "    y<-c()\n",
    "    for(j in 1:nrow(actor_scroe_df)){\n",
    "        if( actor_scroe_df$주연[j] %in% a ){\n",
    "            \n",
    "            x<- c(x,actor_scroe_df$평균_관람객_개스크[j])\n",
    "            y<- c(y,actor_scroe_df$관람객개스크점수[j])\n",
    "        }\n",
    "        \n",
    "    }\n",
    "    if(length(x)>=1){\n",
    "        \n",
    "    df$배우점수개스크[i] = max(x)\n",
    "    df$배우점수개스크ver2[i] = max(y)\n",
    "    }\n",
    "        \n",
    "}\n"
   ]
  },
  {
   "cell_type": "code",
   "execution_count": 19,
   "id": "bfbcc8d8",
   "metadata": {},
   "outputs": [],
   "source": [
    "df[df$배우점수개스크==0,\"배우점수개스크\"] = 10477.0861787964"
   ]
  },
  {
   "cell_type": "code",
   "execution_count": 21,
   "id": "7677debd",
   "metadata": {},
   "outputs": [
    {
     "data": {
      "text/html": [],
      "text/latex": [],
      "text/markdown": [],
      "text/plain": [
       "logical(0)"
      ]
     },
     "metadata": {},
     "output_type": "display_data"
    }
   ],
   "source": [
    "df[df$관람객개스크점수 ==0,\"관람객개스크점수\"] ==20007.4599843946"
   ]
  },
  {
   "cell_type": "code",
   "execution_count": 20,
   "id": "b15f29f5",
   "metadata": {},
   "outputs": [
    {
     "data": {
      "text/html": [
       "10827.9933713877"
      ],
      "text/latex": [
       "10827.9933713877"
      ],
      "text/markdown": [
       "10827.9933713877"
      ],
      "text/plain": [
       "[1] 10827.99"
      ]
     },
     "metadata": {},
     "output_type": "display_data"
    },
    {
     "data": {
      "text/html": [
       "20007.4599843946"
      ],
      "text/latex": [
       "20007.4599843946"
      ],
      "text/markdown": [
       "20007.4599843946"
      ],
      "text/plain": [
       "[1] 20007.46"
      ]
     },
     "metadata": {},
     "output_type": "display_data"
    },
    {
     "data": {
      "image/png": "[encoded data removed]",
      "text/plain": [
       "Plot with title \"Histogram of df$배우점수개스크\""
      ]
     },
     "metadata": {},
     "output_type": "display_data"
    }
   ],
   "source": [
    "hist(df$배우점수개스크)\n",
    "mean(df$배우점수개스크)\n",
    "mean(df$배우점수개스크ver2)"
   ]
  },
  {
   "cell_type": "code",
   "execution_count": 22,
   "id": "d663150f",
   "metadata": {},
   "outputs": [],
   "source": [
    "write.csv(df,\"../movies/temp_mining_ver3.csv\",row.names = F, fileEncoding = \"utf-8\")"
   ]
  },
  {
   "cell_type": "code",
   "execution_count": null,
   "id": "a577a838",
   "metadata": {},
   "outputs": [],
   "source": []
  }
 ],
 "metadata": {
  "kernelspec": {
   "display_name": "R",
   "language": "R",
   "name": "ir"
  },
  "language_info": {
   "codemirror_mode": "r",
   "file_extension": ".r",
   "mimetype": "text/x-r-source",
   "name": "R",
   "pygments_lexer": "r",
   "version": "3.6.1"
  }
 },
 "nbformat": 4,
 "nbformat_minor": 5
}

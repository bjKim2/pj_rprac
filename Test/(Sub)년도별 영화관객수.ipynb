{
 "cells": [
  {
   "cell_type": "code",
   "execution_count": 17,
   "id": "29cad529",
   "metadata": {},
   "outputs": [],
   "source": [
    "df <- read.csv(\"../movies/new_movie_ver1.csv\",fileEncoding = \"utf-8\")"
   ]
  },
  {
   "cell_type": "code",
   "execution_count": 18,
   "id": "9a25ca77",
   "metadata": {},
   "outputs": [],
   "source": [
    "df1<-data.frame(년도= 2016:2019,영화관객수 = c(116556223,113907210,110149999,115622065) ,넷플릭스국내가입자수 =c(80000,340000,900000,2730000))"
   ]
  },
  {
   "cell_type": "code",
   "execution_count": 19,
   "id": "2d98e19c",
   "metadata": {},
   "outputs": [
    {
     "data": {
      "text/html": [
       "0.0885657927977339"
      ],
      "text/latex": [
       "0.0885657927977339"
      ],
      "text/markdown": [
       "0.0885657927977339"
      ],
      "text/plain": [
       "[1] 0.08856579"
      ]
     },
     "metadata": {},
     "output_type": "display_data"
    }
   ],
   "source": [
    "cor(df1$영화관객수,df1$넷플릭스국내가입자수)"
   ]
  },
  {
   "cell_type": "code",
   "execution_count": 20,
   "id": "3dba739a",
   "metadata": {},
   "outputs": [
    {
     "data": {
      "text/html": [
       "<ol class=list-inline>\n",
       "\t<li>239</li>\n",
       "\t<li>143</li>\n",
       "\t<li>250</li>\n",
       "\t<li>406</li>\n",
       "</ol>\n"
      ],
      "text/latex": [
       "\\begin{enumerate*}\n",
       "\\item 239\n",
       "\\item 143\n",
       "\\item 250\n",
       "\\item 406\n",
       "\\end{enumerate*}\n"
      ],
      "text/markdown": [
       "1. 239\n",
       "2. 143\n",
       "3. 250\n",
       "4. 406\n",
       "\n",
       "\n"
      ],
      "text/plain": [
       "[1] 239 143 250 406"
      ]
     },
     "metadata": {},
     "output_type": "display_data"
    }
   ],
   "source": [
    "c(239,143,250,406)"
   ]
  },
  {
   "cell_type": "code",
   "execution_count": 21,
   "id": "4a566723",
   "metadata": {},
   "outputs": [],
   "source": [
    "df2<-data.frame(년도= 2004:2019,영화관객수 = c(37741433,71346379,91745620,75791003,62047324,75644847,68843175,82868189,114911591,127292173,107706152,112942129,116556223,113907210,110149999,115622065)) "
   ]
  },
  {
   "cell_type": "code",
   "execution_count": 33,
   "id": "1355a8c5",
   "metadata": {},
   "outputs": [],
   "source": [
    "df2$개봉편수 <- c(74,82,110,111,110,119,142,152,176,183,217,257,337,495,661,697)"
   ]
  },
  {
   "cell_type": "code",
   "execution_count": 35,
   "id": "b3016169",
   "metadata": {},
   "outputs": [],
   "source": [
    "df2$관객수_개봉편수 <- df2$영화관객수 / df2$개봉편수"
   ]
  },
  {
   "cell_type": "code",
   "execution_count": 36,
   "id": "062d50fc",
   "metadata": {},
   "outputs": [
    {
     "data": {
      "text/html": [
       "<table>\n",
       "<thead><tr><th scope=col>년도</th><th scope=col>영화관객수</th><th scope=col>개봉편수</th><th scope=col>관객수_개봉편수</th></tr></thead>\n",
       "<tbody>\n",
       "\t<tr><td>2004     </td><td> 37741433</td><td> 74      </td><td>510019.4 </td></tr>\n",
       "\t<tr><td>2005     </td><td> 71346379</td><td> 82      </td><td>870077.8 </td></tr>\n",
       "\t<tr><td>2006     </td><td> 91745620</td><td>110      </td><td>834051.1 </td></tr>\n",
       "\t<tr><td>2007     </td><td> 75791003</td><td>111      </td><td>682801.8 </td></tr>\n",
       "\t<tr><td>2008     </td><td> 62047324</td><td>110      </td><td>564066.6 </td></tr>\n",
       "\t<tr><td>2009     </td><td> 75644847</td><td>119      </td><td>635671.0 </td></tr>\n",
       "\t<tr><td>2010     </td><td> 68843175</td><td>142      </td><td>484811.1 </td></tr>\n",
       "\t<tr><td>2011     </td><td> 82868189</td><td>152      </td><td>545185.5 </td></tr>\n",
       "\t<tr><td>2012     </td><td>114911591</td><td>176      </td><td>652906.8 </td></tr>\n",
       "\t<tr><td>2013     </td><td>127292173</td><td>183      </td><td>695585.6 </td></tr>\n",
       "\t<tr><td>2014     </td><td>107706152</td><td>217      </td><td>496341.7 </td></tr>\n",
       "\t<tr><td>2015     </td><td>112942129</td><td>257      </td><td>439463.5 </td></tr>\n",
       "\t<tr><td>2016     </td><td>116556223</td><td>337      </td><td>345864.2 </td></tr>\n",
       "\t<tr><td>2017     </td><td>113907210</td><td>495      </td><td>230115.6 </td></tr>\n",
       "\t<tr><td>2018     </td><td>110149999</td><td>661      </td><td>166641.5 </td></tr>\n",
       "\t<tr><td>2019     </td><td>115622065</td><td>697      </td><td>165885.3 </td></tr>\n",
       "</tbody>\n",
       "</table>\n"
      ],
      "text/latex": [
       "\\begin{tabular}{r|llll}\n",
       " 년도 & 영화관객수 & 개봉편수 & 관객수\\_개봉편수\\\\\n",
       "\\hline\n",
       "\t 2004      &  37741433 &  74       & 510019.4 \\\\\n",
       "\t 2005      &  71346379 &  82       & 870077.8 \\\\\n",
       "\t 2006      &  91745620 & 110       & 834051.1 \\\\\n",
       "\t 2007      &  75791003 & 111       & 682801.8 \\\\\n",
       "\t 2008      &  62047324 & 110       & 564066.6 \\\\\n",
       "\t 2009      &  75644847 & 119       & 635671.0 \\\\\n",
       "\t 2010      &  68843175 & 142       & 484811.1 \\\\\n",
       "\t 2011      &  82868189 & 152       & 545185.5 \\\\\n",
       "\t 2012      & 114911591 & 176       & 652906.8 \\\\\n",
       "\t 2013      & 127292173 & 183       & 695585.6 \\\\\n",
       "\t 2014      & 107706152 & 217       & 496341.7 \\\\\n",
       "\t 2015      & 112942129 & 257       & 439463.5 \\\\\n",
       "\t 2016      & 116556223 & 337       & 345864.2 \\\\\n",
       "\t 2017      & 113907210 & 495       & 230115.6 \\\\\n",
       "\t 2018      & 110149999 & 661       & 166641.5 \\\\\n",
       "\t 2019      & 115622065 & 697       & 165885.3 \\\\\n",
       "\\end{tabular}\n"
      ],
      "text/markdown": [
       "\n",
       "| 년도 | 영화관객수 | 개봉편수 | 관객수_개봉편수 |\n",
       "|---|---|---|---|\n",
       "| 2004      |  37741433 |  74       | 510019.4  |\n",
       "| 2005      |  71346379 |  82       | 870077.8  |\n",
       "| 2006      |  91745620 | 110       | 834051.1  |\n",
       "| 2007      |  75791003 | 111       | 682801.8  |\n",
       "| 2008      |  62047324 | 110       | 564066.6  |\n",
       "| 2009      |  75644847 | 119       | 635671.0  |\n",
       "| 2010      |  68843175 | 142       | 484811.1  |\n",
       "| 2011      |  82868189 | 152       | 545185.5  |\n",
       "| 2012      | 114911591 | 176       | 652906.8  |\n",
       "| 2013      | 127292173 | 183       | 695585.6  |\n",
       "| 2014      | 107706152 | 217       | 496341.7  |\n",
       "| 2015      | 112942129 | 257       | 439463.5  |\n",
       "| 2016      | 116556223 | 337       | 345864.2  |\n",
       "| 2017      | 113907210 | 495       | 230115.6  |\n",
       "| 2018      | 110149999 | 661       | 166641.5  |\n",
       "| 2019      | 115622065 | 697       | 165885.3  |\n",
       "\n"
      ],
      "text/plain": [
       "   년도 영화관객수 개봉편수 관객수_개봉편수\n",
       "1  2004  37741433   74      510019.4       \n",
       "2  2005  71346379   82      870077.8       \n",
       "3  2006  91745620  110      834051.1       \n",
       "4  2007  75791003  111      682801.8       \n",
       "5  2008  62047324  110      564066.6       \n",
       "6  2009  75644847  119      635671.0       \n",
       "7  2010  68843175  142      484811.1       \n",
       "8  2011  82868189  152      545185.5       \n",
       "9  2012 114911591  176      652906.8       \n",
       "10 2013 127292173  183      695585.6       \n",
       "11 2014 107706152  217      496341.7       \n",
       "12 2015 112942129  257      439463.5       \n",
       "13 2016 116556223  337      345864.2       \n",
       "14 2017 113907210  495      230115.6       \n",
       "15 2018 110149999  661      166641.5       \n",
       "16 2019 115622065  697      165885.3       "
      ]
     },
     "metadata": {},
     "output_type": "display_data"
    }
   ],
   "source": [
    "df2"
   ]
  },
  {
   "cell_type": "code",
   "execution_count": 24,
   "id": "70e80bab",
   "metadata": {},
   "outputs": [
    {
     "data": {
      "text/html": [
       "<table>\n",
       "<thead><tr><th scope=col>영화명</th><th scope=col>누적매출액</th><th scope=col>누적관객수</th><th scope=col>스크린수</th><th scope=col>상영횟수</th><th scope=col>개봉일</th><th scope=col>배급사</th><th scope=col>등급</th><th scope=col>장르</th><th scope=col>감독</th><th scope=col>배우</th><th scope=col>제작사</th></tr></thead>\n",
       "<tbody>\n",
       "\t<tr><td>...ing                                                                                  </td><td>217447000                                                                               </td><td>34300                                                                                   </td><td>1                                                                                       </td><td>1                                                                                       </td><td>2003-11-28                                                                              </td><td>(주)튜브엔터테인먼트                                                                    </td><td>12세관람가                                                                              </td><td>드라마,멜로/로맨스                                                                      </td><td>이언희                                                                                  </td><td>임수정,김래원,이미숙,김지영,김현수,박혜연,장미,이성경,박소연,김순애,최덕문,김인문,양주호</td><td>드림맥스(주)                                                                            </td></tr>\n",
       "</tbody>\n",
       "</table>\n"
      ],
      "text/latex": [
       "\\begin{tabular}{r|llllllllllll}\n",
       " 영화명 & 누적매출액 & 누적관객수 & 스크린수 & 상영횟수 & 개봉일 & 배급사 & 등급 & 장르 & 감독 & 배우 & 제작사\\\\\n",
       "\\hline\n",
       "\t ...ing                                                                                   & 217447000                                                                                & 34300                                                                                    & 1                                                                                        & 1                                                                                        & 2003-11-28                                                                               & (주)튜브엔터테인먼트                                                                     & 12세관람가                                                                               & 드라마,멜로/로맨스                                                                       & 이언희                                                                                   & 임수정,김래원,이미숙,김지영,김현수,박혜연,장미,이성경,박소연,김순애,최덕문,김인문,양주호 & 드림맥스(주)                                                                            \\\\\n",
       "\\end{tabular}\n"
      ],
      "text/markdown": [
       "\n",
       "| 영화명 | 누적매출액 | 누적관객수 | 스크린수 | 상영횟수 | 개봉일 | 배급사 | 등급 | 장르 | 감독 | 배우 | 제작사 |\n",
       "|---|---|---|---|---|---|---|---|---|---|---|---|\n",
       "| ...ing                                                                                   | 217447000                                                                                | 34300                                                                                    | 1                                                                                        | 1                                                                                        | 2003-11-28                                                                               | (주)튜브엔터테인먼트                                                                     | 12세관람가                                                                               | 드라마,멜로/로맨스                                                                       | 이언희                                                                                   | 임수정,김래원,이미숙,김지영,김현수,박혜연,장미,이성경,박소연,김순애,최덕문,김인문,양주호 | 드림맥스(주)                                                                             |\n",
       "\n"
      ],
      "text/plain": [
       "  영화명 누적매출액 누적관객수 스크린수 상영횟수 개봉일    \n",
       "1 ...ing 217447000  34300      1        1        2003-11-28\n",
       "  배급사               등급       장르               감독  \n",
       "1 (주)튜브엔터테인먼트 12세관람가 드라마,멜로/로맨스 이언희\n",
       "  배우                                                                                    \n",
       "1 임수정,김래원,이미숙,김지영,김현수,박혜연,장미,이성경,박소연,김순애,최덕문,김인문,양주호\n",
       "  제작사      \n",
       "1 드림맥스(주)"
      ]
     },
     "metadata": {},
     "output_type": "display_data"
    }
   ],
   "source": [
    "head(df,1)"
   ]
  },
  {
   "cell_type": "code",
   "execution_count": 25,
   "id": "40c76556",
   "metadata": {},
   "outputs": [
    {
     "name": "stdout",
     "output_type": "stream",
     "text": [
      "'data.frame':\t2710 obs. of  12 variables:\n",
      " $ 영화명    : Factor w/ 2710 levels \"...ing\",\"0.0MHz\",..: 1 2 3 4 5 6 7 8 9 10 ...\n",
      " $ 누적매출액: num  2.17e+08 1.09e+09 3.11e+09 1.90e+09 6.94e+07 ...\n",
      " $ 누적관객수: int  34300 137294 433866 288452 4078 32616 177 7232387 177 1 ...\n",
      " $ 스크린수  : int  1 446 252 340 35 64 20 1299 20 1 ...\n",
      " $ 상영횟수  : int  1 5998 12744 19036 436 1875 20 138226 20 1 ...\n",
      " $ 개봉일    : Factor w/ 1365 levels \"2003-01-30\",\"2003-04-25\",..: 6 1219 277 249 544 289 732 941 732 801 ...\n",
      " $ 배급사    : Factor w/ 334 levels \"(유)쏘아필름\",..: 164 79 95 95 283 185 153 100 153 153 ...\n",
      " $ 등급      : Factor w/ 7 levels \"12세관람가\",\"12세이상관람가\",..: 1 4 4 4 6 2 7 4 7 7 ...\n",
      " $ 장르      : Factor w/ 224 levels \"SF\",\"SF,가족,드라마\",..: 32 17 144 116 85 27 62 27 62 62 ...\n",
      " $ 감독      : Factor w/ 930 levels \"NEW PISTOL\",\"감수성\",..: 602 500 785 472 745 706 563 713 589 315 ...\n",
      " $ 배우      : Factor w/ 1599 levels \"\",\"T.O.P,승리,허이재,최인숙,조규범,김윤구,장소연,정성일\",..: 1186 1276 583 1112 441 2 1 818 1 1 ...\n",
      " $ 제작사    : Factor w/ 916 levels \"(유)내부자들 문화전문회사\",..: 623 435 413 219 526 183 468 400 468 468 ...\n"
     ]
    }
   ],
   "source": [
    "str(df)"
   ]
  },
  {
   "cell_type": "code",
   "execution_count": 26,
   "id": "3a4dfa30",
   "metadata": {},
   "outputs": [],
   "source": [
    "\n",
    "df$개봉일 <- as.character(df$개봉일)"
   ]
  },
  {
   "cell_type": "code",
   "execution_count": 27,
   "id": "1ab8fc4f",
   "metadata": {},
   "outputs": [],
   "source": [
    "df$년도 <- substr(df$개봉일,1,4 )"
   ]
  },
  {
   "cell_type": "code",
   "execution_count": 28,
   "id": "98ec908e",
   "metadata": {},
   "outputs": [
    {
     "name": "stdout",
     "output_type": "stream",
     "text": [
      "'data.frame':\t2710 obs. of  13 variables:\n",
      " $ 영화명    : Factor w/ 2710 levels \"...ing\",\"0.0MHz\",..: 1 2 3 4 5 6 7 8 9 10 ...\n",
      " $ 누적매출액: num  2.17e+08 1.09e+09 3.11e+09 1.90e+09 6.94e+07 ...\n",
      " $ 누적관객수: int  34300 137294 433866 288452 4078 32616 177 7232387 177 1 ...\n",
      " $ 스크린수  : int  1 446 252 340 35 64 20 1299 20 1 ...\n",
      " $ 상영횟수  : int  1 5998 12744 19036 436 1875 20 138226 20 1 ...\n",
      " $ 개봉일    : chr  \"2003-11-28\" \"2019-05-29\" \"2009-08-06\" \"2008-12-03\" ...\n",
      " $ 배급사    : Factor w/ 334 levels \"(유)쏘아필름\",..: 164 79 95 95 283 185 153 100 153 153 ...\n",
      " $ 등급      : Factor w/ 7 levels \"12세관람가\",\"12세이상관람가\",..: 1 4 4 4 6 2 7 4 7 7 ...\n",
      " $ 장르      : Factor w/ 224 levels \"SF\",\"SF,가족,드라마\",..: 32 17 144 116 85 27 62 27 62 62 ...\n",
      " $ 감독      : Factor w/ 930 levels \"NEW PISTOL\",\"감수성\",..: 602 500 785 472 745 706 563 713 589 315 ...\n",
      " $ 배우      : Factor w/ 1599 levels \"\",\"T.O.P,승리,허이재,최인숙,조규범,김윤구,장소연,정성일\",..: 1186 1276 583 1112 441 2 1 818 1 1 ...\n",
      " $ 제작사    : Factor w/ 916 levels \"(유)내부자들 문화전문회사\",..: 623 435 413 219 526 183 468 400 468 468 ...\n",
      " $ 년도      : chr  \"2003\" \"2019\" \"2009\" \"2008\" ...\n"
     ]
    }
   ],
   "source": [
    "str(df)"
   ]
  },
  {
   "cell_type": "code",
   "execution_count": 30,
   "id": "3382cf93",
   "metadata": {},
   "outputs": [],
   "source": [
    "df$년도 <- as.factor(df$년도)"
   ]
  },
  {
   "cell_type": "code",
   "execution_count": 42,
   "id": "923d3cb9",
   "metadata": {},
   "outputs": [],
   "source": [
    "\n",
    "df$개봉편수분의관객수 <- 0\n",
    "for( i in 1:nrow(df)){\n",
    "    for( j in 1:nrow(df2)){\n",
    "        if(df$년도[i] == df2$년도[j]){\n",
    "            df$개봉편수분의관객수[i] = df2$관객수_개봉편수[j]\n",
    "        }\n",
    "    }\n",
    "}"
   ]
  },
  {
   "cell_type": "code",
   "execution_count": 44,
   "id": "fde6bd9c",
   "metadata": {},
   "outputs": [
    {
     "data": {
      "image/png": "[encoded data removed]",
      "text/plain": [
       "plot without title"
      ]
     },
     "metadata": {},
     "output_type": "display_data"
    }
   ],
   "source": [
    "plot(df$개봉편수분의관객수,df$누적관객수)"
   ]
  },
  {
   "cell_type": "code",
   "execution_count": null,
   "id": "45bf9f24",
   "metadata": {},
   "outputs": [],
   "source": []
  }
 ],
 "metadata": {
  "kernelspec": {
   "display_name": "R",
   "language": "R",
   "name": "ir"
  },
  "language_info": {
   "codemirror_mode": "r",
   "file_extension": ".r",
   "mimetype": "text/x-r-source",
   "name": "R",
   "pygments_lexer": "r",
   "version": "3.6.1"
  }
 },
 "nbformat": 4,
 "nbformat_minor": 5
}

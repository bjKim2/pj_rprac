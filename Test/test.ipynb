{
 "cells": [
  {
   "cell_type": "code",
   "execution_count": 1,
   "id": "7f400bdb",
   "metadata": {},
   "outputs": [
    {
     "name": "stdout",
     "output_type": "stream",
     "text": [
      "[1] 0.034952901 0.702047789 0.258268948 0.004730361\n"
     ]
    }
   ],
   "source": [
    "# Required packages\n",
    "library(knitr)\n",
    "#--------------------------------------------------------------------\n",
    "# softmax function: Recursive formula\n",
    "#--------------------------------------------------------------------\n",
    "softmax <- function(par){\n",
    "  n.par <- length(par)\n",
    "  par1 <- sort(par, decreasing = TRUE)\n",
    "  Lk <- par1[1]\n",
    "  for (k in 1:(n.par-1)) {\n",
    "    Lk <- max(par1[k+1], Lk) + log1p(exp(-abs(par1[k+1] - Lk))) \n",
    "  }\n",
    "  val <- exp(par - Lk)\n",
    "  return(val)\n",
    "}\n",
    "\n",
    "# Example 1\n",
    "vec <- c(-1,2,1,-3)\n",
    "sm <- softmax(vec)\n",
    "print(sm)"
   ]
  },
  {
   "cell_type": "code",
   "execution_count": 12,
   "id": "d17dbb73",
   "metadata": {},
   "outputs": [
    {
     "name": "stdout",
     "output_type": "stream",
     "text": [
      "[1] 0.1748777 0.1748777 0.1748777 0.4753669\n"
     ]
    }
   ],
   "source": [
    "print(softmax(c(1,1,1,2)))"
   ]
  },
  {
   "cell_type": "code",
   "execution_count": null,
   "id": "9b0c64d2",
   "metadata": {},
   "outputs": [],
   "source": []
  }
 ],
 "metadata": {
  "kernelspec": {
   "display_name": "R",
   "language": "R",
   "name": "ir"
  },
  "language_info": {
   "codemirror_mode": "r",
   "file_extension": ".r",
   "mimetype": "text/x-r-source",
   "name": "R",
   "pygments_lexer": "r",
   "version": "3.6.1"
  }
 },
 "nbformat": 4,
 "nbformat_minor": 5
}

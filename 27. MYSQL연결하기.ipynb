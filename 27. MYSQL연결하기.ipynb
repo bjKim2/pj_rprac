{
 "cells": [
  {
   "cell_type": "markdown",
   "id": "7ca1de28",
   "metadata": {},
   "source": [
    "# Database Name : RSQL\n",
    "# Table Name : score\n",
    "- id, korean, english, mathematics\n",
    "\n",
    "- Anaconda Navigator\n",
    "- rJava,RMySQL 설치\n",
    "\n"
   ]
  },
  {
   "cell_type": "code",
   "execution_count": 92,
   "id": "9ceadae5",
   "metadata": {},
   "outputs": [],
   "source": [
    "library(RMySQL)"
   ]
  },
  {
   "cell_type": "code",
   "execution_count": 93,
   "id": "c7788c5e",
   "metadata": {},
   "outputs": [],
   "source": [
    "# DB Connection\n",
    "\n",
    "conn <- dbConnect(MySQL(),\n",
    "                  dbname = 'moviesTone',\n",
    "                  user = 'root',\n",
    "                  password = 'qwer1234',\n",
    "                  host = '127.0.0.1'\n",
    "                 )"
   ]
  },
  {
   "cell_type": "code",
   "execution_count": 94,
   "id": "5de4377c",
   "metadata": {},
   "outputs": [
    {
     "data": {
      "text/html": [
       "<ol class=list-inline>\n",
       "\t<li>'direct'</li>\n",
       "\t<li>'director'</li>\n",
       "\t<li>'director_actor'</li>\n",
       "\t<li>'distributor'</li>\n",
       "\t<li>'genre'</li>\n",
       "\t<li>'jo_actor'</li>\n",
       "\t<li>'jo_in'</li>\n",
       "\t<li>'ju_actor'</li>\n",
       "\t<li>'ju_in'</li>\n",
       "\t<li>'movie'</li>\n",
       "\t<li>'predict'</li>\n",
       "\t<li>'user'</li>\n",
       "\t<li>'year_screen'</li>\n",
       "</ol>\n"
      ],
      "text/latex": [
       "\\begin{enumerate*}\n",
       "\\item 'direct'\n",
       "\\item 'director'\n",
       "\\item 'director\\_actor'\n",
       "\\item 'distributor'\n",
       "\\item 'genre'\n",
       "\\item 'jo\\_actor'\n",
       "\\item 'jo\\_in'\n",
       "\\item 'ju\\_actor'\n",
       "\\item 'ju\\_in'\n",
       "\\item 'movie'\n",
       "\\item 'predict'\n",
       "\\item 'user'\n",
       "\\item 'year\\_screen'\n",
       "\\end{enumerate*}\n"
      ],
      "text/markdown": [
       "1. 'direct'\n",
       "2. 'director'\n",
       "3. 'director_actor'\n",
       "4. 'distributor'\n",
       "5. 'genre'\n",
       "6. 'jo_actor'\n",
       "7. 'jo_in'\n",
       "8. 'ju_actor'\n",
       "9. 'ju_in'\n",
       "10. 'movie'\n",
       "11. 'predict'\n",
       "12. 'user'\n",
       "13. 'year_screen'\n",
       "\n",
       "\n"
      ],
      "text/plain": [
       " [1] \"direct\"         \"director\"       \"director_actor\" \"distributor\"   \n",
       " [5] \"genre\"          \"jo_actor\"       \"jo_in\"          \"ju_actor\"      \n",
       " [9] \"ju_in\"          \"movie\"          \"predict\"        \"user\"          \n",
       "[13] \"year_screen\"   "
      ]
     },
     "metadata": {},
     "output_type": "display_data"
    }
   ],
   "source": [
    "# 테이블 목록\n",
    "dbListTables(conn)"
   ]
  },
  {
   "cell_type": "code",
   "execution_count": 95,
   "id": "488b1b7b",
   "metadata": {},
   "outputs": [
    {
     "data": {
      "text/html": [
       "<ol class=list-inline>\n",
       "\t<li>'ju_actor_id'</li>\n",
       "\t<li>'ju_actor_name'</li>\n",
       "\t<li>'ju_actor_score'</li>\n",
       "</ol>\n"
      ],
      "text/latex": [
       "\\begin{enumerate*}\n",
       "\\item 'ju\\_actor\\_id'\n",
       "\\item 'ju\\_actor\\_name'\n",
       "\\item 'ju\\_actor\\_score'\n",
       "\\end{enumerate*}\n"
      ],
      "text/markdown": [
       "1. 'ju_actor_id'\n",
       "2. 'ju_actor_name'\n",
       "3. 'ju_actor_score'\n",
       "\n",
       "\n"
      ],
      "text/plain": [
       "[1] \"ju_actor_id\"    \"ju_actor_name\"  \"ju_actor_score\""
      ]
     },
     "metadata": {},
     "output_type": "display_data"
    }
   ],
   "source": [
    "# 테이블의 컬럼 목록\n",
    "dbListFields(conn, 'ju_actor')"
   ]
  },
  {
   "cell_type": "code",
   "execution_count": 96,
   "id": "35d8f128",
   "metadata": {},
   "outputs": [
    {
     "data": {
      "text/html": [
       "<table>\n",
       "<thead><tr><th scope=col>count(*)</th></tr></thead>\n",
       "<tbody>\n",
       "\t<tr><td>0</td></tr>\n",
       "</tbody>\n",
       "</table>\n"
      ],
      "text/latex": [
       "\\begin{tabular}{r|l}\n",
       " count(*)\\\\\n",
       "\\hline\n",
       "\t 0\\\\\n",
       "\\end{tabular}\n"
      ],
      "text/markdown": [
       "\n",
       "| count(*) |\n",
       "|---|\n",
       "| 0 |\n",
       "\n"
      ],
      "text/plain": [
       "  count(*)\n",
       "1 0       "
      ]
     },
     "metadata": {},
     "output_type": "display_data"
    }
   ],
   "source": [
    "# Select\n",
    "dbGetQuery(conn, 'select count(*) from ju_actor')"
   ]
  },
  {
   "cell_type": "code",
   "execution_count": 97,
   "id": "4bb03108",
   "metadata": {},
   "outputs": [
    {
     "data": {
      "text/html": [
       "<table>\n",
       "<thead><tr><th scope=col>ju_actor_id</th><th scope=col>ju_actor_name</th><th scope=col>ju_actor_score</th></tr></thead>\n",
       "<tbody>\n",
       "</tbody>\n",
       "</table>\n"
      ],
      "text/latex": [
       "\\begin{tabular}{r|lll}\n",
       " ju\\_actor\\_id & ju\\_actor\\_name & ju\\_actor\\_score\\\\\n",
       "\\hline\n",
       "\\end{tabular}\n"
      ],
      "text/markdown": [
       "\n",
       "| ju_actor_id | ju_actor_name | ju_actor_score |\n",
       "|---|---|---|\n",
       "\n"
      ],
      "text/plain": [
       "     ju_actor_id ju_actor_name ju_actor_score"
      ]
     },
     "metadata": {},
     "output_type": "display_data"
    }
   ],
   "source": [
    "dbGetQuery(conn, 'select * from ju_actor')"
   ]
  },
  {
   "cell_type": "code",
   "execution_count": 98,
   "id": "5a0fd3c1",
   "metadata": {},
   "outputs": [],
   "source": [
    "ju <- read.csv(\"./movies2/actor_score_ver3.csv\",stringsAsFactors = F)\n",
    "jo <- read.csv(\"./movies2/jo_score_ver2.csv\",stringsAsFactors = F)"
   ]
  },
  {
   "cell_type": "code",
   "execution_count": 99,
   "id": "51b6276e",
   "metadata": {},
   "outputs": [
    {
     "data": {
      "text/html": [
       "<table>\n",
       "<thead><tr><th scope=col>주연</th><th scope=col>횟수</th><th scope=col>점수</th><th scope=col>평균점수</th></tr></thead>\n",
       "<tbody>\n",
       "\t<tr><td>하정우  </td><td>15      </td><td>50      </td><td>3.333333</td></tr>\n",
       "\t<tr><td>송강호  </td><td>11      </td><td>42      </td><td>3.818182</td></tr>\n",
       "</tbody>\n",
       "</table>\n"
      ],
      "text/latex": [
       "\\begin{tabular}{r|llll}\n",
       " 주연 & 횟수 & 점수 & 평균점수\\\\\n",
       "\\hline\n",
       "\t 하정우   & 15       & 50       & 3.333333\\\\\n",
       "\t 송강호   & 11       & 42       & 3.818182\\\\\n",
       "\\end{tabular}\n"
      ],
      "text/markdown": [
       "\n",
       "| 주연 | 횟수 | 점수 | 평균점수 |\n",
       "|---|---|---|---|\n",
       "| 하정우   | 15       | 50       | 3.333333 |\n",
       "| 송강호   | 11       | 42       | 3.818182 |\n",
       "\n"
      ],
      "text/plain": [
       "  주연   횟수 점수 평균점수\n",
       "1 하정우 15   50   3.333333\n",
       "2 송강호 11   42   3.818182"
      ]
     },
     "metadata": {},
     "output_type": "display_data"
    }
   ],
   "source": [
    "head(ju,2)"
   ]
  },
  {
   "cell_type": "code",
   "execution_count": 100,
   "id": "87ea1d73",
   "metadata": {},
   "outputs": [
    {
     "data": {
      "text/html": [
       "'a 1 b'"
      ],
      "text/latex": [
       "'a 1 b'"
      ],
      "text/markdown": [
       "'a 1 b'"
      ],
      "text/plain": [
       "[1] \"a 1 b\""
      ]
     },
     "metadata": {},
     "output_type": "display_data"
    }
   ],
   "source": [
    "paste('a',1,'b')"
   ]
  },
  {
   "cell_type": "code",
   "execution_count": 101,
   "id": "a35d8d9a",
   "metadata": {},
   "outputs": [],
   "source": [
    "for(i in 1:nrow(ju)){\n",
    "    str1 = paste('insert into ju_actor values (',i,',\\'',ju$주연[i],'\\',',ju$평균점수[i],')' , sep = '')\n",
    "    dbSendQuery(conn, str1)\n",
    "}\n"
   ]
  },
  {
   "cell_type": "code",
   "execution_count": 102,
   "id": "3db3c3f0",
   "metadata": {},
   "outputs": [],
   "source": [
    "for(i in 1:nrow(jo)){\n",
    "    str1 = paste('insert into jo_actor values (',i,',\\'',jo$조연[i],'\\',',jo$평균점수[i],')' , sep = '')\n",
    "    dbSendQuery(conn, str1)\n",
    "}\n"
   ]
  },
  {
   "cell_type": "code",
   "execution_count": 103,
   "id": "cecf0d3b",
   "metadata": {},
   "outputs": [],
   "source": [
    "diract<-read.csv(\"./movies/감독_배우_점수.csv\",stringsAsFactors = F)"
   ]
  },
  {
   "cell_type": "code",
   "execution_count": 104,
   "id": "386e93b8",
   "metadata": {},
   "outputs": [
    {
     "data": {
      "text/html": [
       "<table>\n",
       "<thead><tr><th scope=col>감독_배우</th><th scope=col>점수</th></tr></thead>\n",
       "<tbody>\n",
       "\t<tr><td>강우석_정재영</td><td>0            </td></tr>\n",
       "\t<tr><td>강우석_강신일</td><td>1            </td></tr>\n",
       "\t<tr><td>강우석_유해진</td><td>2            </td></tr>\n",
       "\t<tr><td>강우석_탁트인</td><td>1            </td></tr>\n",
       "\t<tr><td>강우석_이상현</td><td>1            </td></tr>\n",
       "\t<tr><td>강우석_김윤성</td><td>1            </td></tr>\n",
       "</tbody>\n",
       "</table>\n"
      ],
      "text/latex": [
       "\\begin{tabular}{r|ll}\n",
       " 감독\\_배우 & 점수\\\\\n",
       "\\hline\n",
       "\t 강우석\\_정재영 & 0              \\\\\n",
       "\t 강우석\\_강신일 & 1              \\\\\n",
       "\t 강우석\\_유해진 & 2              \\\\\n",
       "\t 강우석\\_탁트인 & 1              \\\\\n",
       "\t 강우석\\_이상현 & 1              \\\\\n",
       "\t 강우석\\_김윤성 & 1              \\\\\n",
       "\\end{tabular}\n"
      ],
      "text/markdown": [
       "\n",
       "| 감독_배우 | 점수 |\n",
       "|---|---|\n",
       "| 강우석_정재영 | 0             |\n",
       "| 강우석_강신일 | 1             |\n",
       "| 강우석_유해진 | 2             |\n",
       "| 강우석_탁트인 | 1             |\n",
       "| 강우석_이상현 | 1             |\n",
       "| 강우석_김윤성 | 1             |\n",
       "\n"
      ],
      "text/plain": [
       "  감독_배우     점수\n",
       "1 강우석_정재영 0   \n",
       "2 강우석_강신일 1   \n",
       "3 강우석_유해진 2   \n",
       "4 강우석_탁트인 1   \n",
       "5 강우석_이상현 1   \n",
       "6 강우석_김윤성 1   "
      ]
     },
     "metadata": {},
     "output_type": "display_data"
    }
   ],
   "source": [
    "head(diract)"
   ]
  },
  {
   "cell_type": "code",
   "execution_count": 105,
   "id": "ddcdef9d",
   "metadata": {},
   "outputs": [],
   "source": [
    "diract$감독 <- \"\"\n",
    "diract$배우 <- \"\""
   ]
  },
  {
   "cell_type": "code",
   "execution_count": 106,
   "id": "26b249ac",
   "metadata": {},
   "outputs": [],
   "source": [
    "for(i in 1:nrow(diract)){\n",
    "    diract$감독[i] <- unlist(strsplit(diract$감독_배우[i],\"_\"))[1]\n",
    "    diract$배우[i] <- unlist(strsplit(diract$감독_배우[i],\"_\"))[2]\n",
    "}    "
   ]
  },
  {
   "cell_type": "code",
   "execution_count": 107,
   "id": "bce1a7b1",
   "metadata": {},
   "outputs": [],
   "source": [
    "for(i in 1:nrow(diract)){\n",
    "    str1 = paste('insert into director_actor values (',i,',\\'',diract$배우[i] ,'\\',\\'',diract$감독[i],'\\',', diract$점수[i],')' , sep = '')\n",
    "    dbSendQuery(conn, str1)\n",
    "}\n"
   ]
  },
  {
   "cell_type": "code",
   "execution_count": 108,
   "id": "290f5d93",
   "metadata": {},
   "outputs": [],
   "source": [
    "df<-read.csv(\"./movies2/fortest5.csv\",stringsAsFactors = F)\n",
    "df2<- read.csv(\"./movies2/First_Price.csv\",stringsAsFactors = F)"
   ]
  },
  {
   "cell_type": "code",
   "execution_count": 109,
   "id": "9085cfca",
   "metadata": {},
   "outputs": [
    {
     "data": {
      "text/html": [
       "108"
      ],
      "text/latex": [
       "108"
      ],
      "text/markdown": [
       "108"
      ],
      "text/plain": [
       "[1] 108"
      ]
     },
     "metadata": {},
     "output_type": "display_data"
    }
   ],
   "source": [
    "nrow(df2)"
   ]
  },
  {
   "cell_type": "code",
   "execution_count": 110,
   "id": "33e7c866",
   "metadata": {},
   "outputs": [],
   "source": [
    "library(dplyr)"
   ]
  },
  {
   "cell_type": "code",
   "execution_count": 111,
   "id": "571e1833",
   "metadata": {},
   "outputs": [],
   "source": [
    "df2<-arrange(df2, 영화명)"
   ]
  },
  {
   "cell_type": "code",
   "execution_count": 112,
   "id": "6f5a08bb",
   "metadata": {},
   "outputs": [],
   "source": [
    "for(i in 1:nrow(df2)){\n",
    "    str1 = paste('insert into movie (movie_id,movie_name,movie_img) values (',i,',\\'',df2$영화명[i] ,'\\',\\'./movieposter/',df2$영화명[i],'.jpeg\\')', sep = '')\n",
    "    dbSendQuery(conn, str1)\n",
    "}"
   ]
  },
  {
   "cell_type": "code",
   "execution_count": 113,
   "id": "fa2806ca",
   "metadata": {},
   "outputs": [],
   "source": [
    "library(dplyr)"
   ]
  },
  {
   "cell_type": "code",
   "execution_count": 114,
   "id": "39cc917c",
   "metadata": {},
   "outputs": [
    {
     "data": {
      "text/html": [
       "<table>\n",
       "<thead><tr><th scope=col>영화명</th><th scope=col>누적매출액</th><th scope=col>누적관객수</th><th scope=col>스크린수</th><th scope=col>상영횟수</th><th scope=col>개봉일</th><th scope=col>배급사</th><th scope=col>등급</th><th scope=col>장르</th><th scope=col>감독</th><th scope=col>...</th><th scope=col>배우누적점수</th><th scope=col>배우점수</th><th scope=col>감독점수</th><th scope=col>장르_관객점수부여</th><th scope=col>휴일</th><th scope=col>X12세이상관람가</th><th scope=col>X15세이상관람가</th><th scope=col>전체관람가</th><th scope=col>청소년관람불가</th><th scope=col>배급사점수</th></tr></thead>\n",
       "<tbody>\n",
       "\t<tr><td>1987                   </td><td>58169776145            </td><td>7232387                </td><td>1299                   </td><td>138226                 </td><td>2017-12-27             </td><td>CJ ENM                 </td><td>15세이상관람가         </td><td>드라마                 </td><td>장준환                 </td><td>...                    </td><td>62.17949               </td><td>16                     </td><td>4                      </td><td>10                     </td><td>9                      </td><td>FALSE                  </td><td> TRUE                  </td><td>FALSE                  </td><td>FALSE                  </td><td>3                      </td></tr>\n",
       "\t<tr><td>7급 공무원             </td><td>26380710000            </td><td>4039891                </td><td> 475                   </td><td> 90779                 </td><td>2009-04-22             </td><td>(주)롯데엔터테인먼트   </td><td>12세이상관람가         </td><td>코미디,액션,드라마,범죄</td><td>신태라                 </td><td>...                    </td><td> 6.50000               </td><td> 4                     </td><td>3                      </td><td>10                     </td><td>9                      </td><td> TRUE                  </td><td>FALSE                  </td><td>FALSE                  </td><td>FALSE                  </td><td>2                      </td></tr>\n",
       "</tbody>\n",
       "</table>\n"
      ],
      "text/latex": [
       "\\begin{tabular}{r|llllllllllllllllllllllllllll}\n",
       " 영화명 & 누적매출액 & 누적관객수 & 스크린수 & 상영횟수 & 개봉일 & 배급사 & 등급 & 장르 & 감독 & ... & 배우누적점수 & 배우점수 & 감독점수 & 장르\\_관객점수부여 & 휴일 & X12세이상관람가 & X15세이상관람가 & 전체관람가 & 청소년관람불가 & 배급사점수\\\\\n",
       "\\hline\n",
       "\t 1987                    & 58169776145             & 7232387                 & 1299                    & 138226                  & 2017-12-27              & CJ ENM                  & 15세이상관람가          & 드라마                  & 장준환                  & ...                     & 62.17949                & 16                      & 4                       & 10                      & 9                       & FALSE                   &  TRUE                   & FALSE                   & FALSE                   & 3                      \\\\\n",
       "\t 7급 공무원              & 26380710000             & 4039891                 &  475                    &  90779                  & 2009-04-22              & (주)롯데엔터테인먼트    & 12세이상관람가          & 코미디,액션,드라마,범죄 & 신태라                  & ...                     &  6.50000                &  4                      & 3                       & 10                      & 9                       &  TRUE                   & FALSE                   & FALSE                   & FALSE                   & 2                      \\\\\n",
       "\\end{tabular}\n"
      ],
      "text/markdown": [
       "\n",
       "| 영화명 | 누적매출액 | 누적관객수 | 스크린수 | 상영횟수 | 개봉일 | 배급사 | 등급 | 장르 | 감독 | ... | 배우누적점수 | 배우점수 | 감독점수 | 장르_관객점수부여 | 휴일 | X12세이상관람가 | X15세이상관람가 | 전체관람가 | 청소년관람불가 | 배급사점수 |\n",
       "|---|---|---|---|---|---|---|---|---|---|---|---|---|---|---|---|---|---|---|---|---|\n",
       "| 1987                    | 58169776145             | 7232387                 | 1299                    | 138226                  | 2017-12-27              | CJ ENM                  | 15세이상관람가          | 드라마                  | 장준환                  | ...                     | 62.17949                | 16                      | 4                       | 10                      | 9                       | FALSE                   |  TRUE                   | FALSE                   | FALSE                   | 3                       |\n",
       "| 7급 공무원              | 26380710000             | 4039891                 |  475                    |  90779                  | 2009-04-22              | (주)롯데엔터테인먼트    | 12세이상관람가          | 코미디,액션,드라마,범죄 | 신태라                  | ...                     |  6.50000                |  4                      | 3                       | 10                      | 9                       |  TRUE                   | FALSE                   | FALSE                   | FALSE                   | 2                       |\n",
       "\n"
      ],
      "text/plain": [
       "  영화명     누적매출액  누적관객수 스크린수 상영횟수 개봉일    \n",
       "1 1987       58169776145 7232387    1299     138226   2017-12-27\n",
       "2 7급 공무원 26380710000 4039891     475      90779   2009-04-22\n",
       "  배급사               등급           장르                    감독   ...\n",
       "1 CJ ENM               15세이상관람가 드라마                  장준환 ...\n",
       "2 (주)롯데엔터테인먼트 12세이상관람가 코미디,액션,드라마,범죄 신태라 ...\n",
       "  배우누적점수 배우점수 감독점수 장르_관객점수부여 휴일 X12세이상관람가\n",
       "1 62.17949     16       4        10                9    FALSE          \n",
       "2  6.50000      4       3        10                9     TRUE          \n",
       "  X15세이상관람가 전체관람가 청소년관람불가 배급사점수\n",
       "1  TRUE           FALSE      FALSE          3         \n",
       "2 FALSE           FALSE      FALSE          2         "
      ]
     },
     "metadata": {},
     "output_type": "display_data"
    }
   ],
   "source": [
    "head(df2,2)"
   ]
  },
  {
   "cell_type": "code",
   "execution_count": 115,
   "id": "74883bb7",
   "metadata": {},
   "outputs": [
    {
     "data": {
      "text/html": [
       "<table>\n",
       "<thead><tr><th scope=col>주연</th><th scope=col>횟수</th><th scope=col>점수</th><th scope=col>평균점수</th></tr></thead>\n",
       "<tbody>\n",
       "\t<tr><td>하정우  </td><td>15      </td><td>50      </td><td>3.333333</td></tr>\n",
       "\t<tr><td>송강호  </td><td>11      </td><td>42      </td><td>3.818182</td></tr>\n",
       "</tbody>\n",
       "</table>\n"
      ],
      "text/latex": [
       "\\begin{tabular}{r|llll}\n",
       " 주연 & 횟수 & 점수 & 평균점수\\\\\n",
       "\\hline\n",
       "\t 하정우   & 15       & 50       & 3.333333\\\\\n",
       "\t 송강호   & 11       & 42       & 3.818182\\\\\n",
       "\\end{tabular}\n"
      ],
      "text/markdown": [
       "\n",
       "| 주연 | 횟수 | 점수 | 평균점수 |\n",
       "|---|---|---|---|\n",
       "| 하정우   | 15       | 50       | 3.333333 |\n",
       "| 송강호   | 11       | 42       | 3.818182 |\n",
       "\n"
      ],
      "text/plain": [
       "  주연   횟수 점수 평균점수\n",
       "1 하정우 15   50   3.333333\n",
       "2 송강호 11   42   3.818182"
      ]
     },
     "metadata": {},
     "output_type": "display_data"
    }
   ],
   "source": [
    "head(ju,2)"
   ]
  },
  {
   "cell_type": "code",
   "execution_count": 116,
   "id": "4e0b1330",
   "metadata": {},
   "outputs": [],
   "source": [
    "ju2 <- ju"
   ]
  },
  {
   "cell_type": "code",
   "execution_count": 117,
   "id": "54ea56b4",
   "metadata": {},
   "outputs": [],
   "source": [
    "x<- c()\n",
    "\n",
    "for(i in 1:nrow(ju)){\n",
    "    for(j in 1:nrow(df2)){\n",
    "        if(ju$주연[i] %in% unlist(strsplit(df2$주연[j],\",\"))){\n",
    "            temp <- data.frame(ju_id = i, m_id = j)\n",
    "            x<-rbind(x,temp)\n",
    "        }\n",
    "    }\n",
    "}"
   ]
  },
  {
   "cell_type": "code",
   "execution_count": 122,
   "id": "5e4622fb",
   "metadata": {},
   "outputs": [
    {
     "data": {
      "text/html": [
       "<table>\n",
       "<thead><tr><th scope=col>ju_id</th><th scope=col>m_id</th></tr></thead>\n",
       "<tbody>\n",
       "\t<tr><td>1 </td><td> 1</td></tr>\n",
       "\t<tr><td>1 </td><td>19</td></tr>\n",
       "\t<tr><td>1 </td><td>21</td></tr>\n",
       "</tbody>\n",
       "</table>\n"
      ],
      "text/latex": [
       "\\begin{tabular}{r|ll}\n",
       " ju\\_id & m\\_id\\\\\n",
       "\\hline\n",
       "\t 1  &  1\\\\\n",
       "\t 1  & 19\\\\\n",
       "\t 1  & 21\\\\\n",
       "\\end{tabular}\n"
      ],
      "text/markdown": [
       "\n",
       "| ju_id | m_id |\n",
       "|---|---|\n",
       "| 1  |  1 |\n",
       "| 1  | 19 |\n",
       "| 1  | 21 |\n",
       "\n"
      ],
      "text/plain": [
       "  ju_id m_id\n",
       "1 1      1  \n",
       "2 1     19  \n",
       "3 1     21  "
      ]
     },
     "metadata": {},
     "output_type": "display_data"
    }
   ],
   "source": [
    "head(x,3)"
   ]
  },
  {
   "cell_type": "code",
   "execution_count": 123,
   "id": "bc44ec6f",
   "metadata": {},
   "outputs": [],
   "source": [
    "for(i in 1:nrow(x)){\n",
    "    str1 = paste('insert into ju_in values (',x$ju_id[i],',',x$m_id[i],')', sep = '')\n",
    "    dbSendQuery(conn, str1)\n",
    "}"
   ]
  },
  {
   "cell_type": "code",
   "execution_count": 126,
   "id": "e3e34a22",
   "metadata": {},
   "outputs": [],
   "source": [
    "x<- c()\n",
    "\n",
    "for(i in 1:nrow(jo)){\n",
    "    for(j in 1:nrow(df2)){\n",
    "        if(jo$조연[i] %in% unlist(strsplit(df2$조연[j],\",\"))){\n",
    "            temp <- data.frame(jo_id = i, m_id = j)\n",
    "            x<-rbind(x,temp)\n",
    "        }\n",
    "    }\n",
    "}"
   ]
  },
  {
   "cell_type": "code",
   "execution_count": 127,
   "id": "87942548",
   "metadata": {},
   "outputs": [],
   "source": [
    "for(i in 1:nrow(x)){\n",
    "    str1 = paste('insert into jo_in values (',x$jo_id[i],',',x$m_id[i],')', sep = '')\n",
    "    dbSendQuery(conn, str1)\n",
    "}"
   ]
  },
  {
   "cell_type": "code",
   "execution_count": 128,
   "id": "3f4463ae",
   "metadata": {},
   "outputs": [],
   "source": [
    "dir1 <- read.csv(\"./movie3/director_score_db.csv\")"
   ]
  },
  {
   "cell_type": "code",
   "execution_count": 130,
   "id": "b2248b3c",
   "metadata": {},
   "outputs": [
    {
     "data": {
      "text/html": [
       "<table>\n",
       "<thead><tr><th scope=col>감독</th><th scope=col>점수</th></tr></thead>\n",
       "<tbody>\n",
       "\t<tr><td>김용화</td><td>52    </td></tr>\n",
       "\t<tr><td>최동훈</td><td>50    </td></tr>\n",
       "</tbody>\n",
       "</table>\n"
      ],
      "text/latex": [
       "\\begin{tabular}{r|ll}\n",
       " 감독 & 점수\\\\\n",
       "\\hline\n",
       "\t 김용화 & 52    \\\\\n",
       "\t 최동훈 & 50    \\\\\n",
       "\\end{tabular}\n"
      ],
      "text/markdown": [
       "\n",
       "| 감독 | 점수 |\n",
       "|---|---|\n",
       "| 김용화 | 52     |\n",
       "| 최동훈 | 50     |\n",
       "\n"
      ],
      "text/plain": [
       "  감독   점수\n",
       "1 김용화 52  \n",
       "2 최동훈 50  "
      ]
     },
     "metadata": {},
     "output_type": "display_data"
    }
   ],
   "source": [
    "head(dir1,2)"
   ]
  },
  {
   "cell_type": "code",
   "execution_count": 131,
   "id": "af725bee",
   "metadata": {},
   "outputs": [],
   "source": [
    "for(i in 1:nrow(dir1)){\n",
    "    str1 = paste('insert into director values (',i,',\\'',dir1$감독[i],'\\',',dir1$점수[i],')', sep = '')\n",
    "    dbSendQuery(conn, str1)\n",
    "}"
   ]
  },
  {
   "cell_type": "code",
   "execution_count": 134,
   "id": "3e946db0",
   "metadata": {},
   "outputs": [],
   "source": [
    "dis <- read.csv(\"./movie3/distributor_score_db.csv\",stringsAsFactors = F)\n"
   ]
  },
  {
   "cell_type": "code",
   "execution_count": 136,
   "id": "a75abb84",
   "metadata": {},
   "outputs": [
    {
     "data": {
      "text/html": [
       "<table>\n",
       "<thead><tr><th scope=col>distributor</th><th scope=col>점수</th></tr></thead>\n",
       "<tbody>\n",
       "\t<tr><td>(주)넥스트엔터테인먼트월드(NEW)</td><td>2                              </td></tr>\n",
       "\t<tr><td>(주)롯데엔터테인먼트           </td><td>2                              </td></tr>\n",
       "\t<tr><td>(주)쇼박스                     </td><td>3                              </td></tr>\n",
       "\t<tr><td>(주)시네마서비스               </td><td>1                              </td></tr>\n",
       "\t<tr><td>(주)싸이더스                   </td><td>1                              </td></tr>\n",
       "\t<tr><td>(주)에이스메이커무비웍스       </td><td>1                              </td></tr>\n",
       "</tbody>\n",
       "</table>\n"
      ],
      "text/latex": [
       "\\begin{tabular}{r|ll}\n",
       " distributor & 점수\\\\\n",
       "\\hline\n",
       "\t (주)넥스트엔터테인먼트월드(NEW) & 2                              \\\\\n",
       "\t (주)롯데엔터테인먼트            & 2                              \\\\\n",
       "\t (주)쇼박스                      & 3                              \\\\\n",
       "\t (주)시네마서비스                & 1                              \\\\\n",
       "\t (주)싸이더스                    & 1                              \\\\\n",
       "\t (주)에이스메이커무비웍스        & 1                              \\\\\n",
       "\\end{tabular}\n"
      ],
      "text/markdown": [
       "\n",
       "| distributor | 점수 |\n",
       "|---|---|\n",
       "| (주)넥스트엔터테인먼트월드(NEW) | 2                               |\n",
       "| (주)롯데엔터테인먼트            | 2                               |\n",
       "| (주)쇼박스                      | 3                               |\n",
       "| (주)시네마서비스                | 1                               |\n",
       "| (주)싸이더스                    | 1                               |\n",
       "| (주)에이스메이커무비웍스        | 1                               |\n",
       "\n"
      ],
      "text/plain": [
       "  distributor                     점수\n",
       "1 (주)넥스트엔터테인먼트월드(NEW) 2   \n",
       "2 (주)롯데엔터테인먼트            2   \n",
       "3 (주)쇼박스                      3   \n",
       "4 (주)시네마서비스                1   \n",
       "5 (주)싸이더스                    1   \n",
       "6 (주)에이스메이커무비웍스        1   "
      ]
     },
     "metadata": {},
     "output_type": "display_data"
    }
   ],
   "source": [
    "head(dis,6)"
   ]
  },
  {
   "cell_type": "code",
   "execution_count": 139,
   "id": "e83341df",
   "metadata": {},
   "outputs": [],
   "source": [
    "for(i in 1:nrow(dis)){\n",
    "    str1 = paste('insert into distributor values (',i,',\\'',dis$distributor[i],'\\',',dis$점수[i],')', sep = '')\n",
    "    dbSendQuery(conn, str1)\n",
    "}"
   ]
  },
  {
   "cell_type": "code",
   "execution_count": 140,
   "id": "9d3af5e0",
   "metadata": {},
   "outputs": [],
   "source": [
    "genre <- read.csv(\"./movie3/genre_score_db.csv\",stringsAsFactors = F)\n"
   ]
  },
  {
   "cell_type": "code",
   "execution_count": 141,
   "id": "792c83f4",
   "metadata": {},
   "outputs": [
    {
     "data": {
      "text/html": [
       "<table>\n",
       "<thead><tr><th scope=col>장르</th><th scope=col>장르점수</th></tr></thead>\n",
       "<tbody>\n",
       "\t<tr><td>공포(호러)</td><td>10        </td></tr>\n",
       "\t<tr><td>스릴러    </td><td>10        </td></tr>\n",
       "</tbody>\n",
       "</table>\n"
      ],
      "text/latex": [
       "\\begin{tabular}{r|ll}\n",
       " 장르 & 장르점수\\\\\n",
       "\\hline\n",
       "\t 공포(호러) & 10        \\\\\n",
       "\t 스릴러     & 10        \\\\\n",
       "\\end{tabular}\n"
      ],
      "text/markdown": [
       "\n",
       "| 장르 | 장르점수 |\n",
       "|---|---|\n",
       "| 공포(호러) | 10         |\n",
       "| 스릴러     | 10         |\n",
       "\n"
      ],
      "text/plain": [
       "  장르       장르점수\n",
       "1 공포(호러) 10      \n",
       "2 스릴러     10      "
      ]
     },
     "metadata": {},
     "output_type": "display_data"
    }
   ],
   "source": [
    "head(genre,2)"
   ]
  },
  {
   "cell_type": "code",
   "execution_count": 142,
   "id": "01550577",
   "metadata": {},
   "outputs": [],
   "source": [
    "for(i in 1:nrow(genre)){\n",
    "    str1 = paste('insert into genre values (',i,',\\'',genre$장르[i],'\\',',genre$장르점수[i],')', sep = '')\n",
    "    dbSendQuery(conn, str1)\n",
    "}"
   ]
  },
  {
   "cell_type": "code",
   "execution_count": 143,
   "id": "1932e142",
   "metadata": {},
   "outputs": [],
   "source": [
    "year <- read.csv(\"./movie3/year_screen_db.csv\",stringsAsFactors = F)\n"
   ]
  },
  {
   "cell_type": "code",
   "execution_count": 145,
   "id": "a11b2a2e",
   "metadata": {},
   "outputs": [
    {
     "data": {
      "text/html": [
       "<table>\n",
       "<thead><tr><th scope=col>년도</th><th scope=col>스크린수</th></tr></thead>\n",
       "<tbody>\n",
       "\t<tr><td>2000</td><td>1200</td></tr>\n",
       "</tbody>\n",
       "</table>\n"
      ],
      "text/latex": [
       "\\begin{tabular}{r|ll}\n",
       " 년도 & 스크린수\\\\\n",
       "\\hline\n",
       "\t 2000 & 1200\\\\\n",
       "\\end{tabular}\n"
      ],
      "text/markdown": [
       "\n",
       "| 년도 | 스크린수 |\n",
       "|---|---|\n",
       "| 2000 | 1200 |\n",
       "\n"
      ],
      "text/plain": [
       "  년도 스크린수\n",
       "1 2000 1200    "
      ]
     },
     "metadata": {},
     "output_type": "display_data"
    }
   ],
   "source": [
    "head(year,1)"
   ]
  },
  {
   "cell_type": "code",
   "execution_count": null,
   "id": "56382b71",
   "metadata": {},
   "outputs": [],
   "source": []
  },
  {
   "cell_type": "code",
   "execution_count": 146,
   "id": "3cc13146",
   "metadata": {},
   "outputs": [],
   "source": [
    "for(i in 1:nrow(year)){\n",
    "    str1 = paste('insert into year_screen values (',year$년도[i],',',year$스크린수[i],')', sep = '')\n",
    "    dbSendQuery(conn, str1)\n",
    "}"
   ]
  },
  {
   "cell_type": "code",
   "execution_count": 148,
   "id": "4c6302c3",
   "metadata": {},
   "outputs": [
    {
     "data": {
      "text/html": [
       "<table>\n",
       "<thead><tr><th scope=col>감독</th><th scope=col>점수</th></tr></thead>\n",
       "<tbody>\n",
       "\t<tr><td>김용화</td><td>52    </td></tr>\n",
       "\t<tr><td>최동훈</td><td>50    </td></tr>\n",
       "</tbody>\n",
       "</table>\n"
      ],
      "text/latex": [
       "\\begin{tabular}{r|ll}\n",
       " 감독 & 점수\\\\\n",
       "\\hline\n",
       "\t 김용화 & 52    \\\\\n",
       "\t 최동훈 & 50    \\\\\n",
       "\\end{tabular}\n"
      ],
      "text/markdown": [
       "\n",
       "| 감독 | 점수 |\n",
       "|---|---|\n",
       "| 김용화 | 52     |\n",
       "| 최동훈 | 50     |\n",
       "\n"
      ],
      "text/plain": [
       "  감독   점수\n",
       "1 김용화 52  \n",
       "2 최동훈 50  "
      ]
     },
     "metadata": {},
     "output_type": "display_data"
    }
   ],
   "source": [
    "head(dir1,2)"
   ]
  },
  {
   "cell_type": "code",
   "execution_count": 149,
   "id": "2e547059",
   "metadata": {},
   "outputs": [],
   "source": [
    "x<- c()\n",
    "\n",
    "for(i in 1:nrow(dir1)){\n",
    "    for(j in 1:nrow(df2)){\n",
    "        if(dir1$감독[i] %in% unlist(strsplit(df2$감독[j],\",\"))){\n",
    "            temp <- data.frame(dir_id = i, m_id = j)\n",
    "            x<-rbind(x,temp)\n",
    "        }\n",
    "    }\n",
    "}"
   ]
  },
  {
   "cell_type": "code",
   "execution_count": 154,
   "id": "a6f5b9e1",
   "metadata": {},
   "outputs": [
    {
     "data": {
      "text/html": [
       "<table>\n",
       "<thead><tr><th></th><th scope=col>dir_id</th><th scope=col>m_id</th></tr></thead>\n",
       "<tbody>\n",
       "\t<tr><th scope=row>103</th><td>74 </td><td> 25</td></tr>\n",
       "\t<tr><th scope=row>104</th><td>75 </td><td> 38</td></tr>\n",
       "\t<tr><th scope=row>105</th><td>76 </td><td> 59</td></tr>\n",
       "\t<tr><th scope=row>106</th><td>77 </td><td> 60</td></tr>\n",
       "\t<tr><th scope=row>107</th><td>78 </td><td>103</td></tr>\n",
       "\t<tr><th scope=row>108</th><td>79 </td><td> 48</td></tr>\n",
       "</tbody>\n",
       "</table>\n"
      ],
      "text/latex": [
       "\\begin{tabular}{r|ll}\n",
       "  & dir\\_id & m\\_id\\\\\n",
       "\\hline\n",
       "\t103 & 74  &  25\\\\\n",
       "\t104 & 75  &  38\\\\\n",
       "\t105 & 76  &  59\\\\\n",
       "\t106 & 77  &  60\\\\\n",
       "\t107 & 78  & 103\\\\\n",
       "\t108 & 79  &  48\\\\\n",
       "\\end{tabular}\n"
      ],
      "text/markdown": [
       "\n",
       "| <!--/--> | dir_id | m_id |\n",
       "|---|---|---|\n",
       "| 103 | 74  |  25 |\n",
       "| 104 | 75  |  38 |\n",
       "| 105 | 76  |  59 |\n",
       "| 106 | 77  |  60 |\n",
       "| 107 | 78  | 103 |\n",
       "| 108 | 79  |  48 |\n",
       "\n"
      ],
      "text/plain": [
       "    dir_id m_id\n",
       "103 74      25 \n",
       "104 75      38 \n",
       "105 76      59 \n",
       "106 77      60 \n",
       "107 78     103 \n",
       "108 79      48 "
      ]
     },
     "metadata": {},
     "output_type": "display_data"
    }
   ],
   "source": [
    "tail(x)"
   ]
  },
  {
   "cell_type": "code",
   "execution_count": 153,
   "id": "ac7a9a0c",
   "metadata": {},
   "outputs": [],
   "source": [
    "for(i in 1:nrow(x)){\n",
    "    str1 = paste('insert into direct values (',x$m_id[i],',',x$dir_id[i],')', sep = '')\n",
    "    dbSendQuery(conn, str1)\n",
    "}"
   ]
  },
  {
   "cell_type": "code",
   "execution_count": null,
   "id": "e21a9650",
   "metadata": {},
   "outputs": [],
   "source": []
  },
  {
   "cell_type": "code",
   "execution_count": null,
   "id": "0555e4dc",
   "metadata": {},
   "outputs": [],
   "source": []
  },
  {
   "cell_type": "code",
   "execution_count": null,
   "id": "4314d3e6",
   "metadata": {},
   "outputs": [],
   "source": []
  },
  {
   "cell_type": "code",
   "execution_count": null,
   "id": "ae3cb4b8",
   "metadata": {},
   "outputs": [],
   "source": []
  },
  {
   "cell_type": "code",
   "execution_count": 52,
   "id": "b49c4f7d",
   "metadata": {},
   "outputs": [],
   "source": [
    "df5<-read.csv(\"./movies/movie2004_2019_ver1.csv\")"
   ]
  },
  {
   "cell_type": "code",
   "execution_count": 56,
   "id": "6d0423a6",
   "metadata": {},
   "outputs": [
    {
     "data": {
      "text/html": [
       "<table>\n",
       "<thead><tr><th></th><th scope=col>영화명</th><th scope=col>개봉일</th><th scope=col>매출액</th><th scope=col>매출액점유율</th><th scope=col>누적매출액</th><th scope=col>관객수</th><th scope=col>누적관객수</th><th scope=col>스크린수</th><th scope=col>상영횟수</th><th scope=col>대표국적</th><th scope=col>제작사</th><th scope=col>배급사</th><th scope=col>등급</th><th scope=col>장르</th><th scope=col>감독</th><th scope=col>배우</th></tr></thead>\n",
       "<tbody>\n",
       "\t<tr><th scope=row>219</th><td>한반도                </td><td>2006-07-13            </td><td>20597497600           </td><td>2                     </td><td>20597497600           </td><td>3331593               </td><td>3331593               </td><td>483                   </td><td>49539                 </td><td>한국                  </td><td>(주)시네마서비스글로벌</td><td>CJ ENM                </td><td>15세관람가            </td><td>드라마                </td><td>강우석                </td><td>조재현                </td></tr>\n",
       "</tbody>\n",
       "</table>\n"
      ],
      "text/latex": [
       "\\begin{tabular}{r|llllllllllllllll}\n",
       "  & 영화명 & 개봉일 & 매출액 & 매출액점유율 & 누적매출액 & 관객수 & 누적관객수 & 스크린수 & 상영횟수 & 대표국적 & 제작사 & 배급사 & 등급 & 장르 & 감독 & 배우\\\\\n",
       "\\hline\n",
       "\t219 & 한반도                 & 2006-07-13             & 20597497600            & 2                      & 20597497600            & 3331593                & 3331593                & 483                    & 49539                  & 한국                   & (주)시네마서비스글로벌 & CJ ENM                 & 15세관람가             & 드라마                 & 강우석                 & 조재현                \\\\\n",
       "\\end{tabular}\n"
      ],
      "text/markdown": [
       "\n",
       "| <!--/--> | 영화명 | 개봉일 | 매출액 | 매출액점유율 | 누적매출액 | 관객수 | 누적관객수 | 스크린수 | 상영횟수 | 대표국적 | 제작사 | 배급사 | 등급 | 장르 | 감독 | 배우 |\n",
       "|---|---|---|---|---|---|---|---|---|---|---|---|---|---|---|---|---|\n",
       "| 219 | 한반도                 | 2006-07-13             | 20597497600            | 2                      | 20597497600            | 3331593                | 3331593                | 483                    | 49539                  | 한국                   | (주)시네마서비스글로벌 | CJ ENM                 | 15세관람가             | 드라마                 | 강우석                 | 조재현                 |\n",
       "\n"
      ],
      "text/plain": [
       "    영화명 개봉일     매출액      매출액점유율 누적매출액  관객수  누적관객수\n",
       "219 한반도 2006-07-13 20597497600 2            20597497600 3331593 3331593   \n",
       "    스크린수 상영횟수 대표국적 제작사                 배급사 등급       장르  \n",
       "219 483      49539    한국     (주)시네마서비스글로벌 CJ ENM 15세관람가 드라마\n",
       "    감독   배우  \n",
       "219 강우석 조재현"
      ]
     },
     "metadata": {},
     "output_type": "display_data"
    }
   ],
   "source": [
    "df5[df5$영화명 == \"한반도\",]"
   ]
  },
  {
   "cell_type": "code",
   "execution_count": null,
   "id": "87794d63",
   "metadata": {},
   "outputs": [],
   "source": []
  },
  {
   "cell_type": "code",
   "execution_count": 8,
   "id": "c655fc17",
   "metadata": {},
   "outputs": [
    {
     "data": {
      "text/plain": [
       "<MySQLResult:1953391939,0,4>"
      ]
     },
     "metadata": {},
     "output_type": "display_data"
    },
    {
     "data": {
      "text/html": [
       "<table>\n",
       "<thead><tr><th scope=col>id</th><th scope=col>korean</th><th scope=col>english</th><th scope=col>mathematics</th></tr></thead>\n",
       "<tbody>\n",
       "\t<tr><td>1  </td><td>100</td><td>100</td><td>100</td></tr>\n",
       "</tbody>\n",
       "</table>\n"
      ],
      "text/latex": [
       "\\begin{tabular}{r|llll}\n",
       " id & korean & english & mathematics\\\\\n",
       "\\hline\n",
       "\t 1   & 100 & 100 & 100\\\\\n",
       "\\end{tabular}\n"
      ],
      "text/markdown": [
       "\n",
       "| id | korean | english | mathematics |\n",
       "|---|---|---|---|\n",
       "| 1   | 100 | 100 | 100 |\n",
       "\n"
      ],
      "text/plain": [
       "  id korean english mathematics\n",
       "1 1  100    100     100        "
      ]
     },
     "metadata": {},
     "output_type": "display_data"
    }
   ],
   "source": [
    "dbSendQuery(conn, 'insert into ju values (1,100,100,100)')\n",
    "\n",
    "result = dbGetQuery(conn, 'select * from score')\n",
    "result"
   ]
  },
  {
   "cell_type": "code",
   "execution_count": 9,
   "id": "06894690",
   "metadata": {},
   "outputs": [
    {
     "data": {
      "text/plain": [
       "<MySQLResult:1,0,6>"
      ]
     },
     "metadata": {},
     "output_type": "display_data"
    },
    {
     "data": {
      "text/html": [
       "<table>\n",
       "<thead><tr><th scope=col>id</th><th scope=col>korean</th><th scope=col>english</th><th scope=col>mathematics</th></tr></thead>\n",
       "<tbody>\n",
       "\t<tr><td>1  </td><td>100</td><td>100</td><td>100</td></tr>\n",
       "\t<tr><td>2  </td><td> 90</td><td> 90</td><td> 90</td></tr>\n",
       "</tbody>\n",
       "</table>\n"
      ],
      "text/latex": [
       "\\begin{tabular}{r|llll}\n",
       " id & korean & english & mathematics\\\\\n",
       "\\hline\n",
       "\t 1   & 100 & 100 & 100\\\\\n",
       "\t 2   &  90 &  90 &  90\\\\\n",
       "\\end{tabular}\n"
      ],
      "text/markdown": [
       "\n",
       "| id | korean | english | mathematics |\n",
       "|---|---|---|---|\n",
       "| 1   | 100 | 100 | 100 |\n",
       "| 2   |  90 |  90 |  90 |\n",
       "\n"
      ],
      "text/plain": [
       "  id korean english mathematics\n",
       "1 1  100    100     100        \n",
       "2 2   90     90      90        "
      ]
     },
     "metadata": {},
     "output_type": "display_data"
    }
   ],
   "source": [
    "dbSendQuery(conn, 'insert into score values (2,90,90,90)')\n",
    "\n",
    "result = dbGetQuery(conn, 'select * from score')\n",
    "result"
   ]
  },
  {
   "cell_type": "code",
   "execution_count": 11,
   "id": "8902ad21",
   "metadata": {},
   "outputs": [
    {
     "data": {
      "text/plain": [
       "<MySQLResult:-1075949280,0,8>"
      ]
     },
     "metadata": {},
     "output_type": "display_data"
    },
    {
     "data": {
      "text/html": [
       "<table>\n",
       "<thead><tr><th scope=col>id</th><th scope=col>korean</th><th scope=col>english</th><th scope=col>mathematics</th></tr></thead>\n",
       "<tbody>\n",
       "\t<tr><td>1  </td><td>100</td><td>100</td><td>100</td></tr>\n",
       "\t<tr><td>2  </td><td> 90</td><td> 80</td><td> 70</td></tr>\n",
       "</tbody>\n",
       "</table>\n"
      ],
      "text/latex": [
       "\\begin{tabular}{r|llll}\n",
       " id & korean & english & mathematics\\\\\n",
       "\\hline\n",
       "\t 1   & 100 & 100 & 100\\\\\n",
       "\t 2   &  90 &  80 &  70\\\\\n",
       "\\end{tabular}\n"
      ],
      "text/markdown": [
       "\n",
       "| id | korean | english | mathematics |\n",
       "|---|---|---|---|\n",
       "| 1   | 100 | 100 | 100 |\n",
       "| 2   |  90 |  80 |  70 |\n",
       "\n"
      ],
      "text/plain": [
       "  id korean english mathematics\n",
       "1 1  100    100     100        \n",
       "2 2   90     80      70        "
      ]
     },
     "metadata": {},
     "output_type": "display_data"
    }
   ],
   "source": [
    "# Update\n",
    "dbSendQuery(conn, 'update score set korean = 90, english = 80, mathematics = 70 where id = 2')\n",
    "\n",
    "result = dbGetQuery(conn, 'select * from score')\n",
    "result"
   ]
  },
  {
   "cell_type": "code",
   "execution_count": 13,
   "id": "f579ad3d",
   "metadata": {},
   "outputs": [
    {
     "data": {
      "text/plain": [
       "<MySQLResult:-1098835400,0,12>"
      ]
     },
     "metadata": {},
     "output_type": "display_data"
    },
    {
     "data": {
      "text/html": [
       "<table>\n",
       "<thead><tr><th scope=col>id</th><th scope=col>korean</th><th scope=col>english</th><th scope=col>mathematics</th></tr></thead>\n",
       "<tbody>\n",
       "</tbody>\n",
       "</table>\n"
      ],
      "text/latex": [
       "\\begin{tabular}{r|llll}\n",
       " id & korean & english & mathematics\\\\\n",
       "\\hline\n",
       "\\end{tabular}\n"
      ],
      "text/markdown": [
       "\n",
       "| id | korean | english | mathematics |\n",
       "|---|---|---|---|\n",
       "\n"
      ],
      "text/plain": [
       "     id korean english mathematics"
      ]
     },
     "metadata": {},
     "output_type": "display_data"
    }
   ],
   "source": [
    "dbSendQuery(conn, 'delete from score')\n",
    "\n",
    "result = dbGetQuery(conn, 'select * from score')\n",
    "result"
   ]
  },
  {
   "cell_type": "code",
   "execution_count": 26,
   "id": "81de3055",
   "metadata": {},
   "outputs": [
    {
     "data": {
      "text/html": [
       "<table>\n",
       "<thead><tr><th scope=col>id</th><th scope=col>korean</th><th scope=col>english</th><th scope=col>mathmatics</th></tr></thead>\n",
       "<tbody>\n",
       "\t<tr><td> 1 </td><td> 90</td><td> 80</td><td> 70</td></tr>\n",
       "\t<tr><td> 2 </td><td> 90</td><td> 88</td><td> 70</td></tr>\n",
       "\t<tr><td> 3 </td><td> 90</td><td> 89</td><td> 70</td></tr>\n",
       "\t<tr><td> 4 </td><td> 90</td><td> 87</td><td> 70</td></tr>\n",
       "\t<tr><td> 5 </td><td> 90</td><td> 60</td><td> 70</td></tr>\n",
       "\t<tr><td> 6 </td><td>100</td><td>100</td><td>100</td></tr>\n",
       "\t<tr><td> 7 </td><td>100</td><td>100</td><td>100</td></tr>\n",
       "\t<tr><td> 8 </td><td>100</td><td>100</td><td>100</td></tr>\n",
       "\t<tr><td> 9 </td><td>100</td><td>100</td><td>100</td></tr>\n",
       "\t<tr><td>10 </td><td>100</td><td>100</td><td>100</td></tr>\n",
       "</tbody>\n",
       "</table>\n"
      ],
      "text/latex": [
       "\\begin{tabular}{r|llll}\n",
       " id & korean & english & mathmatics\\\\\n",
       "\\hline\n",
       "\t  1  &  90 &  80 &  70\\\\\n",
       "\t  2  &  90 &  88 &  70\\\\\n",
       "\t  3  &  90 &  89 &  70\\\\\n",
       "\t  4  &  90 &  87 &  70\\\\\n",
       "\t  5  &  90 &  60 &  70\\\\\n",
       "\t  6  & 100 & 100 & 100\\\\\n",
       "\t  7  & 100 & 100 & 100\\\\\n",
       "\t  8  & 100 & 100 & 100\\\\\n",
       "\t  9  & 100 & 100 & 100\\\\\n",
       "\t 10  & 100 & 100 & 100\\\\\n",
       "\\end{tabular}\n"
      ],
      "text/markdown": [
       "\n",
       "| id | korean | english | mathmatics |\n",
       "|---|---|---|---|\n",
       "|  1  |  90 |  80 |  70 |\n",
       "|  2  |  90 |  88 |  70 |\n",
       "|  3  |  90 |  89 |  70 |\n",
       "|  4  |  90 |  87 |  70 |\n",
       "|  5  |  90 |  60 |  70 |\n",
       "|  6  | 100 | 100 | 100 |\n",
       "|  7  | 100 | 100 | 100 |\n",
       "|  8  | 100 | 100 | 100 |\n",
       "|  9  | 100 | 100 | 100 |\n",
       "| 10  | 100 | 100 | 100 |\n",
       "\n"
      ],
      "text/plain": [
       "   id korean english mathmatics\n",
       "1   1  90     80      70       \n",
       "2   2  90     88      70       \n",
       "3   3  90     89      70       \n",
       "4   4  90     87      70       \n",
       "5   5  90     60      70       \n",
       "6   6 100    100     100       \n",
       "7   7 100    100     100       \n",
       "8   8 100    100     100       \n",
       "9   9 100    100     100       \n",
       "10 10 100    100     100       "
      ]
     },
     "metadata": {},
     "output_type": "display_data"
    }
   ],
   "source": [
    "# csv file을 읽어서 MySQL에 넣기\n",
    "data <- read.csv(\"../Data/score.csv\",header=F)\n",
    "colnames(data) = c(\"id\",\"korean\",\"english\",\"mathmatics\")\n",
    "data"
   ]
  },
  {
   "cell_type": "code",
   "execution_count": 27,
   "id": "005217fa",
   "metadata": {},
   "outputs": [
    {
     "data": {
      "text/html": [
       "TRUE"
      ],
      "text/latex": [
       "TRUE"
      ],
      "text/markdown": [
       "TRUE"
      ],
      "text/plain": [
       "[1] TRUE"
      ]
     },
     "metadata": {},
     "output_type": "display_data"
    }
   ],
   "source": [
    "dbWriteTable(conn, \"score\", data, overwrite =T, row.names = F) # append=T(overwrite 안쓸시에 추가 넣는 방식)"
   ]
  },
  {
   "cell_type": "code",
   "execution_count": 28,
   "id": "c21878c3",
   "metadata": {},
   "outputs": [
    {
     "data": {
      "text/html": [
       "<table>\n",
       "<thead><tr><th scope=col>id</th><th scope=col>korean</th><th scope=col>english</th><th scope=col>mathmatics</th></tr></thead>\n",
       "<tbody>\n",
       "\t<tr><td>11</td><td>90</td><td>80</td><td>70</td></tr>\n",
       "\t<tr><td>12</td><td>90</td><td>88</td><td>70</td></tr>\n",
       "</tbody>\n",
       "</table>\n"
      ],
      "text/latex": [
       "\\begin{tabular}{r|llll}\n",
       " id & korean & english & mathmatics\\\\\n",
       "\\hline\n",
       "\t 11 & 90 & 80 & 70\\\\\n",
       "\t 12 & 90 & 88 & 70\\\\\n",
       "\\end{tabular}\n"
      ],
      "text/markdown": [
       "\n",
       "| id | korean | english | mathmatics |\n",
       "|---|---|---|---|\n",
       "| 11 | 90 | 80 | 70 |\n",
       "| 12 | 90 | 88 | 70 |\n",
       "\n"
      ],
      "text/plain": [
       "  id korean english mathmatics\n",
       "1 11 90     80      70        \n",
       "2 12 90     88      70        "
      ]
     },
     "metadata": {},
     "output_type": "display_data"
    }
   ],
   "source": [
    "data2 <- read.csv(\"../Data/score2.csv\",header=F)\n",
    "colnames(data2) = c(\"id\",\"korean\",\"english\",\"mathmatics\")\n",
    "data2"
   ]
  },
  {
   "cell_type": "code",
   "execution_count": 29,
   "id": "ee3e8bcf",
   "metadata": {},
   "outputs": [
    {
     "data": {
      "text/html": [
       "TRUE"
      ],
      "text/latex": [
       "TRUE"
      ],
      "text/markdown": [
       "TRUE"
      ],
      "text/plain": [
       "[1] TRUE"
      ]
     },
     "metadata": {},
     "output_type": "display_data"
    }
   ],
   "source": [
    "dbWriteTable(conn, \"score\", data2,append =T, row.names = F)"
   ]
  },
  {
   "cell_type": "code",
   "execution_count": 30,
   "id": "e507e8f6",
   "metadata": {},
   "outputs": [
    {
     "data": {
      "text/html": [
       "<table>\n",
       "<thead><tr><th scope=col>id</th><th scope=col>korean</th><th scope=col>english</th><th scope=col>mathmatics</th></tr></thead>\n",
       "<tbody>\n",
       "\t<tr><td> 1 </td><td> 90</td><td> 80</td><td> 70</td></tr>\n",
       "\t<tr><td> 2 </td><td> 90</td><td> 88</td><td> 70</td></tr>\n",
       "\t<tr><td> 3 </td><td> 90</td><td> 89</td><td> 70</td></tr>\n",
       "\t<tr><td> 4 </td><td> 90</td><td> 87</td><td> 70</td></tr>\n",
       "\t<tr><td> 5 </td><td> 90</td><td> 60</td><td> 70</td></tr>\n",
       "\t<tr><td> 6 </td><td>100</td><td>100</td><td>100</td></tr>\n",
       "\t<tr><td> 7 </td><td>100</td><td>100</td><td>100</td></tr>\n",
       "\t<tr><td> 8 </td><td>100</td><td>100</td><td>100</td></tr>\n",
       "\t<tr><td> 9 </td><td>100</td><td>100</td><td>100</td></tr>\n",
       "\t<tr><td>10 </td><td>100</td><td>100</td><td>100</td></tr>\n",
       "\t<tr><td>11 </td><td> 90</td><td> 80</td><td> 70</td></tr>\n",
       "\t<tr><td>12 </td><td> 90</td><td> 88</td><td> 70</td></tr>\n",
       "</tbody>\n",
       "</table>\n"
      ],
      "text/latex": [
       "\\begin{tabular}{r|llll}\n",
       " id & korean & english & mathmatics\\\\\n",
       "\\hline\n",
       "\t  1  &  90 &  80 &  70\\\\\n",
       "\t  2  &  90 &  88 &  70\\\\\n",
       "\t  3  &  90 &  89 &  70\\\\\n",
       "\t  4  &  90 &  87 &  70\\\\\n",
       "\t  5  &  90 &  60 &  70\\\\\n",
       "\t  6  & 100 & 100 & 100\\\\\n",
       "\t  7  & 100 & 100 & 100\\\\\n",
       "\t  8  & 100 & 100 & 100\\\\\n",
       "\t  9  & 100 & 100 & 100\\\\\n",
       "\t 10  & 100 & 100 & 100\\\\\n",
       "\t 11  &  90 &  80 &  70\\\\\n",
       "\t 12  &  90 &  88 &  70\\\\\n",
       "\\end{tabular}\n"
      ],
      "text/markdown": [
       "\n",
       "| id | korean | english | mathmatics |\n",
       "|---|---|---|---|\n",
       "|  1  |  90 |  80 |  70 |\n",
       "|  2  |  90 |  88 |  70 |\n",
       "|  3  |  90 |  89 |  70 |\n",
       "|  4  |  90 |  87 |  70 |\n",
       "|  5  |  90 |  60 |  70 |\n",
       "|  6  | 100 | 100 | 100 |\n",
       "|  7  | 100 | 100 | 100 |\n",
       "|  8  | 100 | 100 | 100 |\n",
       "|  9  | 100 | 100 | 100 |\n",
       "| 10  | 100 | 100 | 100 |\n",
       "| 11  |  90 |  80 |  70 |\n",
       "| 12  |  90 |  88 |  70 |\n",
       "\n"
      ],
      "text/plain": [
       "   id korean english mathmatics\n",
       "1   1  90     80      70       \n",
       "2   2  90     88      70       \n",
       "3   3  90     89      70       \n",
       "4   4  90     87      70       \n",
       "5   5  90     60      70       \n",
       "6   6 100    100     100       \n",
       "7   7 100    100     100       \n",
       "8   8 100    100     100       \n",
       "9   9 100    100     100       \n",
       "10 10 100    100     100       \n",
       "11 11  90     80      70       \n",
       "12 12  90     88      70       "
      ]
     },
     "metadata": {},
     "output_type": "display_data"
    }
   ],
   "source": [
    "result = dbGetQuery(conn, 'select * from score')\n",
    "result"
   ]
  },
  {
   "cell_type": "code",
   "execution_count": 31,
   "id": "29f624dc",
   "metadata": {},
   "outputs": [
    {
     "data": {
      "text/html": [
       "TRUE"
      ],
      "text/latex": [
       "TRUE"
      ],
      "text/markdown": [
       "TRUE"
      ],
      "text/plain": [
       "[1] TRUE"
      ]
     },
     "metadata": {},
     "output_type": "display_data"
    }
   ],
   "source": [
    "#Disconnect\n",
    "dbDisconnect(conn)"
   ]
  },
  {
   "cell_type": "code",
   "execution_count": null,
   "id": "d801b206",
   "metadata": {},
   "outputs": [],
   "source": []
  }
 ],
 "metadata": {
  "kernelspec": {
   "display_name": "R",
   "language": "R",
   "name": "ir"
  },
  "language_info": {
   "codemirror_mode": "r",
   "file_extension": ".r",
   "mimetype": "text/x-r-source",
   "name": "R",
   "pygments_lexer": "r",
   "version": "3.6.1"
  }
 },
 "nbformat": 4,
 "nbformat_minor": 5
}

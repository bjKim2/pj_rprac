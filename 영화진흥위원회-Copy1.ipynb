{
 "cells": [
  {
   "cell_type": "markdown",
   "metadata": {},
   "source": [
    "fd5d23725f8b05cc91cbca3848ac7437"
   ]
  },
  {
   "cell_type": "markdown",
   "metadata": {},
   "source": [
    "# 작업내용\n",
    "\n",
    "- 영화진흥위원회 OpenAPI를 활용하면 현재 극장에서 상영중인 영화들에 대한 박스오피스 데이터를 조회할 수 있습니다.\n",
    "- 영화진흥원 OpenAPI를 통해 JSON 형식의 데이터를 수집하고 이를 그래프로 시각화 하는 내용을 소개합니다."
   ]
  },
  {
   "cell_type": "markdown",
   "metadata": {},
   "source": [
    "# Key 발급 받기\n",
    "\n",
    "1. 영화진흥위원회 OpenAPI 사이트에 회원가입 후 로그인을 수행한다.\n",
    " - http://www.kobis.or.kr/kobisopenapi/homepg/main/main.do\n",
    " \n",
    " \n",
    "2. 키 발급/관리 메뉴를 통해 연동에 필요한 인증키 발급받는다."
   ]
  },
  {
   "cell_type": "markdown",
   "metadata": {},
   "source": [
    "# 연동 스펙 확인하기\n",
    "http://www.kobis.or.kr/kobisopenapi/homepg/apiservice/searchServiceInfo.do 페이지를 통해 요청에 필요한 정보와 응답 형식을 확인한다."
   ]
  },
  {
   "cell_type": "code",
   "execution_count": 3,
   "metadata": {
    "vscode": {
     "languageId": "r"
    }
   },
   "outputs": [
    {
     "ename": "NameError",
     "evalue": "name 'library' is not defined",
     "output_type": "error",
     "traceback": [
      "\u001b[0;31m---------------------------------------------------------------------------\u001b[0m",
      "\u001b[0;31mNameError\u001b[0m                                 Traceback (most recent call last)",
      "\u001b[0;32m/var/folders/r9/905wglgd76v1f_n1q9jw68rr0000gn/T/ipykernel_5797/927731807.py\u001b[0m in \u001b[0;36m<module>\u001b[0;34m\u001b[0m\n\u001b[1;32m      1\u001b[0m \u001b[0;31m# 패키지 불러오기\u001b[0m\u001b[0;34m\u001b[0m\u001b[0;34m\u001b[0m\u001b[0m\n\u001b[1;32m      2\u001b[0m \u001b[0;34m\u001b[0m\u001b[0m\n\u001b[0;32m----> 3\u001b[0;31m \u001b[0mlibrary\u001b[0m\u001b[0;34m(\u001b[0m\u001b[0mhttr\u001b[0m\u001b[0;34m)\u001b[0m    \u001b[0;31m# 온라인상의 데이터를 가져오기 위한 통신 기능 패키지\u001b[0m\u001b[0;34m\u001b[0m\u001b[0;34m\u001b[0m\u001b[0m\n\u001b[0m\u001b[1;32m      4\u001b[0m \u001b[0mlibrary\u001b[0m\u001b[0;34m(\u001b[0m\u001b[0mrjson\u001b[0m\u001b[0;34m)\u001b[0m   \u001b[0;31m# JSON 처리 패키지\u001b[0m\u001b[0;34m\u001b[0m\u001b[0;34m\u001b[0m\u001b[0m\n\u001b[1;32m      5\u001b[0m \u001b[0mlibrary\u001b[0m\u001b[0;34m(\u001b[0m\u001b[0mdplyr\u001b[0m\u001b[0;34m)\u001b[0m   \u001b[0;31m# 데이터 정제 패키지\u001b[0m\u001b[0;34m\u001b[0m\u001b[0;34m\u001b[0m\u001b[0m\n",
      "\u001b[0;31mNameError\u001b[0m: name 'library' is not defined"
     ]
    }
   ],
   "source": [
    "# 패키지 불러오기\n",
    "\n",
    "library(httr)    # 온라인상의 데이터를 가져오기 위한 통신 기능 패키지\n",
    "library(rjson)   # JSON 처리 패키지\n",
    "library(dplyr)   # 데이터 정제 패키지\n",
    "library(ggplot2) # 데이터 정제 패키지"
   ]
  },
  {
   "cell_type": "markdown",
   "metadata": {},
   "source": [
    "# 데이터 수집하기"
   ]
  },
  {
   "cell_type": "markdown",
   "metadata": {},
   "source": [
    "## API 접근에 필요한 URL 구성하기"
   ]
  },
  {
   "cell_type": "markdown",
   "metadata": {},
   "source": [
    "### 요청변수로 사용할 하루 전 날짜값 만들기"
   ]
  },
  {
   "cell_type": "code",
   "execution_count": null,
   "metadata": {
    "vscode": {
     "languageId": "r"
    }
   },
   "outputs": [],
   "source": [
    "# 오늘 날짜 가져오기\n",
    "\n",
    "today <- Sys.Date()\n",
    "today"
   ]
  },
  {
   "cell_type": "code",
   "execution_count": null,
   "metadata": {
    "vscode": {
     "languageId": "r"
    }
   },
   "outputs": [],
   "source": [
    "# 날짜 계산\n",
    "\n",
    "yesterday = today-1\n",
    "yesterday"
   ]
  },
  {
   "cell_type": "code",
   "execution_count": null,
   "metadata": {},
   "outputs": [],
   "source": [
    "# 시작 날짜 \n",
    "startDt <- as.Date('2000/1/1',format =  \"%Y/%m/%d\")\n",
    "# 마지막 날짜\n",
    "endDt <- as.Date('2020/1/1',format =  \"%Y/%m/%d\")"
   ]
  },
  {
   "cell_type": "code",
   "execution_count": null,
   "metadata": {},
   "outputs": [],
   "source": [
    "while(startDt != endDt){\n",
    "    \n",
    "    print(startDt)\n",
    "    startDt <- startDt+1\n",
    "}"
   ]
  },
  {
   "cell_type": "markdown",
   "metadata": {},
   "source": [
    "### 날짜 형식 지정\n",
    "%d : 숫자형식의 날짜   \n",
    "%m : 숫자형식의 월   \n",
    "%b : 약자 형식의 월 이름   \n",
    "%B : 월에 대한 영문 이름   \n",
    "%y : 2자리 숫자 형식   \n",
    "%Y : 4자리 숫자 형식   "
   ]
  },
  {
   "cell_type": "code",
   "execution_count": null,
   "metadata": {
    "vscode": {
     "languageId": "r"
    }
   },
   "outputs": [],
   "source": [
    "targetDt <- format(yesterday, \"%Y%m%d\")\n",
    "targetDt"
   ]
  },
  {
   "cell_type": "markdown",
   "metadata": {},
   "source": [
    "## API키와 날짜를 조합하여 접속할 URL 구성"
   ]
  },
  {
   "cell_type": "code",
   "execution_count": null,
   "metadata": {
    "vscode": {
     "languageId": "r"
    }
   },
   "outputs": [],
   "source": [
    "# 영화 진흥원에서 발급받은 API키\n",
    "kobis_api_key = \"fd5d23725f8b05cc91cbca3848ac7437\"\n",
    "\n",
    "# 영화진흥원 API URL\n",
    "#kobis_api_url = \"http://www.kobis.or.kr/kobisopenapi/webservice/rest/boxoffice/searchDailyBoxOfficeList.json?key=%s&targetDt=%s&multiMovieYn=N&repNationCd=K\"\n",
    "kobis_api_url = \"http://www.kobis.or.kr/kobisopenapi/webservice/rest/boxoffice/searchDailyBoxOfficeList.json?key=%s&targetDt=%s&multiMovieYn=N&repNationCd=K\"\n",
    "\n",
    "# `%s`로 지정된 부분에 변수값을 치환하여 전체 주소 결정\n",
    "api_url <- sprintf(kobis_api_url, kobis_api_key, targetDt)\n",
    "api_url\n"
   ]
  },
  {
   "cell_type": "markdown",
   "metadata": {},
   "source": [
    "## OpenAPI와 연동하여 데이터 수집하기"
   ]
  },
  {
   "cell_type": "code",
   "execution_count": null,
   "metadata": {
    "vscode": {
     "languageId": "r"
    }
   },
   "outputs": [],
   "source": [
    "# API 접속 후 데이터 수집하기\n",
    "\n",
    "resp <- GET(api_url)\n",
    "resp\n"
   ]
  },
  {
   "cell_type": "code",
   "execution_count": null,
   "metadata": {
    "vscode": {
     "languageId": "r"
    }
   },
   "outputs": [],
   "source": [
    "# 수집 결과를 데이터프레임으로 변환\n",
    "\n",
    "# 리스트로 변환하기\n",
    "resp_dat <- content(resp, as=\"parse\", encoding=\"utf-8\")\n",
    "# 리스트에서 배열 부분만 추출하여 데이터프레임으로 변환\n",
    "resp_df <- bind_rows(resp_dat$boxOfficeResult$dailyBoxOfficeList)\n",
    "resp_df[1,]\n",
    "\n",
    "# MovieCd,MovieNm,openDt,audiCnt(해당일 관람객수),audiAcc(누적관람객수),scrnCnt(해당일 스크린수),showCnt(해당일 상영 횟수)"
   ]
  },
  {
   "cell_type": "code",
   "execution_count": null,
   "metadata": {},
   "outputs": [],
   "source": [
    "df<- data.frame(Date = as.Date(substr(resp_dat$boxOfficeResult$showRange,1,8),\"%Y%m%d\"), resp_df[,c(5,6,7,13,16,17,18)])"
   ]
  },
  {
   "cell_type": "code",
   "execution_count": null,
   "metadata": {},
   "outputs": [],
   "source": [
    "# 시작 날짜 \n",
    "startDt <- as.Date('2004/1/1',format =  \"%Y/%m/%d\")\n",
    "# 마지막 날짜\n",
    "endDt <- as.Date('2020/1/1',format =  \"%Y/%m/%d\")\n",
    "# 타겟 날짜\n",
    "targetDt <- format(startDt, \"%Y%m%d\")\n"
   ]
  },
  {
   "cell_type": "code",
   "execution_count": null,
   "metadata": {},
   "outputs": [],
   "source": [
    "# 시작날짜와 종료 날짜까지 api 받아오기\n",
    "df <- c()\n",
    "while(startDt != endDt){\n",
    "    targetDt <- format(startDt, \"%Y%m%d\")\n",
    "    \n",
    "    api_url <- sprintf(kobis_api_url, kobis_api_key, targetDt)\n",
    "    resp <- GET(api_url)\n",
    "    \n",
    "    # 리스트로 변환하기\n",
    "    resp_dat <- content(resp, as=\"parse\", encoding=\"utf-8\")\n",
    "    # 리스트에서 배열 부분만 추출하여 데이터프레임으로 변환\n",
    "    resp_df <- bind_rows(resp_dat$boxOfficeResult$dailyBoxOfficeList)\n",
    "    temp_df<- data.frame(Date = as.Date(substr(resp_dat$boxOfficeResult$showRange,1,8),\"%Y%m%d\"), resp_df[,c(5,6,7,13,16,17,18)])\n",
    "    df <- rbind(df,temp_df)\n",
    "    \n",
    "    startDt <- startDt+1\n",
    "    \n",
    "}\n"
   ]
  },
  {
   "cell_type": "code",
   "execution_count": null,
   "metadata": {},
   "outputs": [],
   "source": [
    "head(df)"
   ]
  },
  {
   "cell_type": "code",
   "execution_count": null,
   "metadata": {},
   "outputs": [],
   "source": [
    "tail(df)"
   ]
  },
  {
   "cell_type": "code",
   "execution_count": null,
   "metadata": {},
   "outputs": [],
   "source": [
    "    # 시작 날짜 \n",
    "    startDt <- as.Date('2004/1/1',format =  \"%Y/%m/%d\")\n",
    "    # 타겟 날짜\n",
    "    targetDt <- format(startDt, \"%Y%m%d\")\n",
    "\n",
    "\n",
    "    api_url <- sprintf(kobis_api_url, kobis_api_key,targetDt )\n",
    "    resp <- GET(api_url)\n",
    "    \n",
    "    # 리스트로 변환하기\n",
    "    resp_dat <- content(resp, as=\"parse\", encoding=\"utf-8\")\n",
    "    # 리스트에서 배열 부분만 추출하여 데이터프레임으로 변환\n",
    "    resp_df <- bind_rows(resp_dat$boxOfficeResult$dailyBoxOfficeList)\n",
    "    temp_df<- data.frame(Date = as.Date(substr(resp_dat$boxOfficeResult$showRange,1,8),\"%Y%m%d\"), resp_df[,c(5,6,7,13,16,17,18)])\n"
   ]
  },
  {
   "cell_type": "code",
   "execution_count": null,
   "metadata": {},
   "outputs": [],
   "source": [
    "temp_df"
   ]
  },
  {
   "cell_type": "markdown",
   "metadata": {},
   "source": [
    "# 데이터 전처리\n",
    "## 필요한 데이터만 추출\n",
    "\n",
    "영화제목과 관람객 수 데이터만 추출후 결과 확인.   \n",
    "관람객 수 데이터가 문자열(chr)임이 확인된다. 이는 숫자가 아니므로 통계값 산출이 불가능하기 때문에 변환이 필요하다."
   ]
  },
  {
   "cell_type": "code",
   "execution_count": null,
   "metadata": {
    "vscode": {
     "languageId": "r"
    }
   },
   "outputs": [],
   "source": [
    "boxoffice_df <- resp_df %>% select(movieNm, audiCnt)\n",
    "boxoffice_df"
   ]
  },
  {
   "cell_type": "code",
   "execution_count": null,
   "metadata": {
    "vscode": {
     "languageId": "r"
    }
   },
   "outputs": [],
   "source": [
    "# 관람객 수 데이터 타입을 integer로 변경\n",
    "\n",
    "boxoffice_df$audiCnt <- as.integer(boxoffice_df$audiCnt)\n",
    "boxoffice_df"
   ]
  },
  {
   "cell_type": "code",
   "execution_count": null,
   "metadata": {
    "vscode": {
     "languageId": "r"
    }
   },
   "outputs": [],
   "source": [
    "# 컬럼이름 변경\n",
    "\n",
    "movie_audience_df <- rename(boxoffice_df, '영화제목'=movieNm, '관람객수'=audiCnt)\n",
    "movie_audience_df"
   ]
  },
  {
   "cell_type": "markdown",
   "metadata": {},
   "source": [
    "# 데이터 시각화"
   ]
  },
  {
   "cell_type": "code",
   "execution_count": null,
   "metadata": {
    "vscode": {
     "languageId": "r"
    }
   },
   "outputs": [],
   "source": [
    "# 시각화 환경 설정\n",
    "\n",
    "options(repr.plot.width=20, repr.plot.height=10, warn=-1)"
   ]
  },
  {
   "cell_type": "code",
   "execution_count": null,
   "metadata": {
    "vscode": {
     "languageId": "r"
    }
   },
   "outputs": [],
   "source": [
    "ggplot(data=movie_audience_df) +\n",
    "    geom_col(aes(x=영화제목, y=관람객수, fill=영화제목)) +\n",
    "    # 가로 막대 그래프로 설정\n",
    "    coord_flip() +\n",
    "    # 배경을 흰색으로 설정\n",
    "    theme_bw() +\n",
    "    # 그래프 타이틀 설정\n",
    "    ggtitle(sprintf(\"%s 영화별 관람객 수\", yesterday)) +\n",
    "    # x축 제목 설정\n",
    "    xlab(\"영화제목\") +\n",
    "    # y축 제목 설정\n",
    "    ylab(\"관람객수\") +\n",
    "    # y축 값의 간격 및 세자리마다 콤마 적용\n",
    "    scale_y_continuous(breaks=seq(0, max(movie_audience_df$관람객수), 20000), labels=scales::comma) +\n",
    "    # 각 텍스트의 색상, 크기, 각도, 글꼴 설정\n",
    "    theme(plot.title=element_text(family=\"NanumGothic\", color=\"#0066ff\", size=25, face=\"bold\", hjust=0.5),\n",
    "          axis.title.x=element_text(family=\"NanumGothic\", color=\"#999999\", size=18, face=\"bold\"),\n",
    "          axis.title.y=element_text(family=\"NanumGothic\", color=\"#999999\", size=18, face=\"bold\"),\n",
    "          axis.text.x=element_text(family=\"NanumGothic\", color=\"#000000\", size=16, angle=0),\n",
    "          axis.text.y=element_text(family=\"NanumGothic\", color=\"#000000\", size=16, angle=0)) +\n",
    "    # 범례 지우기\n",
    "    theme(legend.position = \"none\")"
   ]
  },
  {
   "cell_type": "code",
   "execution_count": null,
   "metadata": {
    "vscode": {
     "languageId": "r"
    }
   },
   "outputs": [],
   "source": [
    "read.csv(\"\")"
   ]
  },
  {
   "cell_type": "code",
   "execution_count": null,
   "metadata": {},
   "outputs": [],
   "source": []
  },
  {
   "cell_type": "code",
   "execution_count": null,
   "metadata": {},
   "outputs": [],
   "source": []
  },
  {
   "cell_type": "code",
   "execution_count": null,
   "metadata": {},
   "outputs": [],
   "source": []
  }
 ],
 "metadata": {
  "kernelspec": {
   "display_name": "Python 3 (ipykernel)",
   "language": "python",
   "name": "python3"
  },
  "language_info": {
   "codemirror_mode": {
    "name": "ipython",
    "version": 3
   },
   "file_extension": ".py",
   "mimetype": "text/x-python",
   "name": "python",
   "nbconvert_exporter": "python",
   "pygments_lexer": "ipython3",
   "version": "3.8.2"
  }
 },
 "nbformat": 4,
 "nbformat_minor": 4
}
